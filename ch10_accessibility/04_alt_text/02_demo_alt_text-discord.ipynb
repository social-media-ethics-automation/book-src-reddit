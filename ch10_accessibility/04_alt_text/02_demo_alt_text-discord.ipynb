{
 "cells": [
  {
   "cell_type": "markdown",
   "id": "574eeeee-eb48-4af0-9815-6b10faa827a9",
   "metadata": {},
   "source": [
    "# Demo: Alt-text From Discord"
   ]
  },
  {
   "cell_type": "markdown",
   "id": "c3ce7407-739d-44bf-b2cc-04b7bf90854a",
   "metadata": {},
   "source": [
    "Let's search for images and look up some alt-text on images posted to Discord\n",
    "\n",
    "First we need to do our normal Discord login steps (and optional fake discord step)\n",
    "## Discord Setup"
   ]
  },
  {
   "cell_type": "code",
   "execution_count": 11,
   "id": "69e7ddc2-9002-4f26-a2f6-5ffdf1f57148",
   "metadata": {},
   "outputs": [],
   "source": [
    "# Load some code called \"discord\" that will help us work with Discord\n",
    "import discord\n",
    "\n",
    "# Load another library that helps the bot work in Jupyter Noteboook\n",
    "import nest_asyncio\n",
    "nest_asyncio.apply()"
   ]
  },
  {
   "cell_type": "markdown",
   "id": "d1742beb-93e8-4aee-b05b-1c9cfd00f2df",
   "metadata": {},
   "source": [
    "(optional) make a fake Discord connection with the fake_discord library"
   ]
  },
  {
   "cell_type": "code",
   "execution_count": 12,
   "id": "4a5ce7eb-efc0-4db0-8874-ea789ab00380",
   "metadata": {},
   "outputs": [
    {
     "data": {
      "text/html": [
       "<strong style='color:darkred'>Fake discord is replacing the discord.py library. Fake discord doesn&#x27;t need real passwords, and prevents you from accessing real discord</strong>"
      ],
      "text/plain": [
       "<IPython.core.display.HTML object>"
      ]
     },
     "metadata": {},
     "output_type": "display_data"
    }
   ],
   "source": [
    "%run ../../fake_apis/fake_discord.ipynb"
   ]
  },
  {
   "cell_type": "code",
   "execution_count": 13,
   "id": "a0b93d03-e89b-43cf-8e35-4f30401b6b49",
   "metadata": {},
   "outputs": [],
   "source": [
    "# Set up your Discord connection\n",
    "# TODO: put the discord token for your bot below\n",
    "discord_token = \"m#5@_fake_discord_token_$%Ds\"\n",
    "\n",
    "# set up Discord client with permissions to read message_contents\n",
    "intents = discord.Intents.default()\n",
    "intents.message_content = True "
   ]
  },
  {
   "cell_type": "markdown",
   "id": "02d9aa20-7d02-465d-a90b-bcb48672ff7b",
   "metadata": {},
   "source": [
    "## Load posts from a discord channel\n",
    "We'll load a set of posts from a discord channel (if you are doing this on real discord, you'll have to put the correct `channel_id` in the code). Hopefully the posts will have some images."
   ]
  },
  {
   "cell_type": "code",
   "execution_count": 14,
   "id": "ef93c51e-32ff-4970-9772-8a26ea9993a9",
   "metadata": {},
   "outputs": [
    {
     "data": {
      "text/html": [
       "<strong style='color:darkred'>Fake discord is pretending to set up a client connection</strong>"
      ],
      "text/plain": [
       "<IPython.core.display.HTML object>"
      ]
     },
     "metadata": {},
     "output_type": "display_data"
    },
    {
     "data": {
      "text/html": [
       "<strong style='color:darkred'>Fake discord bot is fake logging in and starting to run</strong>"
      ],
      "text/plain": [
       "<IPython.core.display.HTML object>"
      ]
     },
     "metadata": {},
     "output_type": "display_data"
    },
    {
     "data": {
      "text/html": [
       "<strong style='color:darkred'>Fake discord bot is shutting down</strong>"
      ],
      "text/plain": [
       "<IPython.core.display.HTML object>"
      ]
     },
     "metadata": {},
     "output_type": "display_data"
    }
   ],
   "source": [
    "# set up discord connection\n",
    "client = discord.Client(intents=intents)\n",
    "\n",
    "# TODO: put the discord channel id number below for the channel you want to use\n",
    "channel_id = 123456789\n",
    "\n",
    "# Provide instructions for what your discord bot should do once it has logged in\n",
    "@client.event\n",
    "async def on_ready():\n",
    "    global recent_posts # Save the recent_posts variable outside our running bot\n",
    "    \n",
    "    # Load the discord channel you want to post to\n",
    "    channel = client.get_channel(channel_id)\n",
    "\n",
    "    # Get the latest post in the channel history\n",
    "    post_history = channel.history(limit=10)\n",
    "    \n",
    "    #special code to turn the post_history from discord into a python list\n",
    "    recent_posts = [post async for post in post_history]\n",
    "\n",
    "    # Tell your bot to stop running\n",
    "    await client.close()\n",
    "    \n",
    "# Now that we've defined how the bot shoould work, start running your bot\n",
    "client.run(discord_token)"
   ]
  },
  {
   "cell_type": "markdown",
   "id": "f636fea0-15f5-4cd7-846b-9d2dc12ad723",
   "metadata": {},
   "source": [
    "## display alt-text of any images we find in those posts\n",
    "To see alt-text in posts, we check the \"attachments\" for embedded information (which might be images). If it does, then we display info about the post, and loop through the attachements (which may be images), display the alt-text description and a link to the attachment."
   ]
  },
  {
   "cell_type": "code",
   "execution_count": 15,
   "id": "24f94ea8-2917-4120-b8a6-b60b3c5d8be1",
   "metadata": {},
   "outputs": [
    {
     "name": "stdout",
     "output_type": "stream",
     "text": [
      "Post by fake_user:\n",
      " ---- \n",
      " - Content: Breaking news: A lovely cat took a nice long nap today!\n",
      "  ---- \n",
      "  - attachment content type: image/png\n",
      "  - alt text (description): a peaceful cat\n",
      "  - img link (proxy_url): fake_cat1.jpg\n",
      "  ---- \n",
      "  - attachment content type: image/png\n",
      "  - alt text (description): another view of a peaceful cat, sleeping on a couch in a sunbeam\n",
      "  - img link (proxy_url): fake_cat2.jpg\n",
      "---------------------------------------\n",
      "\n",
      "Post by pretend_user:\n",
      " ---- \n",
      " - Content: Breaking news: Someone said a really mean thing on the internet today!\n",
      "  ---- \n",
      "  - attachment content type: image/png\n",
      "  - alt text (description): None\n",
      "  - img link (proxy_url): img1.jpg\n",
      "---------------------------------------\n",
      "\n",
      "Post by not_real_user:\n",
      " ---- \n",
      " - Content: Breaking news: All the horrors of the universe revealed at last!\n",
      "  ---- \n",
      "  - attachment content type: image/png\n",
      "  - alt text (description): eldritch horror\n",
      "  - img link (proxy_url): img2.jpg\n",
      "---------------------------------------\n",
      "\n"
     ]
    }
   ],
   "source": [
    "for post in recent_posts:\n",
    "    if(len(post.attachments) > 0):\n",
    "        print(\"Post by \" + post.author.display_name + \":\")\n",
    "        print(\" ---- \")\n",
    "        print(\" - Content: \" + post.content)\n",
    "        \n",
    "        for attachment in post.attachments:\n",
    "            print(\"  ---- \")\n",
    "            print(\"  - attachment content type: \" + str(attachment.content_type))\n",
    "            print(\"  - alt text (description): \" + str(attachment.description))\n",
    "            print(\"  - img link (proxy_url): \" + str(attachment.proxy_url))\n",
    "\n",
    "        print(\"---------------------------------------\")\n",
    "        \n",
    "        print()"
   ]
  },
  {
   "cell_type": "markdown",
   "id": "79f0bd43-28c8-42e8-9ace-380f43bfd504",
   "metadata": {},
   "source": [
    "## What alt-texts do you find helpful?\n",
    "In the above output, you are in a position where you can read the alt-text of the image, but you can't see the image (unless you open up the actual posts, which if you are looking at the fake_discord output, there are no actual posts).\n",
    "\n",
    "Without seeing the images you can hopefully see what makes alt-text useful or not. Posts without alt-text will be hard to make sense of, and some alt text on photos might tell you information about the photo, but not the information you need."
   ]
  },
  {
   "cell_type": "code",
   "execution_count": null,
   "id": "e3d33f58-ed6f-4e3f-9b2e-1bc1b10b69d3",
   "metadata": {},
   "outputs": [],
   "source": []
  }
 ],
 "metadata": {
  "kernelspec": {
   "display_name": "Python 3 (ipykernel)",
   "language": "python",
   "name": "python3"
  },
  "language_info": {
   "codemirror_mode": {
    "name": "ipython",
    "version": 3
   },
   "file_extension": ".py",
   "mimetype": "text/x-python",
   "name": "python",
   "nbconvert_exporter": "python",
   "pygments_lexer": "ipython3",
   "version": "3.10.4"
  },
  "vscode": {
   "interpreter": {
    "hash": "369f2c481f4da34e4445cda3fffd2e751bd1c4d706f27375911949ba6bb62e1c"
   }
  }
 },
 "nbformat": 4,
 "nbformat_minor": 5
}
