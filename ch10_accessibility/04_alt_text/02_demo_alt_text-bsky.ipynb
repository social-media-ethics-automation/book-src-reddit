{
 "cells": [
  {
   "cell_type": "markdown",
   "id": "574eeeee-eb48-4af0-9815-6b10faa827a9",
   "metadata": {},
   "source": [
    "# Demo: Alt-text From Bluesky"
   ]
  },
  {
   "cell_type": "markdown",
   "id": "c3ce7407-739d-44bf-b2cc-04b7bf90854a",
   "metadata": {},
   "source": [
    "Let's search for images and look up some alt-text on images posted to Bluesky\n",
    "\n",
    "First we need to do our normal Bluesky login steps (and optional fake atproto step)\n",
    "## Log into atproto (or fake atproto)\n",
    "### Load atproto library"
   ]
  },
  {
   "cell_type": "code",
   "execution_count": 25,
   "id": "69e7ddc2-9002-4f26-a2f6-5ffdf1f57148",
   "metadata": {},
   "outputs": [],
   "source": [
    "# Load some code called \"Client\" from the \"atproto\" library that will help us work with Bluesky\n",
    "from atproto import Client"
   ]
  },
  {
   "cell_type": "markdown",
   "id": "d1742beb-93e8-4aee-b05b-1c9cfd00f2df",
   "metadata": {},
   "source": [
    "### (Optional) Step 1b: Make a fake Bluesky connection with the fake_atproto library\n",
    "For testing purposes, we\"ve added this line of code, which loads a fake version of atproto, so it wont actually connect to Bluesky. __If you want to try to actually connect to Bluesky, don't run this line of code.__"
   ]
  },
  {
   "cell_type": "code",
   "execution_count": 26,
   "id": "4a5ce7eb-efc0-4db0-8874-ea789ab00380",
   "metadata": {},
   "outputs": [
    {
     "data": {
      "text/html": [
       "<strong style='color:darkred'>Fake atproto (bsky.app) is replacing the atproto.blue library. Fake atproto doesn&#x27;t need real passwords, and prevents you from accessing real Bluesky</strong>"
      ],
      "text/plain": [
       "<IPython.core.display.HTML object>"
      ]
     },
     "metadata": {},
     "output_type": "display_data"
    }
   ],
   "source": [
    "%run ../../fake_apis/fake_atproto.ipynb"
   ]
  },
  {
   "cell_type": "markdown",
   "id": "19ef1663-b711-4793-b851-6dffa78a9a85",
   "metadata": {},
   "source": [
    "### Step 2: Login to Bluesky\n",
    "To use this on your real Bluesky account, copy your [bluesky account name and login](../../appendix/making_bot_account.md) into the code below, replacing our fake bluesky name and password."
   ]
  },
  {
   "cell_type": "code",
   "execution_count": 27,
   "id": "a0b93d03-e89b-43cf-8e35-4f30401b6b49",
   "metadata": {},
   "outputs": [
    {
     "data": {
      "text/html": [
       "<strong style='color:darkred'>Fake atproto is pretending to set up a client connection to: https://bsky.social</strong>"
      ],
      "text/plain": [
       "<IPython.core.display.HTML object>"
      ]
     },
     "metadata": {},
     "output_type": "display_data"
    },
    {
     "data": {
      "text/html": [
       "<strong style='color:darkred'>Fake atproto is pretending log into your account: your_account_name.bsky.social</strong>"
      ],
      "text/plain": [
       "<IPython.core.display.HTML object>"
      ]
     },
     "metadata": {},
     "output_type": "display_data"
    }
   ],
   "source": [
    "# Login to Bluesky\n",
    "# TODO: put your account name and password below\n",
    "\n",
    "client = Client(base_url=\"https://bsky.social\")\n",
    "client.login(\"your_account_name.bsky.social\", \"m#5@_fake_bsky_password_$%Ds\")"
   ]
  },
  {
   "cell_type": "markdown",
   "id": "02d9aa20-7d02-465d-a90b-bcb48672ff7b",
   "metadata": {},
   "source": [
    "## Get alt text from a search of posts\n",
    "### search posts\n",
    "First we do a search to find some bluesky posts. We have two example searches, one for \"news\" and one for posts made by the UW iSchool account that contain the text \"UW\"."
   ]
  },
  {
   "cell_type": "code",
   "execution_count": 28,
   "id": "ef93c51e-32ff-4970-9772-8a26ea9993a9",
   "metadata": {},
   "outputs": [],
   "source": [
    "# Search posts for the text \"news\"\n",
    "posts = client.app.bsky.feed.search_posts({'q': \"news\"}).posts\n",
    "\n",
    "# Alternatively search posts that include text \"UW\" from the user \"uwischool.bsky.social\"\n",
    "#posts = client.app.bsky.feed.search_posts({'q': \"UW\", 'author': \"uwischool.bsky.social\"}).posts"
   ]
  },
  {
   "cell_type": "markdown",
   "id": "f636fea0-15f5-4cd7-846b-9d2dc12ad723",
   "metadata": {},
   "source": [
    "### display alt-text of images in search results\n",
    "To see alt-text in posts, we check the \"embed\" for embedded information (such as images) and see if it contains information on \"images\". If it does, then we display info about the post, and loop through the images, display the image alt-text and a link to the thumbnail image."
   ]
  },
  {
   "cell_type": "code",
   "execution_count": 29,
   "id": "5da934f7-54e3-4ddf-a6f2-04917755a809",
   "metadata": {},
   "outputs": [
    {
     "name": "stdout",
     "output_type": "stream",
     "text": [
      "Post by fake_user.bsky.social:\n",
      " ---- \n",
      " - Text: Breaking news: A lovely cat took a nice long nap today!\n",
      "  ---- \n",
      "  - alt text: a peaceful cat\n",
      "  - img link (thumbnail): fake_cat1.jpg\n",
      "  ---- \n",
      "  - alt text: another view of a peaceful cat\n",
      "  - img link (thumbnail): fake_cat2.jpg\n",
      "---------------------------------------\n",
      "Post by imaginary_user.bsky.social:\n",
      " ---- \n",
      " - Text: Breaking news: Some grandparents made some yummy cookies for all the kids to share!\n",
      "  ---- \n",
      "  - alt text: \n",
      "  - img link (thumbnail): img1.jpg\n",
      "---------------------------------------\n",
      "Post by mysterious_user.bsky.social:\n",
      " ---- \n",
      " - Text: Breaking news: All the horrors of the universe revealed at last!\n",
      "  ---- \n",
      "  - alt text: eldritch horror\n",
      "  - img link (thumbnail): img2.jpg\n",
      "---------------------------------------\n"
     ]
    }
   ],
   "source": [
    "for post in posts:\n",
    "    if(hasattr(post.embed, \"images\")):\n",
    "        images = post.embed.images\n",
    "\n",
    "        print(\"Post by \" + post.author.handle + \":\")\n",
    "        print(\" ---- \")\n",
    "        print(\" - Text: \" + post.record.text)\n",
    "            \n",
    "        for image in images:\n",
    "            print(\"  ---- \")\n",
    "            print(\"  - alt text: \" + image.alt)\n",
    "            print(\"  - img link (thumbnail): \" + image.thumb)\n",
    "\n",
    "        print(\"---------------------------------------\")"
   ]
  },
  {
   "cell_type": "markdown",
   "id": "320b8f37-b200-4564-9686-49bcd776d16e",
   "metadata": {},
   "source": [
    "## Get alt text from a feeds\n",
    "### load feed\n",
    "First we do a search to find some bluesky posts. We have two example feeds, the \"Animal\" feed and the \"What's hot\" feed."
   ]
  },
  {
   "cell_type": "code",
   "execution_count": 32,
   "id": "c656be88-e0de-428d-bc18-6623e7e38b14",
   "metadata": {},
   "outputs": [],
   "source": [
    "# \"Animal\" feed\n",
    "feed = client.app.bsky.feed.get_feed({'feed': 'at://did:plc:2m44csq7rgph66s2kltbypxh/app.bsky.feed.generator/aaab56iiatpdo'}).feed\n",
    "\n",
    "# \"What's Hot\" feed\n",
    "# feed = client.app.bsky.feed.get_feed({'feed': 'at://did:plc:z72i7hdynmk6r22z27h6tvur/app.bsky.feed.generator/whats-hot'}).feed"
   ]
  },
  {
   "cell_type": "markdown",
   "id": "34cfc94e-3da2-4bc5-aae3-d8d35499a940",
   "metadata": {},
   "source": [
    "### display alt-text of images in search results\n",
    "To see alt-text in posts, we check the \"embed\" for embedded information (such as images) and see if it contains information on \"images\". If it does, then we display info about the post, and loop through the images, display the image alt-text and a link to the thumbnail image."
   ]
  },
  {
   "cell_type": "code",
   "execution_count": 33,
   "id": "08af228e-bc86-47e0-aef2-d9fecf5c74ad",
   "metadata": {},
   "outputs": [
    {
     "name": "stdout",
     "output_type": "stream",
     "text": [
      "Post by fake_user.bsky.social:\n",
      " ---- \n",
      " - Text: Look at my cute dog!\n",
      "  ---- \n",
      "  - alt text: my fluffy white dog looking confused\n",
      "  - img link (thumbnail): fake_dog1.jpg\n",
      "  ---- \n",
      "  - alt text: my fluffy white dog sleeping peacefully\n",
      "  - img link (thumbnail): fake_dog2.jpg\n",
      "---------------------------------------\n",
      "Post by imaginary_user.bsky.social:\n",
      " ---- \n",
      " - Text: Look at my cute cat!\n",
      "  ---- \n",
      "  - alt text: \n",
      "  - img link (thumbnail): fake_cat.jpg\n",
      "---------------------------------------\n"
     ]
    }
   ],
   "source": [
    "for postInfo in feed:\n",
    "    post = postInfo.post\n",
    "    if(hasattr(post.embed, \"images\")):\n",
    "        images = post.embed.images\n",
    "\n",
    "        print(\"Post by \" + post.author.handle + \":\")\n",
    "        print(\" ---- \")\n",
    "        print(\" - Text: \" + post.record.text)\n",
    "            \n",
    "        for image in images:\n",
    "            print(\"  ---- \")\n",
    "            print(\"  - alt text: \" + image.alt)\n",
    "            print(\"  - img link (thumbnail): \" + image.thumb)\n",
    "\n",
    "        print(\"---------------------------------------\")"
   ]
  },
  {
   "cell_type": "markdown",
   "id": "79f0bd43-28c8-42e8-9ace-380f43bfd504",
   "metadata": {},
   "source": [
    "## What alt-texts do you find helpful?\n",
    "In the above output, you are in a position where you can read the alt-text of the image, but you can't see the image (unless you open up the links, which if you are looking at the fake_atproto output, there are no actual posts).\n",
    "\n",
    "Without seeing the images you can hopefully see what makes alt-text useful or not. Posts without alt-text will be hard to make sense of, and some alt text on photos might tell you information about the photo, but not the information you need."
   ]
  }
 ],
 "metadata": {
  "kernelspec": {
   "display_name": "Python 3 (ipykernel)",
   "language": "python",
   "name": "python3"
  },
  "language_info": {
   "codemirror_mode": {
    "name": "ipython",
    "version": 3
   },
   "file_extension": ".py",
   "mimetype": "text/x-python",
   "name": "python",
   "nbconvert_exporter": "python",
   "pygments_lexer": "ipython3",
   "version": "3.10.4"
  },
  "vscode": {
   "interpreter": {
    "hash": "369f2c481f4da34e4445cda3fffd2e751bd1c4d706f27375911949ba6bb62e1c"
   }
  }
 },
 "nbformat": 4,
 "nbformat_minor": 5
}
