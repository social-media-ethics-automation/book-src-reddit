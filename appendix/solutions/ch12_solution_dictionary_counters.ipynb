{
 "cells": [
  {
   "cell_type": "markdown",
   "id": "574eeeee-eb48-4af0-9815-6b10faa827a9",
   "metadata": {},
   "source": [
    "# Ch 12 Solution: Dictionary Counters\n",
    "\n",
    "Now it's your turn to practice dictionary counters\n",
    "\n",
    "1. Copy the code from the demo that counts letters in a string. Modify the string to be something else and find the letter_counts (no need to sort)"
   ]
  },
  {
   "cell_type": "code",
   "execution_count": 1,
   "id": "50d7fb67-a970-4e7a-a722-6062201ee44c",
   "metadata": {},
   "outputs": [
    {
     "data": {
      "text/plain": [
       "'total letter counts are:'"
      ]
     },
     "metadata": {},
     "output_type": "display_data"
    },
    {
     "data": {
      "text/plain": [
       "{'y': 1, 'o': 1, 'u': 1, 'r': 2, ' ': 2, 't': 2, 'e': 3, 'x': 1, 'h': 1}"
      ]
     },
     "metadata": {},
     "output_type": "display_data"
    }
   ],
   "source": [
    "# create a dictionary counter before the loop\n",
    "# it has no entries, since we have seen no letters yet\n",
    "letter_counts = {}\n",
    "\n",
    "# go through each letter in the string\n",
    "for letter in \"your text here\":\n",
    "    if letter not in letter_counts: # If there is no entry for this letter yet \n",
    "        letter_counts[letter] = 1   # then make an entry set to 1\n",
    "    else: # otherwise, there was an entry\n",
    "        letter_counts[letter] += 1  # so add one to that entry\n",
    "\n",
    "# we now have the total number of letters\n",
    "display(\"total letter counts are:\")\n",
    "display(letter_counts)"
   ]
  },
  {
   "cell_type": "markdown",
   "id": "58884768-d9f1-4e25-8cc7-f77eb5776846",
   "metadata": {},
   "source": [
    "Now let's try this with words.\n",
    "\n",
    "The code below makes a string, and then splits it into words by dividing it apart at each space."
   ]
  },
  {
   "cell_type": "code",
   "execution_count": 3,
   "id": "3cd1d341-38d4-4634-9bef-4b8b93eacf7d",
   "metadata": {},
   "outputs": [
    {
     "name": "stdout",
     "output_type": "stream",
     "text": [
      "['some', 'say', 'the', 'world', 'will', 'end', 'in', 'fire', 'some', 'say', 'in', 'ice', 'from', 'what', 'i’ve', 'tasted', 'of', 'desire', 'i', 'hold', 'with', 'those', 'who', 'favor', 'fire', 'but', 'if', 'it', 'had', 'to', 'perish', 'twice', 'i', 'think', 'i', 'know', 'enough', 'of', 'hate', 'to', 'say', 'that', 'for', 'destruction', 'ice', 'is', 'also', 'great', 'and', 'would', 'suffice']\n"
     ]
    }
   ],
   "source": [
    "# Save a poem into a string (we can use \"\"\" to make a multiline string)\n",
    "# Fire and Ice BY ROBERT FROST (now public domain)\n",
    "poem = \"\"\"Some say the world will end in fire,\n",
    "Some say in ice.\n",
    "From what I’ve tasted of desire\n",
    "I hold with those who favor fire.\n",
    "But if it had to perish twice,\n",
    "I think I know enough of hate\n",
    "To say that for destruction ice\n",
    "Is also great\n",
    "And would suffice.\"\"\"\n",
    "\n",
    "# split the string (all lowercase) into words\n",
    "import re # import the Regular Expressions library, to help us split words\n",
    "\n",
    "#make the poem all lowercase\n",
    "lower_case_poem = poem.lower()\n",
    "\n",
    "# split the poem into pieces at all spaces and newlines (\\s), and ,'s and .'s\n",
    "poem_split_by_spaces_and_punctuation = re.split((\"[\\s,.]\"), lower_case_poem)\n",
    "\n",
    "# get rid of some empty strings \"\" that ended up in our list\n",
    "split_poem = list(filter(None, poem_split_by_spaces_and_punctuation))\n",
    "\n",
    "print(split_poem)"
   ]
  },
  {
   "cell_type": "markdown",
   "id": "70069d7b-2cc5-4e74-af2c-898a541ca238",
   "metadata": {},
   "source": [
    "2. Make code that counts how often each word appears in `split_poem` (it should be very similar to the code from problem 1 above, but you should have `word_counts` instead of `letter_counts`, and you should loop over `word`s instead of `letter`s)"
   ]
  },
  {
   "cell_type": "code",
   "execution_count": 5,
   "id": "3844fbd2-3a58-4ca3-862f-aea5e6f7b885",
   "metadata": {},
   "outputs": [
    {
     "data": {
      "text/plain": [
       "'total word counts are:'"
      ]
     },
     "metadata": {},
     "output_type": "display_data"
    },
    {
     "data": {
      "text/plain": [
       "{'some': 2,\n",
       " 'say': 3,\n",
       " 'the': 1,\n",
       " 'world': 1,\n",
       " 'will': 1,\n",
       " 'end': 1,\n",
       " 'in': 2,\n",
       " 'fire': 2,\n",
       " 'ice': 2,\n",
       " 'from': 1,\n",
       " 'what': 1,\n",
       " 'i’ve': 1,\n",
       " 'tasted': 1,\n",
       " 'of': 2,\n",
       " 'desire': 1,\n",
       " 'i': 3,\n",
       " 'hold': 1,\n",
       " 'with': 1,\n",
       " 'those': 1,\n",
       " 'who': 1,\n",
       " 'favor': 1,\n",
       " 'but': 1,\n",
       " 'if': 1,\n",
       " 'it': 1,\n",
       " 'had': 1,\n",
       " 'to': 2,\n",
       " 'perish': 1,\n",
       " 'twice': 1,\n",
       " 'think': 1,\n",
       " 'know': 1,\n",
       " 'enough': 1,\n",
       " 'hate': 1,\n",
       " 'that': 1,\n",
       " 'for': 1,\n",
       " 'destruction': 1,\n",
       " 'is': 1,\n",
       " 'also': 1,\n",
       " 'great': 1,\n",
       " 'and': 1,\n",
       " 'would': 1,\n",
       " 'suffice': 1}"
      ]
     },
     "metadata": {},
     "output_type": "display_data"
    }
   ],
   "source": [
    "# create a dictionary counter before the loop\n",
    "# it has no entries, since we have seen no words yet\n",
    "word_counts = {}\n",
    "\n",
    "# go through each word in the list of words\n",
    "for word in split_poem:\n",
    "    if word not in word_counts: # If there is no entry for this word yet \n",
    "        word_counts[word] = 1   # then make an entry set to 1\n",
    "    else: # otherwise, there was an entry\n",
    "        word_counts[word] += 1  # so add one to that entry\n",
    "\n",
    "# we now have the total number of words\n",
    "display(\"total word counts are:\")\n",
    "display(word_counts)"
   ]
  },
  {
   "cell_type": "code",
   "execution_count": null,
   "id": "d771dc73-9a2a-4111-83f1-cf7a86acee5a",
   "metadata": {},
   "outputs": [],
   "source": []
  }
 ],
 "metadata": {
  "kernelspec": {
   "display_name": "Python 3 (ipykernel)",
   "language": "python",
   "name": "python3"
  },
  "language_info": {
   "codemirror_mode": {
    "name": "ipython",
    "version": 3
   },
   "file_extension": ".py",
   "mimetype": "text/x-python",
   "name": "python",
   "nbconvert_exporter": "python",
   "pygments_lexer": "ipython3",
   "version": "3.10.4"
  }
 },
 "nbformat": 4,
 "nbformat_minor": 5
}
