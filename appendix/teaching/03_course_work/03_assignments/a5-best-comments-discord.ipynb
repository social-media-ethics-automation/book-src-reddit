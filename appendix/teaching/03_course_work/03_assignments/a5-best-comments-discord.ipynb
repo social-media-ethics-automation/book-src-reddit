{
 "cells": [
  {
   "cell_type": "markdown",
   "id": "0cd4388e-b71c-4bd1-a60e-d2ef3933f3de",
   "metadata": {},
   "source": [
    "# A5: Best Comments"
   ]
  },
  {
   "cell_type": "markdown",
   "id": "5fdfe7cf-3641-4919-9d56-f3b8c74b7b96",
   "metadata": {},
   "source": [
    "In this assignment you will be modifying a recursive function that prints a posts and replies on a discord channel (ignoring threads). Your goal will be to only show the best posts and replies. It will be up to you to decide what rules you use to decide which posts are the best posts."
   ]
  },
  {
   "cell_type": "markdown",
   "id": "cb900b5a-c199-47b8-95a9-417d44a786ab",
   "metadata": {
    "tags": []
   },
   "source": [
    "## Discord Setup"
   ]
  },
  {
   "cell_type": "code",
   "execution_count": 34,
   "id": "883641dc-a5a4-47d7-ba9c-3532e9df58d8",
   "metadata": {},
   "outputs": [],
   "source": [
    "# Load some code called \"discord\" that will help us work with Discord\n",
    "import discord\n",
    "\n",
    "# Load another library that helps the bot work in Jupyter Noteboook\n",
    "import nest_asyncio\n",
    "nest_asyncio.apply()"
   ]
  },
  {
   "cell_type": "markdown",
   "id": "d79b884c-8d7a-491a-85d1-11000a6c6761",
   "metadata": {},
   "source": [
    "(optional) make a fake Discord connection with the fake_discord library\n",
    "\n",
    "For testing purposes, we've added this line of code, which loads a fake version of discord, so it wont actually connect to Discord. __If you want to try to actually connect to Discord, don't run this line of code.__"
   ]
  },
  {
   "cell_type": "code",
   "execution_count": 35,
   "id": "08d76705-6d6b-4909-8503-c333380f8355",
   "metadata": {},
   "outputs": [
    {
     "data": {
      "text/html": [
       "<strong style='color:darkred'>Fake discord is replacing the discord.py library. Fake discord doesn&#x27;t need real passwords, and prevents you from accessing real discord</strong>"
      ],
      "text/plain": [
       "<IPython.core.display.HTML object>"
      ]
     },
     "metadata": {},
     "output_type": "display_data"
    }
   ],
   "source": [
    "%run ../../../../fake_apis/fake_discord.ipynb"
   ]
  },
  {
   "cell_type": "code",
   "execution_count": 36,
   "id": "d42b7010-2690-4efb-b404-02682e39b559",
   "metadata": {},
   "outputs": [],
   "source": [
    "%run discord_keys.py"
   ]
  },
  {
   "cell_type": "code",
   "execution_count": 37,
   "id": "9c7a1f06-fb4d-4ce6-bd0b-de421420a198",
   "metadata": {},
   "outputs": [],
   "source": [
    "# set up Discord client with permissions to read message_contents\n",
    "intents = discord.Intents.default()\n",
    "intents.message_content = True "
   ]
  },
  {
   "cell_type": "markdown",
   "id": "da45bc67-b72b-45ef-8f70-7eedf9261945",
   "metadata": {},
   "source": [
    "### Helper function to display text in an indented box\n",
    "(You don't need to worry about how this works. This is that function that helps display posts in indented boxes)"
   ]
  },
  {
   "cell_type": "code",
   "execution_count": 38,
   "id": "98574fd2-9380-4653-8b42-d5f00fd634c3",
   "metadata": {},
   "outputs": [],
   "source": [
    "from IPython.display import HTML, Image, display\n",
    "import html\n",
    "def display_indented(text, left_margin=0, color=\"white\"):\n",
    "    display(\n",
    "        HTML(\n",
    "            \"<pre style='border:solid 1px;padding:3px;margin-left:\"+str(left_margin)+\"px;background-color:\"+color+\"'>\" + \n",
    "            html.escape(text) + \n",
    "            \"</pre>\"\n",
    "        )\n",
    "    )"
   ]
  },
  {
   "cell_type": "markdown",
   "id": "9ad2fe18-15fd-48a1-b5df-de84a2645aa8",
   "metadata": {},
   "source": [
    "### Helper function to reconstruct reply tree\n",
    "(You don't need to worry about how this works. This is that function that helps take the list of posts from the channel history and organize it into a proper reply tree structure)"
   ]
  },
  {
   "cell_type": "code",
   "execution_count": 39,
   "id": "ec40aac1-5817-4015-b8ed-5de8c8ea6ec2",
   "metadata": {},
   "outputs": [],
   "source": [
    "async def reconstruct_reply_tree(recent_posts):\n",
    "    # make a post + replies entry for each post (replies empty for now)\n",
    "    posts_with_replies_info = [{\"post\": recent_post, \"replies\": []} for recent_post in recent_posts]\n",
    "    \n",
    "    # create look-up dictionary for the post+replies entries based on the post id\n",
    "    post_with_replies_lookup = {post_with_replies[\"post\"].id: post_with_replies for post_with_replies in posts_with_replies_info}\n",
    "    \n",
    "    # start a list that will become our post tree\n",
    "    post_tree = []\n",
    "    \n",
    "    # go through all the posts_with_replies_info, and either add them to the post they are in \n",
    "    # reply to (if htey are a reply), or add them directly to the post_tree otherwise\n",
    "    for post_with_replies in posts_with_replies_info:\n",
    "        \n",
    "        if(post_with_replies[\"post\"].type == discord.MessageType.reply):\n",
    "            # if post is a reply, find what it is a reply to and add it to the replies list of that post\n",
    "            reply_to_id = post_with_replies[\"post\"].reference.message_id\n",
    "\n",
    "            if reply_to_id in post_with_replies_lookup:\n",
    "                # if we find the post this was a reply to, \n",
    "                # add this post_with_replies to the replies of that post_with_replies info\n",
    "                reply_to_post_with_replies_info = post_with_replies_lookup[reply_to_id]\n",
    "\n",
    "                reply_to_post_with_replies_info['replies'].append(post_with_replies)\n",
    "\n",
    "            else:\n",
    "                # if we couldn't find the post this was in reply to, print warning and\n",
    "                # just add it as a regular post\n",
    "                print(\"Warning could not find post: \" + str(reply_to_id) + \", which message \" + str(post_with_replies[\"post\"].id) + \" replied to\")\n",
    "                post_tree.append(post_with_replies)\n",
    "        \n",
    "        else: # not a reply, just add to post_tree directly\n",
    "            post_tree.append(post_with_replies)\n",
    "            \n",
    "    return post_tree"
   ]
  },
  {
   "cell_type": "markdown",
   "id": "8bd133df-5824-4f25-b10d-86a4daaf4425",
   "metadata": {},
   "source": [
    "## Helper function to load the recent posts from channel return the reply tree\n",
    "\n",
    "(You don't need to worry about how this works. This is that function that gets the recent history from a channel, and then uses the `reconstruct_reply_tree` function to turn them into a reply tree data structure. By default, the `hist_limit` is set to get the most recent 30 posts.)\n"
   ]
  },
  {
   "cell_type": "code",
   "execution_count": 40,
   "id": "21c79149-f617-4526-bee8-d1556cc252e8",
   "metadata": {},
   "outputs": [],
   "source": [
    "def get_channel_post_tree(channel_id, hist_limit=30):\n",
    "    # set up discord connection\n",
    "    client = discord.Client(intents=intents)\n",
    "\n",
    "    # Provide instructions for what your discord bot should do once it has logged in\n",
    "    @client.event\n",
    "    async def on_ready():\n",
    "        global reply_tree # Save the reply_tree variable outside our running bot\n",
    "\n",
    "        # Load the discord channel you want to read from\n",
    "        channel = client.get_channel(channel_id)\n",
    "\n",
    "        # Get the latest post in the channel history\n",
    "        post_history = channel.history(limit=hist_limit)\n",
    "\n",
    "        #special code to turn the post_history from discord into a python list\n",
    "        recent_posts = [post async for post in post_history]\n",
    "\n",
    "        reply_tree = await reconstruct_reply_tree(recent_posts)\n",
    "\n",
    "        # Tell your bot to stop running\n",
    "        await client.close()\n",
    "\n",
    "    # Now that we've defined how the bot shoould work, start running your bot\n",
    "    client.run(discord_token)\n",
    "    \n",
    "    return reply_tree"
   ]
  },
  {
   "cell_type": "markdown",
   "id": "d37b46e5-c941-4ac9-a95f-a16061ecf7cf",
   "metadata": {
    "tags": []
   },
   "source": [
    "## Code to print a channel's recent posts and replies\n",
    "We are providing these function that recursively prints a channel's recent posts and replies, but it depends on whether a `should_display` function returns True or False to decide if it actually displays a post. (Note: if a `should_display` comes back false for a post, the post wont be displayed, nor will any replies to it)\n",
    "\n",
    "The `print_channel_post_and_replies` is a function that takes a channel_id, loads the reply post_tree from that channel, and then uses the `print_post_and_replies` function to print out all posts and replies. By default, `show_hidden` is set to False (meaning it won't show anything for posts that `should_display` came back with false, setting it to True will show them in red), and `hist_limit` is set to load the most recent 30 posts (but you can change it up to 100)."
   ]
  },
  {
   "cell_type": "code",
   "execution_count": 41,
   "id": "f80fa629-1b46-4287-8f51-0dadc13532e5",
   "metadata": {},
   "outputs": [],
   "source": [
    "def print_channel_post_and_replies(channel_id, show_hidden=False, hist_limit=30):\n",
    "    post_tree = get_channel_post_tree(channel_id, hist_limit=hist_limit)\n",
    "    \n",
    "    print(\"Below are the posts and replies for post from channel \" + str(channel_id) + \":\" )\n",
    "\n",
    "    for post_with_replies_info in post_tree:\n",
    "        print_post_and_replies(post_with_replies_info, show_hidden=show_hidden)"
   ]
  },
  {
   "cell_type": "markdown",
   "id": "6d28fb60-3e2b-40e1-a3cb-c3b4afac9649",
   "metadata": {},
   "source": [
    "The `print_post_and_replies` function takes a given `post_with_replies_info` and recursively prints that post as well as all replies to that post (which will as well as all replies to those replies, etc.)"
   ]
  },
  {
   "cell_type": "code",
   "execution_count": 42,
   "id": "d0b83265-3a27-47a3-a68a-5d3293ed7a3d",
   "metadata": {},
   "outputs": [],
   "source": [
    "def print_post_and_replies(post_with_replies_info, num_indents=0, show_hidden=False):\n",
    "    \n",
    "    # for convenience save the post and replies info in variables\n",
    "    post = post_with_replies_info[\"post\"]\n",
    "    replies = post_with_replies_info[\"replies\"]\n",
    "\n",
    "    # save the text to display in a post box\n",
    "    display_text = (\n",
    "        str(post.content) + \"\\n\" +\n",
    "        \"-- \" + str(post.author)\n",
    "    )\n",
    "    \n",
    "    if(should_display(post)): # check if we should display this comment\n",
    "        \n",
    "        # display the text of this post, indented over\n",
    "        display_indented(display_text, num_indents*20)\n",
    "\n",
    "        #print replies (and the replies of those, etc.)\n",
    "        for reply in replies:\n",
    "            print_post_and_replies(reply, num_indents = num_indents + 1, show_hidden=show_hidden)\n",
    "            \n",
    "    elif(show_hidden): #If we want to still see which posts we are hiding, color them LightCoral so we can see they are hidden\n",
    "        display_indented(display_text, num_indents*20, color='LightCoral')"
   ]
  },
  {
   "cell_type": "markdown",
   "id": "495e8a4a-d02d-401c-8ec9-780c14779a9a",
   "metadata": {},
   "source": [
    "## TODO: Create Your Content Moderation Algorithm\n",
    "Your job is to invent and implement your own rule inside the `should_display` function for what comments count as the \"best comments\" and therefore should be displayed. The rule can be complicated or simple, it just can't be the same as the current rule. You can aim for focusing on only hiding a few comments that you judge are bad, or for only showing a few comments you judge are the very best, or a combination of those.\n",
    "\n",
    "When you are making your rule you may want to use different comparison operators (like == for equals, > for greater than, etc.) and different logical operators (like `and` for both things must be true, `or` for at least one thing must be true, etc.). See a list of operators here: https://www.w3schools.com/python/python_operators.asp\n",
    "\n",
    "Some things you can use when you are deciding whether to display a tweet or not:\n",
    "\n",
    "* The text of the post: `post.content`\n",
    "* The post created time: `post.created_at`\n",
    "* The list of reactions: `post.reactions` (see more about reactions in the [official docs](https://discordpy.readthedocs.io/en/stable/api.html#discord.Reaction))\n",
    "* Is the message pinned?: `post.pinned`\n",
    "\n",
    "\n",
    "You can see more by looking at the official documentation for [lists of attributes of a discord message](https://discordpy.readthedocs.io/en/stable/api.html#discord.Message)\n",
    "\n",
    "You can also look at attributes of the author such as:\n",
    "* author name: `post.author.display_name`\n",
    "* when was the author created?: `post.author.created_at`\n",
    "* is the author labeled as a bot?: `post.author.bot`\n",
    "* The author public flags: `post.author.public_flags` (like spammer, see [offical docs on PublicUserFlags](https://discordpy.readthedocs.io/en/stable/api.html#discord.PublicUserFlags))\n",
    "\n",
    "You can see more by looking at [lists of attributes of a discord user](https://discordpy.readthedocs.io/en/stable/api.html#discord.User)\n",
    "\n",
    "* You can use any other information you can figure out about the post as well, such as the sentiment analysis that was demoed previously.\n"
   ]
  },
  {
   "cell_type": "code",
   "execution_count": 43,
   "id": "375318e4-346d-494d-9425-50fed7e0dc49",
   "metadata": {},
   "outputs": [],
   "source": [
    "def should_display(post):\n",
    "    #TODO: Make your own rule\n",
    "    \n",
    "    # for a demonstration, we only display comments with the a capital \"I\"\n",
    "    has_letters_the = \"I\" in post.content\n",
    "    \n",
    "    if(has_letters_the):\n",
    "        return True\n",
    "    else:\n",
    "        return False"
   ]
  },
  {
   "cell_type": "markdown",
   "id": "b8d5835b-ef1d-45a3-a101-065e94cc0d17",
   "metadata": {},
   "source": [
    "## Test our code on discord channel\n",
    "In order to test it out, we just need to get a discord channel id and pass it to the `print_post_and_replies` function. If there are any replies (not threads) in the recent history, we will see them formatted as a reply tree.\n",
    "\n",
    "As you work on your changes to the `should_display` function, you can test it out on different channels"
   ]
  },
  {
   "cell_type": "code",
   "execution_count": 44,
   "id": "cb70bbcf-2585-426e-b5ff-55ca84a1f35d",
   "metadata": {},
   "outputs": [
    {
     "data": {
      "text/html": [
       "<strong style='color:darkred'>Fake discord is pretending to set up a client connection</strong>"
      ],
      "text/plain": [
       "<IPython.core.display.HTML object>"
      ]
     },
     "metadata": {},
     "output_type": "display_data"
    },
    {
     "data": {
      "text/html": [
       "<strong style='color:darkred'>Fake discord bot is fake logging in and starting to run</strong>"
      ],
      "text/plain": [
       "<IPython.core.display.HTML object>"
      ]
     },
     "metadata": {},
     "output_type": "display_data"
    },
    {
     "data": {
      "text/html": [
       "<strong style='color:darkred'>Fake discord bot is shutting down</strong>"
      ],
      "text/plain": [
       "<IPython.core.display.HTML object>"
      ]
     },
     "metadata": {},
     "output_type": "display_data"
    },
    {
     "name": "stdout",
     "output_type": "stream",
     "text": [
      "Below are the posts and replies for post from channel 5432167890:\n"
     ]
    },
    {
     "data": {
      "text/html": [
       "<pre style='border:solid 1px;padding:3px;margin-left:0px;background-color:white'>I saw a movie once!\n",
       "-- fake_user</pre>"
      ],
      "text/plain": [
       "<IPython.core.display.HTML object>"
      ]
     },
     "metadata": {},
     "output_type": "display_data"
    },
    {
     "data": {
      "text/html": [
       "<pre style='border:solid 1px;padding:3px;margin-left:20px;background-color:white'>I saw one too!\n",
       "-- pretend_user</pre>"
      ],
      "text/plain": [
       "<IPython.core.display.HTML object>"
      ]
     },
     "metadata": {},
     "output_type": "display_data"
    },
    {
     "data": {
      "text/html": [
       "<pre style='border:solid 1px;padding:3px;margin-left:40px;background-color:white'>I never saw a movie :(\n",
       "-- imaginary_user</pre>"
      ],
      "text/plain": [
       "<IPython.core.display.HTML object>"
      ]
     },
     "metadata": {},
     "output_type": "display_data"
    }
   ],
   "source": [
    "print_channel_post_and_replies(5432167890)"
   ]
  },
  {
   "cell_type": "markdown",
   "id": "a86d7c7e-c925-478b-9584-7d88bc79fc1a",
   "metadata": {},
   "source": [
    "If we also want to see what posts are being skipped, we can use an optional argument for `print_post_and_replies` by setting `show_hidden = True`, and the comments that are being skipped will show up with a reddish background."
   ]
  },
  {
   "cell_type": "code",
   "execution_count": 45,
   "id": "8de6c2bb-8ad8-425f-be62-bcdec1e408e1",
   "metadata": {},
   "outputs": [
    {
     "data": {
      "text/html": [
       "<strong style='color:darkred'>Fake discord is pretending to set up a client connection</strong>"
      ],
      "text/plain": [
       "<IPython.core.display.HTML object>"
      ]
     },
     "metadata": {},
     "output_type": "display_data"
    },
    {
     "data": {
      "text/html": [
       "<strong style='color:darkred'>Fake discord bot is fake logging in and starting to run</strong>"
      ],
      "text/plain": [
       "<IPython.core.display.HTML object>"
      ]
     },
     "metadata": {},
     "output_type": "display_data"
    },
    {
     "data": {
      "text/html": [
       "<strong style='color:darkred'>Fake discord bot is shutting down</strong>"
      ],
      "text/plain": [
       "<IPython.core.display.HTML object>"
      ]
     },
     "metadata": {},
     "output_type": "display_data"
    },
    {
     "name": "stdout",
     "output_type": "stream",
     "text": [
      "Below are the posts and replies for post from channel 5432167890:\n"
     ]
    },
    {
     "data": {
      "text/html": [
       "<pre style='border:solid 1px;padding:3px;margin-left:0px;background-color:white'>I saw a movie once!\n",
       "-- fake_user</pre>"
      ],
      "text/plain": [
       "<IPython.core.display.HTML object>"
      ]
     },
     "metadata": {},
     "output_type": "display_data"
    },
    {
     "data": {
      "text/html": [
       "<pre style='border:solid 1px;padding:3px;margin-left:20px;background-color:white'>I saw one too!\n",
       "-- pretend_user</pre>"
      ],
      "text/plain": [
       "<IPython.core.display.HTML object>"
      ]
     },
     "metadata": {},
     "output_type": "display_data"
    },
    {
     "data": {
      "text/html": [
       "<pre style='border:solid 1px;padding:3px;margin-left:40px;background-color:LightCoral'>What a coincidence!\n",
       "-- fake_user</pre>"
      ],
      "text/plain": [
       "<IPython.core.display.HTML object>"
      ]
     },
     "metadata": {},
     "output_type": "display_data"
    },
    {
     "data": {
      "text/html": [
       "<pre style='border:solid 1px;padding:3px;margin-left:40px;background-color:white'>I never saw a movie :(\n",
       "-- imaginary_user</pre>"
      ],
      "text/plain": [
       "<IPython.core.display.HTML object>"
      ]
     },
     "metadata": {},
     "output_type": "display_data"
    },
    {
     "data": {
      "text/html": [
       "<pre style='border:solid 1px;padding:3px;margin-left:0px;background-color:LightCoral'>Good morning everyone!\n",
       "-- imaginary_user</pre>"
      ],
      "text/plain": [
       "<IPython.core.display.HTML object>"
      ]
     },
     "metadata": {},
     "output_type": "display_data"
    }
   ],
   "source": [
    "print_channel_post_and_replies(5432167890, show_hidden = True)"
   ]
  },
  {
   "cell_type": "markdown",
   "id": "46c8f415-b653-4933-b75b-6b0c14bfa15f",
   "metadata": {},
   "source": [
    "## TODO! Test it with 3 discord channels"
   ]
  },
  {
   "cell_type": "markdown",
   "id": "f8419612-935a-4859-9b4e-82d741dcd56b",
   "metadata": {},
   "source": [
    "Now, after you've modified the `should_display`, try testing out your algorithm on three different channels, answering follow up questions after each one.\n",
    "\n",
    "In the sections below, replace the `?????`s with a channel id, and run the code. Then answer the questions about how that went.\n",
    "\n",
    "At the very end will be more reflection questions."
   ]
  },
  {
   "cell_type": "markdown",
   "id": "69877681-4afb-4507-be52-a31faefa85e0",
   "metadata": {},
   "source": [
    "### TODO: Print Discord channel 1"
   ]
  },
  {
   "cell_type": "code",
   "execution_count": null,
   "id": "3de1ec85-99e5-4528-8b43-e321e21ed8b6",
   "metadata": {},
   "outputs": [],
   "source": [
    "print_channel_post_and_replies('?????', show_hidden = True)"
   ]
  },
  {
   "cell_type": "markdown",
   "id": "4e7b91ea-89b7-481e-9412-8f63f14443e1",
   "metadata": {},
   "source": [
    "### TODO: Discord channel 1 follow-up questions\n",
    "Write an answer in response to each of these questions (you can edit this text by double clicking it):\n",
    "\n",
    "Look through the output of `print_channel_post_and_replies()` based on your modified `should_display` function.\n",
    "\n",
    "Did your function tend to keep most tweets or tend to hide most tweets?"
   ]
  },
  {
   "cell_type": "markdown",
   "id": "b760cf2b-85e0-4eee-9fb6-b3a89f76ee77",
   "metadata": {},
   "source": [
    "TODO: Your answer here"
   ]
  },
  {
   "cell_type": "markdown",
   "id": "597e4d28-b9ec-471d-9ff0-b0165d6f00ea",
   "metadata": {},
   "source": [
    "Do you see any pattern to the contents of posts you showed versus hid (e.g., did it actually select better quality or more interesting posts)?"
   ]
  },
  {
   "cell_type": "markdown",
   "id": "6cb7747b-fc53-440f-9803-7cd1708ec0e3",
   "metadata": {},
   "source": [
    "TODO: Your answer here"
   ]
  },
  {
   "cell_type": "markdown",
   "id": "d36cf784-7cda-48d6-9d31-5bf9e3626c2d",
   "metadata": {
    "tags": []
   },
   "source": [
    "### TODO: Print Discord Channel 2"
   ]
  },
  {
   "cell_type": "code",
   "execution_count": null,
   "id": "e36ccf9a-3b90-458e-910c-e31b3178e8a0",
   "metadata": {
    "tags": []
   },
   "outputs": [],
   "source": [
    "print_channel_post_and_replies('?????', show_hidden = True)"
   ]
  },
  {
   "cell_type": "markdown",
   "id": "365d34f2-f551-432b-bc07-b9dc3778997b",
   "metadata": {},
   "source": [
    "### TODO: Discord channel 2 follow-up questions\n",
    "Write an answer in response to each of these questions (you can edit this text by double clicking it):\n",
    "\n",
    "Look through the output of `print_channel_post_and_replies()` based on your modified `should_display` function.\n",
    "\n",
    "Did your function tend to keep most posts or tend to hide most posts?"
   ]
  },
  {
   "cell_type": "markdown",
   "id": "e01b6c4c-3add-4cf2-ad12-3b4403726915",
   "metadata": {},
   "source": [
    "TODO: Your answer here"
   ]
  },
  {
   "cell_type": "markdown",
   "id": "1e79e1e7-ad3f-43ae-a285-925ffce17ac0",
   "metadata": {},
   "source": [
    "Do you see any pattern to the contents of the posts you showed versus hid (e.g., did it actually select better quality or more interesting posts)?"
   ]
  },
  {
   "cell_type": "markdown",
   "id": "ddbc7f4b-85b9-4742-bdd2-5241ebf10a82",
   "metadata": {},
   "source": [
    "TODO: Your answer here"
   ]
  },
  {
   "cell_type": "markdown",
   "id": "80d362fd-9f12-45ab-ad49-c7e5a8e21646",
   "metadata": {},
   "source": [
    "### TODO: Print Discord channel 3"
   ]
  },
  {
   "cell_type": "code",
   "execution_count": null,
   "id": "72e4afd2-9ae3-4e8e-bd8c-200d31246dae",
   "metadata": {},
   "outputs": [],
   "source": [
    "print_channel_post_and_replies('?????', show_hidden = True)"
   ]
  },
  {
   "cell_type": "markdown",
   "id": "920bca9c-b111-4fd1-8067-def9e97088c8",
   "metadata": {},
   "source": [
    "### TODO: Discord channel 3 follow-up questions\n",
    "Write an answer in response to each of these questions (you can edit this text by double clicking it):\n",
    "\n",
    "Look through the output of `print_channel_post_and_replies()` based on your modified `should_display` function.\n",
    "\n",
    "Did your function tend to keep most posts or tend to hide most posts?"
   ]
  },
  {
   "cell_type": "markdown",
   "id": "26ce3809-dc93-4c39-a792-315dd5e45075",
   "metadata": {},
   "source": [
    "TODO: Your answer here"
   ]
  },
  {
   "cell_type": "markdown",
   "id": "9c6f4df1-9536-45a6-ac8e-bd73f4004f8b",
   "metadata": {},
   "source": [
    "Do you see any pattern to the contents of the posts you showed versus hid (e.g., did it actually select better quality or more interesting posts)?"
   ]
  },
  {
   "cell_type": "markdown",
   "id": "5fdac1c0-ab1e-42ea-954f-06c0ff7102ca",
   "metadata": {},
   "source": [
    "TODO: Your answer here"
   ]
  },
  {
   "cell_type": "markdown",
   "id": "07014041-40af-4ed7-92a7-69ad85ac9f4b",
   "metadata": {},
   "source": [
    "## TODO: Final Reflection questions\n",
    "Write an answer in response in response to each of these questions:\n",
    "\n",
    "Explain why you chose the rules you did for selecting the best comments?"
   ]
  },
  {
   "cell_type": "markdown",
   "id": "2dd5b7d6-e026-4137-ba8e-e5be9b7b6a95",
   "metadata": {},
   "source": [
    "TODO: Your answer here"
   ]
  },
  {
   "cell_type": "markdown",
   "id": "57dfd460-4ef4-45c2-868a-6c2317996811",
   "metadata": {},
   "source": [
    "What was most challenging about coming up with your rules?"
   ]
  },
  {
   "cell_type": "markdown",
   "id": "180ee407-1910-49ce-b08b-9d7a02e11837",
   "metadata": {},
   "source": [
    "TODO: Your answer here"
   ]
  },
  {
   "cell_type": "markdown",
   "id": "987e2526-8095-45ab-b43d-86b193f25d84",
   "metadata": {},
   "source": [
    "What additional information or rules do you wish you could have used?"
   ]
  },
  {
   "cell_type": "markdown",
   "id": "ad295301-cc20-493f-bd95-df6343f0848a",
   "metadata": {},
   "source": [
    "TODO: Your answer here"
   ]
  },
  {
   "cell_type": "markdown",
   "id": "edb0dcf7-227c-4d97-b82a-67112f7c6b8e",
   "metadata": {},
   "source": [
    "If someone or some group wanted to make sure their comments were shown by your function, what would they do? How hard would this be?"
   ]
  },
  {
   "cell_type": "markdown",
   "id": "518863b6-29b1-486a-a2bc-3f4701d2aa80",
   "metadata": {},
   "source": [
    "TODO: Your answer here"
   ]
  },
  {
   "cell_type": "markdown",
   "id": "317bb710-37e9-42d0-ad7b-13ed3c3fa0c4",
   "metadata": {},
   "source": [
    "If someone or some group wanted to make sure someone else's comments were NOT shown by your function, what would they do (if anything)? How hard would this be?"
   ]
  },
  {
   "cell_type": "markdown",
   "id": "21d501d1-6686-4f12-aad5-2d13525ad86c",
   "metadata": {},
   "source": [
    "TODO: Your answer here"
   ]
  },
  {
   "cell_type": "markdown",
   "id": "b662120a-b8e7-467b-bb11-30059a3f2acc",
   "metadata": {},
   "source": [
    "If Reddit adopted this rule as a universal rule for which comments to display, what do you think would happen? (e.g., would people change commenting strategies? would comments look different than currently? would it get overwhelmed with spam?)\n"
   ]
  },
  {
   "cell_type": "markdown",
   "id": "ff6f474b-da91-4120-b5ba-59b3fd1904f8",
   "metadata": {},
   "source": [
    "TODO: Your answer here"
   ]
  }
 ],
 "metadata": {
  "kernelspec": {
   "display_name": "Python 3 (ipykernel)",
   "language": "python",
   "name": "python3"
  },
  "language_info": {
   "codemirror_mode": {
    "name": "ipython",
    "version": 3
   },
   "file_extension": ".py",
   "mimetype": "text/x-python",
   "name": "python",
   "nbconvert_exporter": "python",
   "pygments_lexer": "ipython3",
   "version": "3.10.4"
  }
 },
 "nbformat": 4,
 "nbformat_minor": 5
}
