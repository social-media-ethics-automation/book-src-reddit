{
 "cells": [
  {
   "cell_type": "markdown",
   "id": "8e8b04f7-3262-427e-b125-ec9e4284d0d9",
   "metadata": {
    "tags": []
   },
   "source": [
    "# A1: Make 7 Discord Posts"
   ]
  },
  {
   "cell_type": "markdown",
   "id": "144e173b-2a04-44b4-a45d-7b335e40f918",
   "metadata": {},
   "source": [
    "In this assignment, you will modify this program to post at least 7 discord posts (no more than 15). Then you will answer some reflection questions on your bot.\n",
    "\n",
    "We suggest that while you are working on it and testing it out, you use fake_discord so it doesn't post on actual discord. When you are done, you can try running it on your real discord account, but you might just get rate limit errors. You can just run in with fake_discord and we'll be able to see what your bot would have posted to discord if discord didn't block you.\n",
    "\n",
    "When you are done, you will need to download this file or a pdf version (file menu -> download) and turn it in on Canvas."
   ]
  },
  {
   "cell_type": "markdown",
   "id": "13f89d63-a8e7-48e2-b744-ecfdf8bdad87",
   "metadata": {},
   "source": [
    "## Code to make your posts"
   ]
  },
  {
   "cell_type": "markdown",
   "id": "71630ecc-59b1-421a-94b8-7c973e0a3c12",
   "metadata": {},
   "source": [
    "### Step 1: load discord library"
   ]
  },
  {
   "cell_type": "code",
   "execution_count": 1,
   "id": "d93d5346-7256-48dd-9687-5919aabf6f74",
   "metadata": {},
   "outputs": [],
   "source": [
    "# Load some code called \"discord\" that will help us work with Discord\n",
    "import discord\n",
    "\n",
    "# Load another library that helps the bot work in Jupyter Noteboook\n",
    "import nest_asyncio\n",
    "nest_asyncio.apply()"
   ]
  },
  {
   "cell_type": "markdown",
   "id": "bc6fe80b-f477-481e-8b82-3981b8cf75a4",
   "metadata": {},
   "source": [
    "### (Optional) Step 1b: Make a fake discord connection with the fake_discord library\n",
    "For testing purposes, we've added this line of code, which loads a fake version of discord, so it wont actually connect to Discord. __If you want to try to actually connect to Discord, don't run this line of code.__"
   ]
  },
  {
   "cell_type": "code",
   "execution_count": 2,
   "id": "ec45f3fb-204c-4948-a822-1608972f54bb",
   "metadata": {},
   "outputs": [
    {
     "data": {
      "text/html": [
       "<strong style='color:darkred'>Fake praw is replacing the praw library. Fake praw doesn&#x27;t need real passwords, and prevents you from accessing real reddit</strong>"
      ],
      "text/plain": [
       "<IPython.core.display.HTML object>"
      ]
     },
     "metadata": {},
     "output_type": "display_data"
    }
   ],
   "source": [
    "%run ../../../../fake_apis/fake_discord.ipynb"
   ]
  },
  {
   "cell_type": "markdown",
   "id": "17ab3bf1-b204-41dd-806c-4b923beb4079",
   "metadata": {},
   "source": [
    "### Step 2: Set up your Discord connection\n",
    "To use this on your real Discord account, copy your [discord token](../../../making_bot_account.md) into the code below, replacing our fake passwords.\n",
    "into the discord_keys.py file."
   ]
  },
  {
   "cell_type": "code",
   "execution_count": null,
   "id": "6c17ccfc-269d-4d21-80f8-d7dbe0576423",
   "metadata": {},
   "outputs": [],
   "source": [
    "%run discord_keys.py\n",
    "\n",
    "client = discord.Client(intents=discord.Intents.default())"
   ]
  },
  {
   "cell_type": "markdown",
   "id": "006459cb-1a07-4a60-91b0-031174339753",
   "metadata": {},
   "source": [
    "### Step 3: Define and run a bot that will make 7 discord posts\n",
    "This is where you will have to modify the code to:\n",
    "\n",
    "Post 7 times to discord\n",
    "- Using the sleep() function at least two times\n",
    "- Save at least one piece of text in a variable and use it for making a post\n",
    "\n",
    "You bot must __NOT__:\n",
    "- Interact with non-class or personal discord servers, or interact (e.g., tag) people who haven't personally agreed to let you interact with them.\n",
    "- Post more than 15 times"
   ]
  },
  {
   "cell_type": "code",
   "execution_count": null,
   "id": "b44dafab-9d25-4620-b6bd-bd4149400eca",
   "metadata": {},
   "outputs": [],
   "source": [
    "# Provide instructions for what your discord bot should do once it has logged in\n",
    "@client.event\n",
    "async def on_ready():\n",
    "    # Load the discord channel you want to post to\n",
    "    # TODO: put the discord channel id number below\n",
    "    channel_id = 123456789\n",
    "    channel = client.get_channel(channel_id)\n",
    "\n",
    "    # Post a messages to your discord channel\n",
    "    # TODO: modify this code to post at least 7 times\n",
    "    channel.send(\"Example post!\")\n",
    "\n",
    "    # Tell your bot to stop running\n",
    "    await client.close()\n",
    "    \n",
    "# Now that we've defined how the bot should work, start running your bot\n",
    "client.run(discord_token)"
   ]
  },
  {
   "cell_type": "markdown",
   "id": "262d3a68-2d60-4d3a-b413-28d50dce2726",
   "metadata": {},
   "source": [
    "## Reflection Questions"
   ]
  },
  {
   "cell_type": "markdown",
   "id": "f2cf5aae-a522-4007-b095-d44e5bccd32e",
   "metadata": {},
   "source": [
    "You must also write answers to the following questions \n",
    "\n",
    "_Note: You can double click on these blocks of text to edit them_\n",
    "\n",
    "What is the name of your discord account so we can see the posts? Or what error message did you get when trying to make the posts? (you still get full credit even if you couldn't get it to post for real)"
   ]
  },
  {
   "cell_type": "markdown",
   "id": "a7e554b0-e173-49c2-b810-9e278ddf6db2",
   "metadata": {},
   "source": [
    "TODO: Put discord account name (or error message) here"
   ]
  },
  {
   "cell_type": "markdown",
   "id": "449a6f5c-d190-482b-b0b2-686121466242",
   "metadata": {},
   "source": [
    "If your discord account wasn't labeled as a bot, how do you think people would perceive those posts? (write at least 3 sentences)"
   ]
  },
  {
   "cell_type": "markdown",
   "id": "0766b640-3c1e-413b-be93-bfc7e03a9c07",
   "metadata": {},
   "source": [
    "TODO: Write at least 3 sentences here"
   ]
  },
  {
   "cell_type": "markdown",
   "id": "eddb1064-18a7-4cae-8aa1-34b71b9dfd73",
   "metadata": {},
   "source": [
    "If people saw those posts and then later discovered that they were posted by a computer program, how do you think their view of the posts would change? (write at least 3 sentences)"
   ]
  },
  {
   "cell_type": "markdown",
   "id": "45735eff-c135-43c8-bf5a-cfe79310168a",
   "metadata": {},
   "source": [
    "TODO: Write at least 3 sentences here"
   ]
  },
  {
   "cell_type": "markdown",
   "id": "553a564a-c557-46ce-b1da-d9af93329120",
   "metadata": {},
   "source": [
    "Pick two ethics frameworks and compare how they might evaluate your bot (or a similar one with more benevolent or malevalent purposes)? (write at least 6 sentences)"
   ]
  },
  {
   "cell_type": "markdown",
   "id": "12076614-4eb3-47aa-a2df-dbf8c7559be6",
   "metadata": {},
   "source": [
    "TODO: Write at least 6 sentences here"
   ]
  }
 ],
 "metadata": {
  "kernelspec": {
   "display_name": "Python 3 (ipykernel)",
   "language": "python",
   "name": "python3"
  },
  "language_info": {
   "codemirror_mode": {
    "name": "ipython",
    "version": 3
   },
   "file_extension": ".py",
   "mimetype": "text/x-python",
   "name": "python",
   "nbconvert_exporter": "python",
   "pygments_lexer": "ipython3",
   "version": "3.10.4"
  },
  "vscode": {
   "interpreter": {
    "hash": "369f2c481f4da34e4445cda3fffd2e751bd1c4d706f27375911949ba6bb62e1c"
   }
  }
 },
 "nbformat": 4,
 "nbformat_minor": 5
}
