{
 "cells": [
  {
   "cell_type": "markdown",
   "id": "67655e14-ea22-4ff1-9b83-2735028b6dd8",
   "metadata": {},
   "source": [
    "# A3: Trolling a Discord Command Bot"
   ]
  },
  {
   "cell_type": "markdown",
   "id": "525d1357",
   "metadata": {},
   "source": [
    "\n",
    "In this assignment, your job will be to modify the slash command bot below (see section [](../../../../ch07_trolling/05_trolling_reply_bot/03_demo_reply_bot.ipynb)) and make your own version of a reply bot (look for the `TODO` section below). Then after you've modified it, see if you can troll it. At the end, you will have some reflection questions to answer.\n",
    "\n",
    "When you are done, you will need to download this file (file menu -> download) and turn it in on Canvas.\n",
    "\n",
    "Below is the code for the first command bot from the book: \n",
    "- It is a [slash command](https://support.discord.com/hc/en-us/articles/1500000368501-Slash-Commands-FAQ) called `do_action` which will ask us to provide an \"action\"\n",
    "- The bot will then reply, \"I will now ____\" (where the ___ is the action the user provided).\n",
    "\n",
    "\n",
    "\n",
    "- Subject: \"Wanting bot response\", body: \"I want you to ___\" (where the ___ is some action)\n",
    "- then the bot will reply, \"I will now ____\" (where the ___ is that same action).\n",
    "\n",
    "## Running a slash command\n",
    "To run the action, in discord start typing `/` and you should be able to chose the `do_action` command and then enter the text to do the action._ \n",
    "\n",
    "![1: user starts typing \"/\" and discord shows a popup of available actions includiing \"/do_action\". 2: with \"/do_action\" selected, user has to provide text for \"action\", which they have done with \"jump\", 3: Discord shows \"kmthayer used :: do_action\" above a post by \"soc_media_bot_teaching_demo_2\" saying \"I will now jump](discord_run_slash_command.png) \n",
    "\n",
    "\n",
    "\n",
    "## Command Bot\n",
    "\n",
    "First we need to do our Discord setup (using the discord `interactions` library, which helps us set up commands):"
   ]
  },
  {
   "cell_type": "code",
   "execution_count": 7,
   "id": "ed4d794b-94dc-48bc-bd59-557d2251a135",
   "metadata": {
    "tags": []
   },
   "outputs": [],
   "source": [
    "# Load some code called \"interactions\" that will help us make Discord commands\n",
    "import interactions\n",
    "\n",
    "# Load another library that helps the bot work in Jupyter Noteboook\n",
    "import nest_asyncio\n",
    "nest_asyncio.apply()"
   ]
  },
  {
   "cell_type": "markdown",
   "id": "fe7ff131-e8a4-4423-ab35-0c3818c6abd7",
   "metadata": {},
   "source": [
    "(optional) make a fake Discord connection with the fake_discord_interactions library\n",
    "\n",
    "For testing purposes, we've added this line of code, which loads a fake version of the \"interactions\" Discord library, so it wont actually connect to Discord. __If you want to try to actually connect to Discord, don't run this line of code.__"
   ]
  },
  {
   "cell_type": "code",
   "execution_count": 8,
   "id": "1cc9e058-bd45-44e4-a93e-4daa302e45bc",
   "metadata": {},
   "outputs": [
    {
     "data": {
      "text/html": [
       "<strong style='color:darkred;margin-left:0px'>Fake interactions discord is replacing the interactions.py library. Fake discord doesn&#x27;t need real passwords, and prevents you from accessing real discord</strong>"
      ],
      "text/plain": [
       "<IPython.core.display.HTML object>"
      ]
     },
     "metadata": {},
     "output_type": "display_data"
    }
   ],
   "source": [
    "%run ../../../../fake_apis/fake_discord_interactions.ipynb"
   ]
  },
  {
   "cell_type": "markdown",
   "id": "63d6e102-0891-4bb3-8156-d69cc04f4bec",
   "metadata": {},
   "source": [
    "To use this on your real Discord account, copy your [developer access passwords](https://social-media-ethics-automation.github.io/book_v0/appendix/bot_set_ups/making_reddit_account.html) into the discord_keys.py file."
   ]
  },
  {
   "cell_type": "code",
   "execution_count": 9,
   "id": "92e97170-80c2-42b7-b661-2eb909b71f14",
   "metadata": {},
   "outputs": [],
   "source": [
    "import discord_keys"
   ]
  },
  {
   "cell_type": "code",
   "execution_count": 10,
   "id": "86f9a743-3fae-4728-979d-8ef3c8e7329a",
   "metadata": {},
   "outputs": [],
   "source": [
    "# TODO: put the server/guild id you want your bot command to work on below\n",
    "server_id = \"123456\""
   ]
  },
  {
   "cell_type": "markdown",
   "id": "4bc084c9-94dd-4229-9224-957229d78041",
   "metadata": {},
   "source": [
    "## Create a command bot\n",
    "We will make a slash command bot "
   ]
  },
  {
   "cell_type": "markdown",
   "id": "a4d463f2-c04f-4ae4-975e-662ec38cfe3a",
   "metadata": {
    "tags": []
   },
   "source": [
    "### TODO: Modify this section (create a slash command)\n",
    "\n",
    "This code starts a bot that creates a discord [slash command](https://support.discord.com/hc/en-us/articles/1500000368501-Slash-Commands-FAQ) on the server with the `server_id` we saved above.\n",
    " \n",
    "The bot logs into discord, then starts (and displays a message showing it has started)\n",
    "\n",
    "The initial version of the bot then creates a slash command called \"do_action\" which requires users to enter a piece of text for the \"action.\"\n",
    "\n",
    "The initial version of the bot then creates a post that says \"I will now \\_\\_\\_\" where the \"\\_\\_\\_\" is the action the user provided.\n",
    "\n",
    "_You must must modify at least one thing in the code below. You could change the `name` of the `slash_command`, or the `name` of the `action`, or you could change the code that makes the post (`ctx.send(...)`), or you could change both._"
   ]
  },
  {
   "cell_type": "code",
   "execution_count": 11,
   "id": "3c3ff0f8-d311-4362-bd4e-7dd4e307c624",
   "metadata": {},
   "outputs": [
    {
     "data": {
      "text/html": [
       "<strong style='color:darkred;margin-left:0px'>Fake interactions.py is pretending to set up a Discord client connection</strong>"
      ],
      "text/plain": [
       "<IPython.core.display.HTML object>"
      ]
     },
     "metadata": {},
     "output_type": "display_data"
    },
    {
     "data": {
      "text/html": [
       "<strong style='color:darkred;margin-left:0px'>fake discord interactions setting a slash command called: &#x27;do_action&#x27;.  With options: action</strong>"
      ],
      "text/plain": [
       "<IPython.core.display.HTML object>"
      ]
     },
     "metadata": {},
     "output_type": "display_data"
    },
    {
     "data": {
      "text/html": [
       "<strong style='color:darkred;margin-left:0px'>Fake discord bot is fake logging in and starting to run</strong>"
      ],
      "text/plain": [
       "<IPython.core.display.HTML object>"
      ]
     },
     "metadata": {},
     "output_type": "display_data"
    },
    {
     "name": "stdout",
     "output_type": "stream",
     "text": [
      "The bot has started running\n",
      "We recieved the following action: \"jump\"\n"
     ]
    },
    {
     "data": {
      "text/html": [
       "<strong style='color:darkred;margin-left:0px'>Bot is posting: </strong>"
      ],
      "text/plain": [
       "<IPython.core.display.HTML object>"
      ]
     },
     "metadata": {},
     "output_type": "display_data"
    },
    {
     "data": {
      "text/html": [
       "<strong style='color:darkred;margin-left:20px'>I will now jump</strong>"
      ],
      "text/plain": [
       "<IPython.core.display.HTML object>"
      ]
     },
     "metadata": {},
     "output_type": "display_data"
    },
    {
     "data": {
      "text/html": [
       "<strong style='color:darkred;margin-left:0px'></strong>"
      ],
      "text/plain": [
       "<IPython.core.display.HTML object>"
      ]
     },
     "metadata": {},
     "output_type": "display_data"
    },
    {
     "name": "stdout",
     "output_type": "stream",
     "text": [
      "Bot is now stopping\n"
     ]
    },
    {
     "data": {
      "text/html": [
       "<strong style='color:darkred;margin-left:0px'>Fake discord bot is stopping</strong>"
      ],
      "text/plain": [
       "<IPython.core.display.HTML object>"
      ]
     },
     "metadata": {},
     "output_type": "display_data"
    }
   ],
   "source": [
    "# Log into discord\n",
    "bot = interactions.Client(token=discord_keys.discord_token)\n",
    "\n",
    "# Listen for when the bot is logged in and ready, then print that the bot has started\n",
    "@interactions.listen()\n",
    "async def on_ready():\n",
    "    print(\"The bot has started running\")    \n",
    "\n",
    "# Define a slash command called \"do_action\" for the given server_id\n",
    "@interactions.slash_command(name=\"do_action\", description=\"A bot that does what it's told.\", scopes=[server_id])\n",
    "# make the slash command require an option called \"action\"\n",
    "@interactions.slash_option(\n",
    "    name=\"action\",\n",
    "    description=\"Action for bot to do\",\n",
    "    required=True,\n",
    "    opt_type=interactions.OptionType.STRING\n",
    ")\n",
    "# Define a function to call when the \"/do_action\" command is used\n",
    "async def do_action_function(ctx: interactions.SlashContext, action: str):\n",
    "    print('We recieved the following action: \"' + action + '\"')\n",
    "    \n",
    "    # Make a post using the \"action\" provided by the user\n",
    "    await ctx.send(\"I will now \" + action)\n",
    "    \n",
    "    # For testing purposes, we close the bot after one response\n",
    "    # normally we wouldn't stop and leave the bot running so it\n",
    "    # can continue responding\n",
    "    print(\"Bot is now stopping\")\n",
    "    bot.stop()\n",
    "    \n",
    "\n",
    "# start running your bot\n",
    "bot.start()"
   ]
  },
  {
   "cell_type": "markdown",
   "id": "7651e8cb-cf17-412a-b04e-7cb2fd4bb522",
   "metadata": {},
   "source": [
    "## Reflection questions\n",
    "1. What changes did you make to the command bot?\n"
   ]
  },
  {
   "cell_type": "markdown",
   "id": "3965c5f9-ed07-4fc9-b89d-e325d63440b9",
   "metadata": {},
   "source": [
    "TODO: Write your answer here"
   ]
  },
  {
   "cell_type": "markdown",
   "id": "bd104a8b",
   "metadata": {},
   "source": [
    "2. How could you troll this bot? Give an example of a message that would let you troll it. Or, if you don't think it can be trolled, explain why."
   ]
  },
  {
   "cell_type": "markdown",
   "id": "a697ca8b-d01c-4910-ad61-6c0c6e4f8698",
   "metadata": {},
   "source": [
    "TODO: Write your answer here"
   ]
  },
  {
   "cell_type": "markdown",
   "id": "609d8713-5bfc-4000-aeb8-72d3e114d905",
   "metadata": {},
   "source": [
    "3. What limitations does trying to prevent trolling put on your ability to create a bot? (write at least 3 sentences)"
   ]
  },
  {
   "cell_type": "markdown",
   "id": "bb901bf3-2f8d-433a-8409-ebcbd12bd3ff",
   "metadata": {},
   "source": [
    "TODO: Write at least 3 sentences here"
   ]
  },
  {
   "cell_type": "markdown",
   "id": "26016eba-6854-45d0-833e-dd4bca6bc8f9",
   "metadata": {},
   "source": [
    "4. Pick two ethics frameworks and compare how they might evaluate the responsibility of someone who is creating a command bot? (write at least 6 sentences total)"
   ]
  },
  {
   "cell_type": "markdown",
   "id": "0bfe7ec7-bcdb-4952-9223-015565fd10c8",
   "metadata": {},
   "source": [
    "TODO: Write at least 6 sentences here"
   ]
  },
  {
   "cell_type": "markdown",
   "id": "067786b9-af3d-4c61-a2b9-bee535130e9d",
   "metadata": {},
   "source": [
    "5. Pick two ethics frameworks and compare how they might evaluate the responsibility of someone who is considering trolling a command bot? (write at least 6 sentences total)"
   ]
  },
  {
   "cell_type": "markdown",
   "id": "0c2417bf-c9a4-4dea-a487-507fa420fe7d",
   "metadata": {},
   "source": [
    "TODO: Write at least 6 sentences here"
   ]
  }
 ],
 "metadata": {
  "kernelspec": {
   "display_name": "Python 3 (ipykernel)",
   "language": "python",
   "name": "python3"
  },
  "language_info": {
   "codemirror_mode": {
    "name": "ipython",
    "version": 3
   },
   "file_extension": ".py",
   "mimetype": "text/x-python",
   "name": "python",
   "nbconvert_exporter": "python",
   "pygments_lexer": "ipython3",
   "version": "3.10.4"
  }
 },
 "nbformat": 4,
 "nbformat_minor": 5
}
