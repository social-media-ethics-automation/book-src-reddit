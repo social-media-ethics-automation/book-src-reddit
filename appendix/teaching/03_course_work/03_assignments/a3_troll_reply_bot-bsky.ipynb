{
 "cells": [
  {
   "cell_type": "markdown",
   "id": "67655e14-ea22-4ff1-9b83-2735028b6dd8",
   "metadata": {},
   "source": [
    "# A3: Trolling a Reply Bot"
   ]
  },
  {
   "cell_type": "markdown",
   "id": "525d1357",
   "metadata": {},
   "source": [
    "\n",
    "In this assignment, your job will be to modify the reply bot below (see section [](../../../../ch07_trolling/05_trolling_reply_bot/03_demo_reply_bot.ipynb)) and make your own version of a reply bot (look for the `TODO` section below). Then after you've modified it, see if you can troll it. At the end, you will have some reflection questions to answer.\n",
    "\n",
    "When you are done, you will need to download this file (file menu -> download) and turn it in on Canvas.\n",
    "\n",
    "Below is the code for the first reply bot from the book, where if you post at it:\n",
    "* “Hi @mybotname.bsky.social, please ___” (where the ___ is some action)\n",
    "* then the bot will reply, “I will now ____” (where the ___ is that same action).\n",
    "\n",
    "## Writing the initial post\n",
    "To start the assignment, we can create an initial post on Bluesky that starts with the expected pattern text, like `Hi @mybotname.bsky.social, please jump`. You can do this by manually creating a post on Bluesky, or using your code from assignment 1.\n",
    "\n",
    "## Log into Bluesky (atproto)\n",
    "\n",
    "These are our normal steps get atproto loaded and logged into Bluesky"
   ]
  },
  {
   "cell_type": "code",
   "execution_count": null,
   "id": "ed4d794b-94dc-48bc-bd59-557d2251a135",
   "metadata": {
    "tags": []
   },
   "outputs": [],
   "source": [
    "from atproto import Client"
   ]
  },
  {
   "cell_type": "markdown",
   "id": "fe7ff131-e8a4-4423-ab35-0c3818c6abd7",
   "metadata": {},
   "source": [
    "(optional) make a fake Bluesky connection with the fake_atproto library\n",
    "For testing purposes, we\"ve added this line of code, which loads a fake version of atproto, so it wont actually connect to Bluesky. __If you want to try to actually connect to Bluesky, don't run this line of code.__"
   ]
  },
  {
   "cell_type": "code",
   "execution_count": null,
   "id": "1cc9e058-bd45-44e4-a93e-4daa302e45bc",
   "metadata": {},
   "outputs": [],
   "source": [
    "%run ../../../../fake_apis/fake_atproto.ipynb"
   ]
  },
  {
   "cell_type": "markdown",
   "id": "63d6e102-0891-4bb3-8156-d69cc04f4bec",
   "metadata": {},
   "source": [
    "To use this on your real Bluesky account, copy your [developer access passwords](https://social-media-ethics-automation.github.io/book/bsky/appendix/making_bot_account.html) into the reddit_keys.py file."
   ]
  },
  {
   "cell_type": "code",
   "execution_count": null,
   "id": "92e97170-80c2-42b7-b661-2eb909b71f14",
   "metadata": {},
   "outputs": [],
   "source": [
    "import bluesky_keys"
   ]
  },
  {
   "cell_type": "code",
   "execution_count": null,
   "id": "a4670d0f-d404-49ae-ad88-5234a60254ff",
   "metadata": {},
   "outputs": [],
   "source": [
    "client = Client(base_url=\"https://bsky.social\")\n",
    "client.login(bluesky_keys.handle, bluesky_keys.password)"
   ]
  },
  {
   "cell_type": "markdown",
   "id": "18e0e43c-83fc-40d9-81da-dd24851c43a5",
   "metadata": {},
   "source": [
    "## TODO: Modify this section (Set expected pattern)\n",
    "_You must must modify at least one thing in the code. You could change the expected patterns here, or you could change the code that replies further down below, or you could change both._\n",
    "### get my handle and set the expected pattern\n",
    "Our first bot will find our latest mention, and then reply with whatever it is told to do.\n",
    "\n",
    "First we need to look up our Bluesky handle"
   ]
  },
  {
   "cell_type": "code",
   "execution_count": null,
   "id": "1b83d585-14a7-454e-8b4b-4f99fa8f918d",
   "metadata": {},
   "outputs": [],
   "source": [
    "# look up my Bluesky handle\n",
    "my_handle = client.me.handle"
   ]
  },
  {
   "cell_type": "markdown",
   "id": "1d5f844d-a230-49f8-a07e-82449a15d046",
   "metadata": {},
   "source": [
    "### set the expected pattern\n",
    "Now we will create a string with the pattern we are looking for, but with our actual bot name"
   ]
  },
  {
   "cell_type": "code",
   "execution_count": null,
   "id": "ecd51051-6b54-4997-8d55-467a74dcf834",
   "metadata": {},
   "outputs": [],
   "source": [
    "#TODO: Modify expected_pattern\n",
    "expected_pattern = \"Hi @\" + my_handle + \", please \"\n",
    "print(expected_pattern)"
   ]
  },
  {
   "cell_type": "markdown",
   "id": "a4d463f2-c04f-4ae4-975e-662ec38cfe3a",
   "metadata": {
    "tags": []
   },
   "source": [
    "### find my latest message\n",
    "We need to find the latest bluesky post that mentions us and match our expected pattern.\n",
    "\n",
    "We do this by first finding our user handle, then requesting \n",
    "\n",
    "We do this by looking in our reddit inbox for messages (we limit it to one, since we just want the latest).\n",
    "\n",
    "It doesn't directly give us the one message (instead it is in something called an \"iterator\"), but we can use the `next` function to get the message out.\n",
    "\n",
    "We then display the subject of the message just so we can see that it found something.."
   ]
  },
  {
   "cell_type": "code",
   "execution_count": null,
   "id": "3c3ff0f8-d311-4362-bd4e-7dd4e307c624",
   "metadata": {},
   "outputs": [],
   "source": [
    "# search posts that mention my handle\n",
    "mentions = client.app.bsky.feed.search_posts({\n",
    "    'q': expected_pattern, \n",
    "    'mentions': my_handle\n",
    "}).posts\n",
    "\n",
    "if(len(mentions) < 1):\n",
    "    print(\"Error: Could not find matching mentions!\")\n",
    "    \n",
    "latest_mention = mentions[0]\n",
    "\n",
    "# display the text of the post, so we can see what we found\n",
    "display(\"latest post text: \" + str(latest_mention.record.text))"
   ]
  },
  {
   "cell_type": "markdown",
   "id": "0198af1c-b595-486a-aedc-755ab20b680a",
   "metadata": {
    "tags": []
   },
   "source": [
    "## TODO: Modify this section (If message matches our pattern, reply)\n",
    "\n",
    "_You must must modify at least one thing in the code. You could change the expected patterns (earlier), or you could change the code that replies below, or you could change both._"
   ]
  },
  {
   "cell_type": "markdown",
   "id": "b1f0bdfd-37af-4556-b983-c8bdb1c1cdcd",
   "metadata": {},
   "source": [
    "Now, if the mention text starts with that expected pattern, then we will find the action from the end of the mention text (based on the expected_pattern length), and reply using that action:\n",
    "\n",
    "We also add \"else\" cases for when we didn't match the patter, and display a message saying what didn't match."
   ]
  },
  {
   "cell_type": "code",
   "execution_count": null,
   "id": "7be517a7-c73e-4d7e-b0a5-5ebd6a5c4d71",
   "metadata": {},
   "outputs": [],
   "source": [
    "# check if the mention text starts with our set phrase\n",
    "if latest_mention.record.text.startswith(expected_pattern):\n",
    "    \n",
    "    # get the action, which should be the end of the string after the expected pattern\n",
    "    action = latest_mention.record.text[len(expected_pattern):]\n",
    "\n",
    "    # make a new message which says we will do the action\n",
    "    message = \"I will now \" + action\n",
    "\n",
    "    # send our message in reply\n",
    "    client.send_post(\n",
    "        message, \n",
    "        reply_to={'root': {'uri': latest_mention.uri, 'cid': latest_mention.cid}, \n",
    "                  'parent': {'uri': latest_mention.uri, 'cid': latest_mention.cid}}\n",
    "    )\n",
    "    \n",
    "else: # else code for if the message subject didn't match\n",
    "    display(\"The message (\" + latest_mention.record.text + \") didn't match our expected pattern (\" + expected_pattern + \")\" )"
   ]
  },
  {
   "cell_type": "markdown",
   "id": "7651e8cb-cf17-412a-b04e-7cb2fd4bb522",
   "metadata": {},
   "source": [
    "## Reflection questions\n",
    "1. What changes did you make to the reply bot?\n"
   ]
  },
  {
   "cell_type": "markdown",
   "id": "3965c5f9-ed07-4fc9-b89d-e325d63440b9",
   "metadata": {},
   "source": [
    "TODO: Write your answer here"
   ]
  },
  {
   "cell_type": "markdown",
   "id": "bd104a8b",
   "metadata": {},
   "source": [
    "2. How could you troll this bot? Give an example of a message that would let you troll it. Or, if you don't think it can be trolled, explain why."
   ]
  },
  {
   "cell_type": "markdown",
   "id": "a697ca8b-d01c-4910-ad61-6c0c6e4f8698",
   "metadata": {},
   "source": [
    "TODO: Write your answer here"
   ]
  },
  {
   "cell_type": "markdown",
   "id": "609d8713-5bfc-4000-aeb8-72d3e114d905",
   "metadata": {},
   "source": [
    "3. What limitations does trying to prevent trolling put on your ability to create a bot? (write at least 3 sentences)"
   ]
  },
  {
   "cell_type": "markdown",
   "id": "bb901bf3-2f8d-433a-8409-ebcbd12bd3ff",
   "metadata": {},
   "source": [
    "TODO: Write at least 3 sentences here"
   ]
  },
  {
   "cell_type": "markdown",
   "id": "26016eba-6854-45d0-833e-dd4bca6bc8f9",
   "metadata": {},
   "source": [
    "4. Pick two ethics frameworks and compare how they might evaluate the responsibility of someone who is creating a reply bot? (write at least 6 sentences total)"
   ]
  },
  {
   "cell_type": "markdown",
   "id": "0bfe7ec7-bcdb-4952-9223-015565fd10c8",
   "metadata": {},
   "source": [
    "TODO: Write at least 6 sentences here"
   ]
  },
  {
   "cell_type": "markdown",
   "id": "067786b9-af3d-4c61-a2b9-bee535130e9d",
   "metadata": {},
   "source": [
    "5. Pick two ethics frameworks and compare how they might evaluate the responsibility of someone who is considering trolling a reply bot? (write at least 6 sentences total)"
   ]
  },
  {
   "cell_type": "markdown",
   "id": "0c2417bf-c9a4-4dea-a487-507fa420fe7d",
   "metadata": {},
   "source": [
    "TODO: Write at least 6 sentences here"
   ]
  }
 ],
 "metadata": {
  "kernelspec": {
   "display_name": "Python 3 (ipykernel)",
   "language": "python",
   "name": "python3"
  },
  "language_info": {
   "codemirror_mode": {
    "name": "ipython",
    "version": 3
   },
   "file_extension": ".py",
   "mimetype": "text/x-python",
   "name": "python",
   "nbconvert_exporter": "python",
   "pygments_lexer": "ipython3",
   "version": "3.12.5"
  }
 },
 "nbformat": 4,
 "nbformat_minor": 5
}
