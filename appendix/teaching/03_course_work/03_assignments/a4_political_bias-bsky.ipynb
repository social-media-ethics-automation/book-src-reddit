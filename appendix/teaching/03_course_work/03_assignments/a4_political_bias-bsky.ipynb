{
 "cells": [
  {
   "cell_type": "markdown",
   "id": "5564309a-edad-4281-809c-e6b363eb34ba",
   "metadata": {},
   "source": [
    "# A4: Political Bias\n",
    "In this assignment, you will be trying to calculate the average political bias and reliability of posts on Bluesky.\n",
    "\n",
    "The code you are starting with here already does a search on a Bluesky and finds the reliability and political bias of url web addresses posted there. You will need to add loop variables to calculate these averages (see chapter 8 practice and demos).\n",
    "\n",
    "After you get the averages to work, you wll then try your code with other search terms, and then you will answer some reflection questions.\n",
    "\n",
    "First, we'll do our normal Bluesky login steps."
   ]
  },
  {
   "cell_type": "code",
   "execution_count": null,
   "id": "20296f2f-5dfe-4001-b5ed-bc2c44baa871",
   "metadata": {},
   "outputs": [],
   "source": [
    "from atproto import Client"
   ]
  },
  {
   "cell_type": "markdown",
   "id": "9b3dfbbb-4bf1-47f7-a4fc-f3ca67d9505f",
   "metadata": {},
   "source": [
    "(optional) make a fake praw connection with the fake_praw library\n",
    "\n",
    "For testing purposes, we've added this line of code, which loads a fake version of praw, so it wont actually connect to reddit. If you want to try to actually connect to reddit, don't run this line of code."
   ]
  },
  {
   "cell_type": "code",
   "execution_count": null,
   "id": "da7c8e54-221f-4b60-92aa-9d9f60f2ed6e",
   "metadata": {},
   "outputs": [],
   "source": [
    "%run ../../../../fake_apis/fake_atproto.ipynb"
   ]
  },
  {
   "cell_type": "code",
   "execution_count": null,
   "id": "ac5df323-c6ea-4265-97a3-00b8577a2daa",
   "metadata": {},
   "outputs": [],
   "source": [
    "%run bluesky_keys.py"
   ]
  },
  {
   "cell_type": "code",
   "execution_count": null,
   "id": "78224ea5-521d-490d-a8ed-456654021517",
   "metadata": {},
   "outputs": [],
   "source": [
    "client = Client(base_url=\"https://bsky.social\")\n",
    "client.login(handle, password)"
   ]
  },
  {
   "cell_type": "markdown",
   "id": "acf5f1fd-071d-4ce9-8d9c-912c57b366e4",
   "metadata": {},
   "source": [
    "## TODO: Fill in Bias and Reliability Info\n",
    "The first step to make this work is to fill in info for the bias and reliability of different websites. \n",
    "\n",
    "If you open `media_info.csv`, you'll see a bunch of partial website links (enough to identify which site the link is for), and then blank spots for the reliability and bias of that website news sources. \n",
    "\n",
    "You'll use the [Media Bias chart](https://adfontesmedia.com/interactive-media-bias-chart/) to look up one organizations ratings of bias and reliability info for each of those sites.\n",
    "\n",
    "![A small preview of the media bias chart with bias on the top axis, and reliability on the left axis.](media_bias_chart_small.png)\n",
    "\n",
    "So, open that file and then for each of the sites listed, fill in a number for the bias and reliability of the site (you'll have to figure out how you want to turn bias and reliability into numbers). You can add additional sites as well if you want."
   ]
  },
  {
   "cell_type": "markdown",
   "id": "b1a83f21-2fb4-4500-a75b-838f93e9fbfb",
   "metadata": {},
   "source": [
    "## Load Bias and Reliability Info\n",
    "The code to load the bias and reliability info is in another file: `a4-supporting_code.ipynb`. You can look at that file if you are interested, but you are not required to."
   ]
  },
  {
   "cell_type": "code",
   "execution_count": null,
   "id": "c0c63cb1-ef90-451a-8f4b-953d4ffe2383",
   "metadata": {},
   "outputs": [],
   "source": [
    "# You can look in this file if you want to see more\n",
    "# about how the file information is loaded\n",
    "%run a4-supporting_code.ipynb"
   ]
  },
  {
   "cell_type": "markdown",
   "id": "912a44b0-88bb-4124-961d-600904176506",
   "metadata": {},
   "source": [
    "## Helper function for looking up urls\n",
    "_Note: You don't have to worry about the details of how this works, but the basic idea is it takes url shortener links and turns them into the actual links_"
   ]
  },
  {
   "cell_type": "code",
   "execution_count": null,
   "id": "6bdcebaf-89d8-4c9c-b8c4-d9e439174036",
   "metadata": {},
   "outputs": [],
   "source": [
    "# This helper function will help us look up full urls, since some posts come with shortened ones\n",
    "# It has a bunch of checks to timeout on DNS connections and reads, and tries 3 times to find the URL\n",
    "# If it fails, it just gives up and gives you the short url\n",
    "import requests\n",
    "from time import sleep\n",
    "\n",
    "def get_full_url(short_url, timeout=(2, 5), retries=3):\n",
    "    for attempt in range(retries):\n",
    "        try:\n",
    "            response = requests.head(short_url, allow_redirects=True, timeout=timeout)\n",
    "            return response.url\n",
    "        except requests.Timeout:\n",
    "            print(f\"Timeout on attempt {attempt + 1} for URL: {short_url}\")\n",
    "            if attempt < retries - 1:\n",
    "                sleep(1)  # Optional: wait before retrying\n",
    "        except requests.RequestException as e:\n",
    "            print(f\"Error retrieving URL: {e}\")\n",
    "            return short_url\n",
    "    return short_url  # Return the original if all attempts fail"
   ]
  },
  {
   "cell_type": "markdown",
   "id": "2c80d8af-cbe6-411d-af71-a22663677660",
   "metadata": {},
   "source": [
    "## Get a list of search results from Bluesky\n",
    "\n",
    "We will now get a list of results from Bluesky. To start with, we'll try to get 100 with the search term \"Seattle.\"\n"
   ]
  },
  {
   "cell_type": "code",
   "execution_count": null,
   "id": "2646c223-c803-4789-b450-0d796e1d2da2",
   "metadata": {},
   "outputs": [],
   "source": [
    "# The \"params\" variable is what we send as a search request to bluesky\n",
    "# 'q' is the search query; edit this if you want to try different search terms\n",
    "# 'limit' is the maximum number of posts you'll extract. \n",
    "params = {\n",
    "        'q': \"news\",\n",
    "        'limit': 100\n",
    "    }\n",
    "\n",
    "posts = client.app.bsky.feed.search_posts(params=params).posts"
   ]
  },
  {
   "cell_type": "markdown",
   "id": "bf26f615-2d7a-4c52-87f5-89aebe4ca70e",
   "metadata": {},
   "source": [
    "## TODO: Modify the code below (Run Search)\n",
    "The code below loops through each bluesky post, and if the submission was a website url, the program checks to see if we have reliability/bias info on the site. If we have that info we calculate the bias and reliability and display it.\n",
    "\n",
    "__Your job__ is to add loop variables to the code to calculate the number of urls we had info for (`number_matched_urls`) and then the total bias and total reliability for those urls. Then you can use that at the end to calculate the average bias and average reliability.\n"
   ]
  },
  {
   "cell_type": "code",
   "execution_count": null,
   "id": "469136b4-3f9f-4370-88c8-c00c5ad86207",
   "metadata": {},
   "outputs": [],
   "source": [
    "#### TODO: Create your loop variables here\n",
    "\n",
    "# Go through all the posts\n",
    "for p in posts:\n",
    "    embed = p.record.embed\n",
    "    \n",
    "    # Check if the post has an external link\n",
    "    if hasattr(embed, 'external'):\n",
    "        url = embed.external.uri\n",
    "\n",
    "        #Need to check if we can find the full url, so our lookup is more accurate\n",
    "        #Note \n",
    "        print(\"Checking for full url...\")\n",
    "        full_url = get_full_url(url)\n",
    "        print(full_url)\n",
    "        # try to find the source website in our dataset\n",
    "        matching_site = find_matching_site(full_url)\n",
    "\n",
    "         # if we found the matching site, then we have info for it\n",
    "        if(matching_site):\n",
    "            \n",
    "            # look up the bias and reliability for the site the url is from\n",
    "            url_bias = media_bias_lookup[matching_site]\n",
    "            url_reliability = media_reliability_lookup[matching_site]\n",
    "\n",
    "            #### TODO: Update the three loop variables here #### \n",
    "\n",
    "            print(\"  bias: \" + str(url_bias))\n",
    "            print(\"  reliability: \" + str(url_reliability))\n",
    "        else:\n",
    "            # We didn't have info on this site\n",
    "            print(\"**did not recognize site!\")\n",
    "\n",
    "        print()\n",
    "\n",
    "#### TODO: calculate the averages below and output the total and averages\n",
    "# Note: It's ok if the code gives an error when no urls are found\n",
    "#  (since trying to find the average might cause a divide by 0 error)    \n",
    "\n",
    "print(\"--------------------------------------\")\n",
    "print(\"Total number of urls we could measure: \")\n",
    "print(\"Average bias: \")\n",
    "print(\"Average reliability: \")\n",
    "        "
   ]
  },
  {
   "cell_type": "markdown",
   "id": "fd63eaa6-fbb8-4208-ba24-d999a87df650",
   "metadata": {},
   "source": [
    "## Reflection tasks\n",
    "\n",
    "Once you get the code above working and finding an average bias and reliability, modify the search to try at least three different searches. Open up the bluesky separately and try the same searches look at your results, then answer the questions below.\n",
    "\n",
    "Note: For searches, you can search try different search terms that might have different views and post links to news articles, like: \"news\", \"science\", \"politics\", \"liberal\", \"conservative\", \"tech\", \"BlackLivesMatter\", etc.\n",
    "\n",
    "1. What additional searches did you run (at least 3)?\n"
   ]
  },
  {
   "cell_type": "markdown",
   "id": "089734b0-d861-4be2-a394-062905f011b5",
   "metadata": {},
   "source": [
    "TODO: Answer question here"
   ]
  },
  {
   "cell_type": "markdown",
   "id": "471a9632-bf36-496e-9c83-16e894906333",
   "metadata": {},
   "source": [
    "2. When doing those searches, what were your observations about the calculations of media bias and reliability? (For example: were there a lot of urls that you didn't measure? Do you feel like the final calculated bias and reliability match the search results?). Answer with at least 3 sentences"
   ]
  },
  {
   "cell_type": "markdown",
   "id": "124d23fc-bbc6-41c7-a1fb-04539b2bd531",
   "metadata": {},
   "source": [
    "TODO: Answer question here"
   ]
  },
  {
   "cell_type": "markdown",
   "id": "eb1a876e-41f8-4f1d-917a-9dd1a952311c",
   "metadata": {},
   "source": [
    "3. If you could redesign the Media Bias Chart, what would you want to do (e.g., add some other dimension besides just bias/responsibility, change how it is evaluated, add more news sources, consider different countries)? Answer with at least 3 sentences."
   ]
  },
  {
   "cell_type": "markdown",
   "id": "ba2d13a6-24be-449c-8cb4-7dcaa58d02da",
   "metadata": {},
   "source": [
    "TODO: Answer question here"
   ]
  },
  {
   "cell_type": "markdown",
   "id": "a7e583bb-cbc4-4a90-aed6-cf5deca55e88",
   "metadata": {},
   "source": [
    "4. What might a social media companies or advertizers (including political campaigns) want to do with information on a users' political views and susceptibility to consipracy theories? Answer with at least 3 sentences."
   ]
  },
  {
   "cell_type": "markdown",
   "id": "83de3bf3-04d6-4bb0-ae1e-3d072e0940e0",
   "metadata": {},
   "source": [
    "TODO: Answer question here"
   ]
  },
  {
   "cell_type": "markdown",
   "id": "c4e22fe8-3f80-4138-9eae-f2517de835b9",
   "metadata": {},
   "source": [
    "5. Choose two ethics frameworks and use the frameworks to consider the different uses of the media bias and reliability information. Answer with at least 6 sentences total (e.g., 3 per framework)."
   ]
  },
  {
   "cell_type": "markdown",
   "id": "b55d1e3b",
   "metadata": {},
   "source": [
    "TODO: Answer question here"
   ]
  }
 ],
 "metadata": {
  "kernelspec": {
   "display_name": "Python 3 (ipykernel)",
   "language": "python",
   "name": "python3"
  },
  "language_info": {
   "codemirror_mode": {
    "name": "ipython",
    "version": 3
   },
   "file_extension": ".py",
   "mimetype": "text/x-python",
   "name": "python",
   "nbconvert_exporter": "python",
   "pygments_lexer": "ipython3",
   "version": "3.12.5"
  }
 },
 "nbformat": 4,
 "nbformat_minor": 5
}
