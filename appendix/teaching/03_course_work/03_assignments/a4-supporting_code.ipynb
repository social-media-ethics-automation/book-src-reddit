{
 "cells": [
  {
   "cell_type": "markdown",
   "id": "e8dd6c88-6977-41e6-a8e7-4bc927524073",
   "metadata": {},
   "source": [
    "# A4 Supporting Code\n",
    "This is code that helps make a3 work. You can look through it if you want, but there is no need to understand it."
   ]
  },
  {
   "cell_type": "markdown",
   "id": "f809fad5-55a7-4fc3-81dd-30d92831fa92",
   "metadata": {},
   "source": [
    "Our measure of media website bias and reliability is based on the Media Bias Chart 9.0 (https://adfontesmedia.com/static-mbc)\n",
    "\n",
    "You will have to fill in bias and reliability values in the media_info.csv file.\n",
    "\n",
    "![Media bias chart with grid, showing the range labels](media_bias_chart_small.png)\n",
    "\n",
    "\n",
    "- You can open the by right-clicking media_info.csv and selecting Open With -> Editor. You can then modify entries, or add new ones for more sites (like from the interactive media bias chart here: https://adfontesmedia.com/interactive-media-bias-chart/). Then save it and rerun this code and the code below.\n",
    "\n",
    "The code below loads the bias and reliability info and makes three things that the code will use later:\n",
    "- a `find_matching_site(url)` function, which given a url to an article or something, tries to find the site it's from (e.g., \"https://www.npr.org/sections/codeswitch/\" is from the site \"npr.org\"\n",
    "- `media_bias_lookup` a dictionary that when given a site (like \"npr.org\"), finds the bias for the site (for npr.org: -1)\n",
    "- `media_reliability_lookup` a dictionary that when given a site (like \"npr.org\"), finds the reliability for the site (for npr.org: 1)"
   ]
  },
  {
   "cell_type": "code",
   "execution_count": 1,
   "id": "f607fedf-66bb-4dee-b41c-1c9aeb9c3619",
   "metadata": {},
   "outputs": [
    {
     "ename": "ModuleNotFoundError",
     "evalue": "No module named 'pandas'",
     "output_type": "error",
     "traceback": [
      "\u001b[1;31m---------------------------------------------------------------------------\u001b[0m",
      "\u001b[1;31mModuleNotFoundError\u001b[0m                       Traceback (most recent call last)",
      "Input \u001b[1;32mIn [1]\u001b[0m, in \u001b[0;36m<cell line: 2>\u001b[1;34m()\u001b[0m\n\u001b[0;32m      1\u001b[0m \u001b[38;5;66;03m# load the pandas code library, which helps us use the csv file\u001b[39;00m\n\u001b[1;32m----> 2\u001b[0m \u001b[38;5;28;01mimport\u001b[39;00m \u001b[38;5;21;01mpandas\u001b[39;00m \u001b[38;5;28;01mas\u001b[39;00m \u001b[38;5;21;01mpd\u001b[39;00m\n\u001b[0;32m      4\u001b[0m \u001b[38;5;66;03m# load the media_info.csv file\u001b[39;00m\n\u001b[0;32m      5\u001b[0m media_info_df \u001b[38;5;241m=\u001b[39m pd\u001b[38;5;241m.\u001b[39mread_csv(\u001b[38;5;124m'\u001b[39m\u001b[38;5;124mmedia_info.csv\u001b[39m\u001b[38;5;124m'\u001b[39m)\n",
      "\u001b[1;31mModuleNotFoundError\u001b[0m: No module named 'pandas'"
     ]
    }
   ],
   "source": [
    "# load the pandas code library, which helps us use the csv file\n",
    "import pandas as pd\n",
    "\n",
    "# load the media_info.csv file\n",
    "media_info_df = pd.read_csv('media_info.csv')\n",
    "\n",
    "# get a list of the sites we have information for in the media_info.csv\n",
    "media_sites = media_info_df['site']\n",
    "\n",
    "# TODO: Only count sites that have bias and reliability numbers\n",
    "\n",
    "def find_matching_site(url):\n",
    "    for site in media_sites:\n",
    "        if site in url:\n",
    "            return site   \n",
    "\n",
    "# make a lookup dictionary, where they key is the site, and the value is the bias for that site\n",
    "media_bias_lookup = {m_info['site']: m_info['bias'] for i, m_info in media_info_df.iterrows()}\n",
    "\n",
    "# make a lookup dictionary, where they key is the site, and the value is the reliability for that site\n",
    "media_reliability_lookup = {m_info['site']: m_info['reliability'] for i, m_info in media_info_df.iterrows()}"
   ]
  },
  {
   "cell_type": "code",
   "execution_count": null,
   "id": "050e7d3a-dcc6-43b2-a3bd-67f54725d2aa",
   "metadata": {},
   "outputs": [],
   "source": []
  }
 ],
 "metadata": {
  "kernelspec": {
   "display_name": "Python 3 (ipykernel)",
   "language": "python",
   "name": "python3"
  },
  "language_info": {
   "codemirror_mode": {
    "name": "ipython",
    "version": 3
   },
   "file_extension": ".py",
   "mimetype": "text/x-python",
   "name": "python",
   "nbconvert_exporter": "python",
   "pygments_lexer": "ipython3",
   "version": "3.10.4"
  }
 },
 "nbformat": 4,
 "nbformat_minor": 5
}
