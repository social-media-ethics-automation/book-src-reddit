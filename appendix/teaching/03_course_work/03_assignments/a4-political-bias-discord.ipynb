{
 "cells": [
  {
   "cell_type": "markdown",
   "id": "6fb9e2fa-5f32-4ddc-bf9c-5256d8e5076a",
   "metadata": {},
   "source": [
    "# A4: Political Bias"
   ]
  },
  {
   "cell_type": "markdown",
   "id": "75d65844",
   "metadata": {},
   "source": [
    "In this assignment, you will be trying to calculate the average political bias and reliability of posts in a Discord channel.\n",
    "\n",
    "__Note: It may be hard to get your bot permission to read the history of a discord channel that would have interesting data. You may consider doing this assignment in another social media platform, or, if you may consider having your instructor copy content from another social media platform into discord channels you can more easily get access to.__\n",
    "\n",
    "The code you are starting with here already does a search on a (fake) discord channel and finds the reliability and political bias of url web addresses posted to the channel. You will need to add loop variables to calculate these averages (see chapter 8 practice and demos).\n",
    "\n",
    "After you get the averages to work, you wll then try your code on other discord channels, and then you will answer some reflection questions.\n",
    "\n",
    "First, we'll do our normal Discord login steps."
   ]
  },
  {
   "cell_type": "markdown",
   "id": "8fef2034-dcde-40b6-9329-b446a0e931f5",
   "metadata": {},
   "source": [
    "## Discord Setup"
   ]
  },
  {
   "cell_type": "code",
   "execution_count": 5,
   "id": "2c9b9f36-4fe8-4852-adf5-1135f70c7e41",
   "metadata": {
    "tags": []
   },
   "outputs": [],
   "source": [
    "# Load some code called \"discord\" that will help us work with Discord\n",
    "import discord\n",
    "\n",
    "# Load another library that helps the bot work in Jupyter Noteboook\n",
    "import nest_asyncio\n",
    "nest_asyncio.apply()"
   ]
  },
  {
   "cell_type": "markdown",
   "id": "0391b29d-9ddd-4179-a6d2-edad90cb1b1c",
   "metadata": {},
   "source": [
    "(optional) make a fake Discord connection with the fake_discord library\n",
    "\n",
    "For testing purposes, we've added this line of code, which loads a fake version of discord, so it wont actually connect to Discord. __If you want to try to actually connect to Discord, don't run this line of code.__"
   ]
  },
  {
   "cell_type": "code",
   "execution_count": 6,
   "id": "adc8b5e3-9c94-43f3-af47-f5606cd82cc8",
   "metadata": {},
   "outputs": [
    {
     "data": {
      "text/html": [
       "<strong style='color:darkred'>Fake discord is replacing the discord.py library. Fake discord doesn&#x27;t need real passwords, and prevents you from accessing real discord</strong>"
      ],
      "text/plain": [
       "<IPython.core.display.HTML object>"
      ]
     },
     "metadata": {},
     "output_type": "display_data"
    }
   ],
   "source": [
    "%run ../../../../fake_apis/fake_discord.ipynb"
   ]
  },
  {
   "cell_type": "code",
   "execution_count": 7,
   "id": "f9b7be23-dfc0-43e6-a049-acd686dc3a5a",
   "metadata": {},
   "outputs": [],
   "source": [
    "%run discord_keys.py"
   ]
  },
  {
   "cell_type": "code",
   "execution_count": 8,
   "id": "078b3e41-1c0e-4fad-bc4d-9c1fd0c28a07",
   "metadata": {},
   "outputs": [],
   "source": [
    "# set up Discord client with permissions to read message_contents\n",
    "intents = discord.Intents.default()\n",
    "intents.message_content = True "
   ]
  },
  {
   "cell_type": "markdown",
   "id": "63c8c4f9",
   "metadata": {},
   "source": [
    "## TODO: Fill in Bias and Reliability Info\n",
    "The first step to make this work is to fill in info for the bias and reliability of different websites. \n",
    "\n",
    "If you open `media_info.csv`, you'll see a bunch of partial website links (enough to identify which site the link is for), and then blank spots for the reliability and bias of that website news sources. \n",
    "\n",
    "You'll use the [Media Bias chart](https://adfontesmedia.com/interactive-media-bias-chart/) to look up one organizations ratings of bias and reliability info for each of those sites.\n",
    "\n",
    "![A small preview of the media bias chart with bias on the top axis, and reliability on the left axis.](media_bias_chart_small.png)\n",
    "\n",
    "So, open that file and then for each of the sites listed, fill in a number for the bias and reliability of the site (you'll have to figure out how you want to turn bias and reliability into numbers). You can add additional sites as well if you want."
   ]
  },
  {
   "cell_type": "markdown",
   "id": "3a2dbd35-52bf-4b5b-943d-3485ef7bad6a",
   "metadata": {},
   "source": [
    "## Load Bias and Reliability Info\n",
    "The code to load the bias and reliability info is in another file: `a4-supporting_code.ipynb`. You can look at that file if you are interested, but you are not required to."
   ]
  },
  {
   "cell_type": "code",
   "execution_count": 9,
   "id": "789def50-4d8a-493b-a8fd-e4c19f677011",
   "metadata": {},
   "outputs": [],
   "source": [
    "# You can look in this file if you want to see more\n",
    "# about how the file information is loaded\n",
    "%run a4-supporting_code.ipynb"
   ]
  },
  {
   "cell_type": "markdown",
   "id": "046f4b2c-16af-4e92-bf60-f344b7116fa5",
   "metadata": {},
   "source": [
    "## find a List of discord posts\n",
    "We can now make a bot that loads a list of discord posts.\n",
    "\n",
    "_Note: If you run this on real discord, we can’t gurantee anything about how offensive what you might find is._"
   ]
  },
  {
   "cell_type": "code",
   "execution_count": 10,
   "id": "bf92204c-fa40-45ad-b0c9-0c63bf029093",
   "metadata": {},
   "outputs": [
    {
     "data": {
      "text/html": [
       "<strong style='color:darkred'>Fake discord is pretending to set up a client connection</strong>"
      ],
      "text/plain": [
       "<IPython.core.display.HTML object>"
      ]
     },
     "metadata": {},
     "output_type": "display_data"
    },
    {
     "data": {
      "text/html": [
       "<strong style='color:darkred'>Fake discord bot is fake logging in and starting to run</strong>"
      ],
      "text/plain": [
       "<IPython.core.display.HTML object>"
      ]
     },
     "metadata": {},
     "output_type": "display_data"
    },
    {
     "data": {
      "text/html": [
       "<strong style='color:darkred'>Fake discord bot is shutting down</strong>"
      ],
      "text/plain": [
       "<IPython.core.display.HTML object>"
      ]
     },
     "metadata": {},
     "output_type": "display_data"
    }
   ],
   "source": [
    "# set up discord connection\n",
    "client = discord.Client(intents=intents)\n",
    "\n",
    "# TODO: put the discord channel id number below for the channel you want to use\n",
    "channel_id = 123456789\n",
    "\n",
    "# Provide instructions for what your discord bot should do once it has logged in\n",
    "@client.event\n",
    "async def on_ready():\n",
    "    global recent_posts # Save the recent_posts variable outside our running bot\n",
    "    \n",
    "    # Load the discord channel you want to post to\n",
    "    channel = client.get_channel(channel_id)\n",
    "\n",
    "    # Get the latest post in the channel history\n",
    "    post_history = channel.history(limit=10)\n",
    "    \n",
    "    #special code to turn the post_history from discord into a python list\n",
    "    recent_posts = [post async for post in post_history]\n",
    "\n",
    "    # Tell your bot to stop running\n",
    "    await client.close()\n",
    "    \n",
    "# Now that we've defined how the bot shoould work, start running your bot\n",
    "client.run(discord_token)"
   ]
  },
  {
   "cell_type": "markdown",
   "id": "f72c2e28-ce05-4414-a6c7-d6431cc2744b",
   "metadata": {},
   "source": [
    "## TODO: Modify the code below (Run Search)\n",
    "The code below loops through each reddit submission, and if the submission was a website url, the program checks to see if we have reliability/bias info on the site. If we have that info we calculate the bias and reliability and display it.\n",
    "\n",
    "__Your job__ is to add loop variables to the code to calculate the number of urls we had info for (`number_matched_urls`) and then the total bias and total reliability for those urls. Then you can use that at the end to calculate the average bias and average reliability.\n"
   ]
  },
  {
   "cell_type": "code",
   "execution_count": 11,
   "id": "05e03b95-f18f-47d9-855a-b8a824d8a57c",
   "metadata": {
    "tags": []
   },
   "outputs": [
    {
     "name": "stdout",
     "output_type": "stream",
     "text": [
      "Breaking news: A lovely cat took a nice long nap today!\n",
      "None\n",
      "**did not recognize site!\n",
      "\n",
      "Breaking news: Someone said a really mean thing on the internet today!\n",
      "None\n",
      "**did not recognize site!\n",
      "\n",
      "Breaking news: Some grandparents made some yummy cookies for all the kids to share!\n",
      "None\n",
      "**did not recognize site!\n",
      "\n",
      "Breaking news: All the horrors of the universe revealed at last!\n",
      "None\n",
      "**did not recognize site!\n",
      "\n",
      "--------------------------------------\n",
      "Total number of urls we could measure: \n",
      "Average bias: \n",
      "Average reliability: \n"
     ]
    }
   ],
   "source": [
    "#### TODO: make three loop variables here: ####\n",
    "#   number_matched_urls\n",
    "#   total_url_bias\n",
    "#   total_url_reliability\n",
    "\n",
    "\n",
    "# go through all the tweets\n",
    "for post in recent_posts:\n",
    "    \n",
    "    print(post.content)\n",
    "\n",
    "    # go through any embedded website links in the post\n",
    "    for embed in post.embeds:\n",
    "        # try to find the source website in our dataset\n",
    "        matching_site = find_matching_site(embed.url)\n",
    "        print(matching_site)\n",
    "\n",
    "        # if we found the matching site, then we have info for it\n",
    "        if(matching_site):\n",
    "\n",
    "            # look up the bias and reliability for the site the url is from\n",
    "            url_bias = media_bias_lookup[matching_site]\n",
    "            url_reliability = media_reliability_lookup[matching_site]\n",
    "\n",
    "            #### TODO: Update the three loop variables here #### \n",
    "\n",
    "            print(\"  bias: \" + str(url_bias))\n",
    "            print(\"  reliability: \" + str(url_reliability))\n",
    "        else:\n",
    "            # We didn't have info on this site\n",
    "            print(\"**did not recognize site!\")\n",
    "\n",
    "    print()\n",
    "        \n",
    "\n",
    "####  TODO: Use the loop variables to calculate the total number of urls #### \n",
    "#  we cold measure and then the average bias and reliability for those\n",
    "# Then display them with the print statements below\n",
    "\n",
    "print(\"--------------------------------------\")\n",
    "print(\"Total number of urls we could measure: \")\n",
    "print(\"Average bias: \")\n",
    "print(\"Average reliability: \")"
   ]
  },
  {
   "cell_type": "markdown",
   "id": "be133008-425f-4f8d-bdd1-70ad89b80ed9",
   "metadata": {},
   "source": [
    "## Reflection tasks\n",
    "\n",
    "Once you get the code above working and finding an average bias and reliability, modify the search to try at least three more subreddits (and get more posts at a time, like 100). Open up the subreddit separately and look at your results, then answer the questions below.\n",
    "\n",
    "Note: For searches, you can search for different subreddits that might have different views and post links to news articles, like: \"news\", \"science\", \"politics\", \"liberal\", \"conservative\", \"tech\", \"BlackLivesMatter\",  etc.\n",
    "\n",
    "1. What additional searches did you run (at least 3)?"
   ]
  },
  {
   "cell_type": "markdown",
   "id": "97c473e9-5b16-4edd-9777-8bbff17a1c95",
   "metadata": {},
   "source": [
    "TODO: Answer the question here"
   ]
  },
  {
   "cell_type": "markdown",
   "id": "fd86be7b-ecb5-4c96-b62a-2daa34e613f2",
   "metadata": {},
   "source": [
    "2. When doing those searches, what were your observations about the calculations of media bias and reliability? (For example: were there a lot of urls that you didn't measure? Do you feel like the final calculated bias and reliability match the search results?). Answer with at least 3 sentences"
   ]
  },
  {
   "cell_type": "markdown",
   "id": "8dcffa15-14b2-4e6c-9028-7720d9c4b348",
   "metadata": {},
   "source": [
    "TODO: Answer the question here with at least 3 sentences"
   ]
  },
  {
   "cell_type": "markdown",
   "id": "0806f464-3fa7-4df4-94ea-263604df64b9",
   "metadata": {},
   "source": [
    "3. If you could redesign the Media Bias Chart, what would you want to do (e.g., add some other dimension besides just bias/responsibility, change how it is evaluated, add more news sources, consider different countries)? Feel free to search online for critiques of the Media Bias Chart. Answer with at least 3 sentences."
   ]
  },
  {
   "cell_type": "markdown",
   "id": "bb476ec9-4306-4169-8afb-8f9141f550e3",
   "metadata": {},
   "source": [
    "TODO: Answer the question here with at least 3 sentences"
   ]
  },
  {
   "cell_type": "markdown",
   "id": "05d2d1c9-68d8-420c-8181-2bca8f974f43",
   "metadata": {},
   "source": [
    "4. What might a social media companies or advertizers (including political campaigns) want to do with information on a users' political views and susceptibility to consipracy theories? Answer with at least 3 sentences."
   ]
  },
  {
   "cell_type": "markdown",
   "id": "baaffa22-0536-4a79-a5f4-f70f9662e43e",
   "metadata": {},
   "source": [
    "TODO: Answer the question here with at least 3 sentences"
   ]
  },
  {
   "cell_type": "markdown",
   "id": "6db14d6f-0dad-42ec-a8f8-3959ec040e72",
   "metadata": {},
   "source": [
    "5. Choose two ethics frameworks and use the frameworks to consider the different uses of the media bias and reliability information. Answer with at least 6 sentences total (e.g., 3 per framework)."
   ]
  },
  {
   "cell_type": "markdown",
   "id": "c8a34598-ec1d-4dd7-94ee-469170bfd176",
   "metadata": {},
   "source": [
    "TODO: Answer the question here with at least 6 sentences"
   ]
  }
 ],
 "metadata": {
  "kernelspec": {
   "display_name": "Python 3 (ipykernel)",
   "language": "python",
   "name": "python3"
  },
  "language_info": {
   "codemirror_mode": {
    "name": "ipython",
    "version": 3
   },
   "file_extension": ".py",
   "mimetype": "text/x-python",
   "name": "python",
   "nbconvert_exporter": "python",
   "pygments_lexer": "ipython3",
   "version": "3.10.4"
  }
 },
 "nbformat": 4,
 "nbformat_minor": 5
}
