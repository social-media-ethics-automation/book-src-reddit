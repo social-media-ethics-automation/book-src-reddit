{
 "cells": [
  {
   "cell_type": "markdown",
   "id": "0cd4388e-b71c-4bd1-a60e-d2ef3933f3de",
   "metadata": {},
   "source": [
    "# Demo: Display Real Discord Comments and Replies"
   ]
  },
  {
   "cell_type": "markdown",
   "id": "5fdfe7cf-3641-4919-9d56-f3b8c74b7b96",
   "metadata": {},
   "source": [
    "Now lets do the same thing we did on the last page (using recursion to display comments and replies), but do it on Discord! (Either for real or faked with the fake_praw library).\n",
    "\n",
    "Note: Discord has different mechanisms to officially indicate \"replies.\" They can either be a new post that is in reply to a previous post, or they can be part of a thread. Additionally, in discord, simply posting after a previous post can informally indicate a reply, but it is hard to automatically deduce what is a reply in this way.\n",
    "\n",
    "For the purposes of this example, we will only be using posts that are directly \"replies\" to previous posts. We will ignore threads in this demo."
   ]
  },
  {
   "cell_type": "markdown",
   "id": "cb900b5a-c199-47b8-95a9-417d44a786ab",
   "metadata": {
    "tags": []
   },
   "source": [
    "## Discord Setup"
   ]
  },
  {
   "cell_type": "code",
   "execution_count": null,
   "id": "883641dc-a5a4-47d7-ba9c-3532e9df58d8",
   "metadata": {},
   "outputs": [],
   "source": [
    "# Load some code called \"discord\" that will help us work with Discord\n",
    "import discord\n",
    "\n",
    "# Load another library that helps the bot work in Jupyter Noteboook\n",
    "import nest_asyncio\n",
    "nest_asyncio.apply()"
   ]
  },
  {
   "cell_type": "markdown",
   "id": "cc8ae3f6",
   "metadata": {},
   "source": [
    "(optional) make a fake Discord connection with the fake_discord library\n",
    "\n",
    "For testing purposes, we've added this line of code, which loads a fake version of discord, so it wont actually connect to Discord. __If you want to try to actually connect to Discord, don't run this line of code.__"
   ]
  },
  {
   "cell_type": "code",
   "execution_count": null,
   "id": "d42b7010-2690-4efb-b404-02682e39b559",
   "metadata": {},
   "outputs": [],
   "source": [
    "%run ../../fake_apis/fake_discord.ipynb"
   ]
  },
  {
   "cell_type": "code",
   "execution_count": null,
   "id": "a45ce757-b313-4de6-b5c4-32d255946f0f",
   "metadata": {},
   "outputs": [],
   "source": [
    "# Set up your Discord connection\n",
    "# TODO: put the discord token for your bot below\n",
    "discord_token = \"m#5@_fake_discord_token_$%Ds\"\n",
    "\n",
    "# set up Discord client with permissions to read message_contents\n",
    "intents = discord.Intents.default()\n",
    "intents.message_content = True "
   ]
  },
  {
   "cell_type": "markdown",
   "id": "da45bc67-b72b-45ef-8f70-7eedf9261945",
   "metadata": {},
   "source": [
    "## Helper function to display text in an indented box\n",
    "(You don't need to worry about how this works. This is that function that helps display posts in indented boxes)"
   ]
  },
  {
   "cell_type": "code",
   "execution_count": null,
   "id": "98574fd2-9380-4653-8b42-d5f00fd634c3",
   "metadata": {},
   "outputs": [],
   "source": [
    "from IPython.display import HTML, Image, display\n",
    "import html\n",
    "def display_indented(text, left_margin=0):\n",
    "    display(\n",
    "        HTML(\n",
    "            \"<pre style='border:solid 1px;padding:3px;margin-left:\"+ str(left_margin) + \"px'>\" + \n",
    "            html.escape(text) + \n",
    "            \"</pre>\"\n",
    "        )\n",
    "    )"
   ]
  },
  {
   "cell_type": "markdown",
   "id": "53dd54e2-386d-4734-9025-58f601e40848",
   "metadata": {},
   "source": [
    "## Helper function to reconstruct reply tree\n",
    "(You don't need to worry about how this works. This is that function that helps take the list of posts from the channel history and organize it into a proper reply tree structure)"
   ]
  },
  {
   "cell_type": "code",
   "execution_count": null,
   "id": "ccfc7bfb-a1e2-49be-a3e7-bc3736fa5aed",
   "metadata": {},
   "outputs": [],
   "source": [
    "async def reconstruct_reply_tree(recent_posts):\n",
    "    # make a post + replies entry for each post (replies empty for now)\n",
    "    posts_with_replies_info = [{\"post\": recent_post, \"replies\": []} for recent_post in recent_posts]\n",
    "    \n",
    "    # create look-up dictionary for the post+replies entries based on the post id\n",
    "    post_with_replies_lookup = {post_with_replies[\"post\"].id: post_with_replies for post_with_replies in posts_with_replies_info}\n",
    "    \n",
    "    # start a list that will become our post tree\n",
    "    post_tree = []\n",
    "    \n",
    "    # go through all the posts_with_replies_info, and either add them to the post they are in \n",
    "    # reply to (if htey are a reply), or add them directly to the post_tree otherwise\n",
    "    for post_with_replies in posts_with_replies_info:\n",
    "        \n",
    "        if(post_with_replies[\"post\"].type == discord.MessageType.reply):\n",
    "            # if post is a reply, find what it is a reply to and add it to the replies list of that post\n",
    "            reply_to_id = post_with_replies[\"post\"].reference.message_id\n",
    "\n",
    "            if reply_to_id in post_with_replies_lookup:\n",
    "                # if we find the post this was a reply to, \n",
    "                # add this post_with_replies to the replies of that post_with_replies info\n",
    "                reply_to_post_with_replies_info = post_with_replies_lookup[reply_to_id]\n",
    "\n",
    "                reply_to_post_with_replies_info['replies'].append(post_with_replies)\n",
    "\n",
    "            else:\n",
    "                # if we couldn't find the post this was in reply to, print warning and\n",
    "                # just add it as a regular post\n",
    "                print(\"Warning could not find post: \" + str(reply_to_id) + \", which message \" + str(post_with_replies[\"post\"].id) + \" replied to\")\n",
    "                post_tree.append(post_with_replies)\n",
    "        \n",
    "        else: # not a reply, just add to post_tree directly\n",
    "            post_tree.append(post_with_replies)\n",
    "            \n",
    "    return post_tree"
   ]
  },
  {
   "cell_type": "markdown",
   "id": "c19c8f48-c44b-4859-8ec1-9f600999865c",
   "metadata": {},
   "source": [
    "## Helper function to load the recent posts from channel return the reply tree\n",
    "\n",
    "(You don't need to worry about how this works. This is that function that gets the recent history from a channel, and then uses the `reconstruct_reply_tree` function to turn them into a reply tree data structure. By default, the `hist_limit` is set to get the most recent 30 posts.)"
   ]
  },
  {
   "cell_type": "code",
   "execution_count": null,
   "id": "5babfad4-8a6a-45d6-a135-c458562e6138",
   "metadata": {},
   "outputs": [],
   "source": [
    "def get_channel_post_tree(channel_id, hist_limit=30):\n",
    "    # set up discord connection\n",
    "    client = discord.Client(intents=intents)\n",
    "\n",
    "    # Provide instructions for what your discord bot should do once it has logged in\n",
    "    @client.event\n",
    "    async def on_ready():\n",
    "        global reply_tree # Save the reply_tree variable outside our running bot\n",
    "\n",
    "        # Load the discord channel you want to read from\n",
    "        channel = client.get_channel(channel_id)\n",
    "\n",
    "        # Get the latest post in the channel history\n",
    "        post_history = channel.history(limit=hist_limit)\n",
    "\n",
    "        #special code to turn the post_history from discord into a python list\n",
    "        recent_posts = [post async for post in post_history]\n",
    "\n",
    "        reply_tree = await reconstruct_reply_tree(recent_posts)\n",
    "\n",
    "        # Tell your bot to stop running\n",
    "        await client.close()\n",
    "\n",
    "    # Now that we've defined how the bot shoould work, start running your bot\n",
    "    client.run(discord_token)\n",
    "    \n",
    "    return reply_tree"
   ]
  },
  {
   "cell_type": "markdown",
   "id": "d37b46e5-c941-4ac9-a95f-a16061ecf7cf",
   "metadata": {
    "tags": []
   },
   "source": [
    "## Code to print a channel's recent posts and replies\n",
    "\n",
    "The `print_channel_post_and_replies` is a function that takes a channel_id, loads the reply post_tree from that channel, and then uses the `print_post_and_replies` function to print out all posts and replies. By default, `hist_limit` is set to load the most recent 30 posts (but you can change it up to 100)."
   ]
  },
  {
   "cell_type": "code",
   "execution_count": null,
   "id": "f80fa629-1b46-4287-8f51-0dadc13532e5",
   "metadata": {},
   "outputs": [],
   "source": [
    "def print_channel_post_and_replies(channel_id, hist_limit=30):\n",
    "    post_tree = get_channel_post_tree(channel_id, hist_limit=hist_limit)\n",
    "    \n",
    "    print(\"Below are the posts and replies for post from channel \" + str(channel_id) + \":\" )\n",
    "\n",
    "    for post_with_replies_info in post_tree:\n",
    "        print_post_and_replies(post_with_replies_info)"
   ]
  },
  {
   "cell_type": "markdown",
   "id": "6d28fb60-3e2b-40e1-a3cb-c3b4afac9649",
   "metadata": {},
   "source": [
    "The `print_post_and_replies` function takes a given `post_with_replies_info` and recursively prints that post as well as all replies to that post (which will as well as all replies to those replies, etc.)"
   ]
  },
  {
   "cell_type": "code",
   "execution_count": null,
   "id": "d0b83265-3a27-47a3-a68a-5d3293ed7a3d",
   "metadata": {},
   "outputs": [],
   "source": [
    "def print_post_and_replies(post_with_replies_info, num_indents=0):\n",
    "    \n",
    "    # for convenience save the post and replies info in variables\n",
    "    post = post_with_replies_info[\"post\"]\n",
    "    replies = post_with_replies_info[\"replies\"]\n",
    "\n",
    "    # save the text to display in a post box\n",
    "    display_text = (\n",
    "        str(post.content) + \"\\n\" +\n",
    "        \"-- \" + str(post.author)\n",
    "    )\n",
    "    \n",
    "    # display the text of this post, indented over\n",
    "    display_indented(display_text, num_indents*20)\n",
    "\n",
    "    #print replies (and the replies of those, etc.)\n",
    "    for reply in replies:\n",
    "        print_post_and_replies(reply, num_indents = num_indents + 1)"
   ]
  },
  {
   "cell_type": "markdown",
   "id": "b8d5835b-ef1d-45a3-a101-065e94cc0d17",
   "metadata": {},
   "source": [
    "## Test our code on discord channel\n",
    "In order to test it out, we just need to get a discord channel id and pass it to the `print_post_and_replies` function. If there are any replies (not threads) in the recent history, we will see them formatted as a reply tree."
   ]
  },
  {
   "cell_type": "code",
   "execution_count": null,
   "id": "cb70bbcf-2585-426e-b5ff-55ca84a1f35d",
   "metadata": {},
   "outputs": [],
   "source": [
    "print_channel_post_and_replies(5432167890)"
   ]
  },
  {
   "cell_type": "code",
   "execution_count": null,
   "id": "79b4b276-5cc8-4eb7-af8b-2ebb9067b4c7",
   "metadata": {},
   "outputs": [],
   "source": [
    "print_channel_post_and_replies(5432167890)"
   ]
  },
  {
   "cell_type": "code",
   "execution_count": null,
   "id": "a55517b0-183c-493b-9773-5bfbb18cc3a4",
   "metadata": {},
   "outputs": [],
   "source": []
  },
  {
   "cell_type": "code",
   "execution_count": null,
   "id": "0f92996c-d355-4dc2-bb4e-1a5f19fb7165",
   "metadata": {},
   "outputs": [],
   "source": []
  }
 ],
 "metadata": {
  "kernelspec": {
   "display_name": "Python 3 (ipykernel)",
   "language": "python",
   "name": "python3"
  },
  "language_info": {
   "codemirror_mode": {
    "name": "ipython",
    "version": 3
   },
   "file_extension": ".py",
   "mimetype": "text/x-python",
   "name": "python",
   "nbconvert_exporter": "python",
   "pygments_lexer": "ipython3",
   "version": "3.10.4"
  }
 },
 "nbformat": 4,
 "nbformat_minor": 5
}
