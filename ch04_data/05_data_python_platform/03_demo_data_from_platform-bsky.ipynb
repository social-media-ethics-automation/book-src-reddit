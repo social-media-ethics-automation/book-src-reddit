{
 "cells": [
  {
   "cell_type": "markdown",
   "id": "62d9cd26-13e3-4df0-99e5-bcfa7fbfad4a",
   "metadata": {},
   "source": [
    "# Demo: Data from a Bluesky Post\n"
   ]
  },
  {
   "cell_type": "markdown",
   "id": "ba276b29",
   "metadata": {},
   "source": [
    "Let's see what the data actually looks like from a Bluesky Post!\n",
    "\n",
    "First we need to do our normal Bluesky login steps (and optional fake atproto step)\n",
    "## Log into atproto (or fake atproto)\n",
    "### Load atproto library"
   ]
  },
  {
   "cell_type": "code",
   "execution_count": 1,
   "id": "1a3df841-d3c4-4c0c-8790-1e5224c351f1",
   "metadata": {},
   "outputs": [],
   "source": [
    "# Load some code called \"Client\" from the \"atproto\" library that will help us work with Bluesky\n",
    "from atproto import Client"
   ]
  },
  {
   "cell_type": "markdown",
   "id": "d644c195-845e-412f-93b4-dcd8e058e504",
   "metadata": {},
   "source": [
    "### (Optional) Step 1b: Make a fake Bluesky connection with the fake_atproto library\n",
    "For testing purposes, we\"ve added this line of code, which loads a fake version of atproto, so it wont actually connect to Bluesky. __If you want to try to actually connect to Bluesky, don't run this line of code.__"
   ]
  },
  {
   "cell_type": "code",
   "execution_count": 2,
   "id": "6d977d90-5091-470d-ab5c-8814d6b0072f",
   "metadata": {},
   "outputs": [
    {
     "data": {
      "text/html": [
       "<strong style='color:darkred'>Fake atproto (bsky.app) is replacing the atproto.blue library. Fake atproto doesn&#x27;t need real passwords, and prevents you from accessing real Bluesky</strong>"
      ],
      "text/plain": [
       "<IPython.core.display.HTML object>"
      ]
     },
     "metadata": {},
     "output_type": "display_data"
    }
   ],
   "source": [
    "%run ../../fake_apis/fake_atproto.ipynb"
   ]
  },
  {
   "cell_type": "markdown",
   "id": "a204fa9d-613e-4dfe-849c-d2f053a2f012",
   "metadata": {},
   "source": [
    "### Step 2: Login to Bluesky\n",
    "To use this on your real Bluesky account, copy your [bluesky account name and login](../../appendix/making_bot_account.md) into the code below, replacing our fake bluesky name and password."
   ]
  },
  {
   "cell_type": "code",
   "execution_count": 3,
   "id": "199ccb44-f8f1-4d23-b9f6-e06a499b2c73",
   "metadata": {},
   "outputs": [
    {
     "data": {
      "text/html": [
       "<strong style='color:darkred'>Fake atproto is pretending to set up a client connection to: https://bsky.social</strong>"
      ],
      "text/plain": [
       "<IPython.core.display.HTML object>"
      ]
     },
     "metadata": {},
     "output_type": "display_data"
    },
    {
     "data": {
      "text/html": [
       "<strong style='color:darkred'>Fake atproto is pretending log into your account: your_account_name.bsky.social</strong>"
      ],
      "text/plain": [
       "<IPython.core.display.HTML object>"
      ]
     },
     "metadata": {},
     "output_type": "display_data"
    }
   ],
   "source": [
    "# Login to Bluesky\n",
    "# TODO: put your account name and password below\n",
    "\n",
    "client = Client(base_url=\"https://bsky.social\")\n",
    "client.login(\"your_account_name.bsky.social\", \"m#5@_fake_bsky_password_$%Ds\")"
   ]
  },
  {
   "cell_type": "markdown",
   "id": "b69feda2-7122-4487-b924-c7a98a2dea4d",
   "metadata": {},
   "source": [
    "## Find Bluesky data\n",
    "Below I have the code to find a recent Bluesky post from the feed [Animal](https://bsky.app/profile/did:plc:2m44csq7rgph66s2kltbypxh/feed/aaab56iiatpdo) by the user [shouldhaveanimal.bsky.social](https://bsky.app/profile/shouldhaveanimal.bsky.social).\n",
    "\n",
    "Don't worry if you don't understand this part yet. We are\n",
    "just doing this, so we can get to the point of seeing what tweet data looks like.\n",
    "\n",
    "_Note: If you run this on real Bluesky, we can't gurantee anything about how offensive what you might find is._"
   ]
  },
  {
   "cell_type": "code",
   "execution_count": 4,
   "id": "7850a3e0-d6f0-496e-a2dc-fa126348b85e",
   "metadata": {},
   "outputs": [],
   "source": [
    "feed = client.app.bsky.feed.get_feed({'feed': 'at://did:plc:2m44csq7rgph66s2kltbypxh/app.bsky.feed.generator/aaab56iiatpdo'}).feed\n",
    "recent_post = feed[0].post"
   ]
  },
  {
   "cell_type": "markdown",
   "id": "b1fbe575-1e06-4af5-8b25-ff0d90f1339e",
   "metadata": {},
   "source": [
    "## Look at data in Bluesky submission\n",
    "\n",
    "Now we will look at some of the data that came back!\n",
    "\n",
    "Again, don't worry too much about the code, we want to look at the data and data types.\n",
    "\n",
    "### post text:"
   ]
  },
  {
   "cell_type": "code",
   "execution_count": 5,
   "id": "6a47156c-496a-41b1-9696-0d04f428e3da",
   "metadata": {},
   "outputs": [
    {
     "data": {
      "text/plain": [
       "'The data type of the post text is: str'"
      ]
     },
     "metadata": {},
     "output_type": "display_data"
    },
    {
     "data": {
      "text/plain": [
       "'The post text is: Look at my cute dog!'"
      ]
     },
     "metadata": {},
     "output_type": "display_data"
    }
   ],
   "source": [
    "display(\"The data type of the post text is: \" + type(recent_post.record.text).__name__)\n",
    "display(\"The post text is: \" + recent_post.record.text)"
   ]
  },
  {
   "cell_type": "markdown",
   "id": "b4099352-6e07-4575-b98e-e86cd3597bac",
   "metadata": {},
   "source": [
    "As you can see above, the text of a post is a string (`str`) data type. "
   ]
  },
  {
   "cell_type": "markdown",
   "id": "9186f642-bec8-41d1-a4e5-71e914767507",
   "metadata": {},
   "source": [
    "### post content id (cid)"
   ]
  },
  {
   "cell_type": "code",
   "execution_count": 6,
   "id": "eed12635-a6c5-4403-ba5f-2fc4bdd58665",
   "metadata": {},
   "outputs": [
    {
     "data": {
      "text/plain": [
       "'The data type of the post content id is: str'"
      ]
     },
     "metadata": {},
     "output_type": "display_data"
    },
    {
     "data": {
      "text/plain": [
       "'The post content id is: 904tjwdf093j'"
      ]
     },
     "metadata": {},
     "output_type": "display_data"
    }
   ],
   "source": [
    "display(\"The data type of the post content id is: \" + type(recent_post.cid).__name__)\n",
    "display(\"The post content id is: \" + str(recent_post.cid))"
   ]
  },
  {
   "cell_type": "markdown",
   "id": "7f4ac8f6-c3af-4d75-be03-291e3d1e0339",
   "metadata": {},
   "source": [
    "The post content id is a piece of text (`str`) that looks like random letters and numbers. This is how the post is referred to inside Bluesky's computers. So if someone is commenting on a post, Bluesky just puts uses content ID they were commenting on to see where to display it."
   ]
  },
  {
   "cell_type": "markdown",
   "id": "ff21d864-0014-44e0-b9bd-6c7f87ba8712",
   "metadata": {},
   "source": [
    "### submission author handle"
   ]
  },
  {
   "cell_type": "code",
   "execution_count": 7,
   "id": "a16bcfcf-6ebe-49ae-a84a-8ad53655ea26",
   "metadata": {},
   "outputs": [
    {
     "data": {
      "text/plain": [
       "'The data type of the author handle is: str'"
      ]
     },
     "metadata": {},
     "output_type": "display_data"
    },
    {
     "data": {
      "text/plain": [
       "'The author handle is: fake_user.bsky.social'"
      ]
     },
     "metadata": {},
     "output_type": "display_data"
    }
   ],
   "source": [
    "display(\"The data type of the author handle is: \" + type(recent_post.author.handle).__name__)\n",
    "display(\"The author handle is: \" + str(recent_post.author.handle))"
   ]
  },
  {
   "cell_type": "markdown",
   "id": "2341e4cf-4347-42fa-8f51-4aabbdc39fdb",
   "metadata": {},
   "source": [
    "The author name is an string (`str`). Note recent_post.author.author has other information about the author as well as the name."
   ]
  },
  {
   "cell_type": "markdown",
   "id": "e7df5f55-a70d-4219-a95e-bc0dc0db9d1f",
   "metadata": {},
   "source": [
    "### post created at"
   ]
  },
  {
   "cell_type": "code",
   "execution_count": 8,
   "id": "f66d41c7-d0b2-4b8d-bb30-7d5b61fee40e",
   "metadata": {},
   "outputs": [
    {
     "data": {
      "text/plain": [
       "'The data type of the post created_at is: str'"
      ]
     },
     "metadata": {},
     "output_type": "display_data"
    },
    {
     "data": {
      "text/plain": [
       "'The created_at at is: 2014-01-01'"
      ]
     },
     "metadata": {},
     "output_type": "display_data"
    }
   ],
   "source": [
    "display(\"The data type of the post created_at is: \" + type(recent_post.record.created_at).__name__)\n",
    "display(\"The created_at at is: \" + str(recent_post.record.created_at))"
   ]
  },
  {
   "cell_type": "markdown",
   "id": "f9307638-8889-4932-b376-432ef82ca4c9",
   "metadata": {},
   "source": [
    "The created at time for the submission is a string (`str`), which is in [Coordinated Universal Time](https://en.wikipedia.org/wiki/Coordinated_Universal_Time) zone."
   ]
  },
  {
   "cell_type": "markdown",
   "id": "1ddc0fc0-3d63-44c6-81c3-73d97554b763",
   "metadata": {},
   "source": [
    "### number of likes (score)"
   ]
  },
  {
   "cell_type": "code",
   "execution_count": 9,
   "id": "15d683fc-50ea-4603-b332-0e90487a4fa7",
   "metadata": {},
   "outputs": [
    {
     "data": {
      "text/plain": [
       "'The data type of the number of likes is: int'"
      ]
     },
     "metadata": {},
     "output_type": "display_data"
    },
    {
     "data": {
      "text/plain": [
       "'The number of likes is: 23'"
      ]
     },
     "metadata": {},
     "output_type": "display_data"
    }
   ],
   "source": [
    "display(\"The data type of the number of likes is: \" + type(recent_post.like_count).__name__)\n",
    "display(\"The number of likes is: \" + str(recent_post.like_count))"
   ]
  },
  {
   "cell_type": "markdown",
   "id": "5d7db748-dde7-4e37-9979-a02faae9373a",
   "metadata": {},
   "source": [
    "The number of likes is is a whole number (`int`). "
   ]
  },
  {
   "cell_type": "markdown",
   "id": "3a39921b-33f5-4dc8-9779-75339d80fbde",
   "metadata": {},
   "source": [
    "### number of replies"
   ]
  },
  {
   "cell_type": "code",
   "execution_count": 10,
   "id": "d1da69d1-fc64-4c44-9259-8ad6b1a8889c",
   "metadata": {},
   "outputs": [
    {
     "data": {
      "text/plain": [
       "'The data type of the number of replies is: int'"
      ]
     },
     "metadata": {},
     "output_type": "display_data"
    },
    {
     "data": {
      "text/plain": [
       "'The number of replies is: 7'"
      ]
     },
     "metadata": {},
     "output_type": "display_data"
    }
   ],
   "source": [
    "display(\"The data type of the number of replies is: \" + type(recent_post.reply_count).__name__)\n",
    "display(\"The number of replies is: \" + str(recent_post.reply_count))"
   ]
  },
  {
   "cell_type": "markdown",
   "id": "00cc8f52-f396-4b03-8c02-1d57cf559196",
   "metadata": {},
   "source": [
    "The number of replies is is a whole number (`int`). Note: You can also get a data structure of all the comments, but we will look at that later. "
   ]
  },
  {
   "cell_type": "markdown",
   "id": "aa6a7bb5-fd5d-4df6-8628-2084f75f5922",
   "metadata": {},
   "source": [
    "### number of reposts"
   ]
  },
  {
   "cell_type": "code",
   "execution_count": 11,
   "id": "187786cd-6417-4040-85ca-a8d326ed0b66",
   "metadata": {},
   "outputs": [
    {
     "data": {
      "text/plain": [
       "'The data type of the number of reposts is: int'"
      ]
     },
     "metadata": {},
     "output_type": "display_data"
    },
    {
     "data": {
      "text/plain": [
       "'The number of reposts is: 5'"
      ]
     },
     "metadata": {},
     "output_type": "display_data"
    }
   ],
   "source": [
    "display(\"The data type of the number of reposts is: \" + type(recent_post.repost_count).__name__)\n",
    "display(\"The number of reposts is: \" + str(recent_post.repost_count))"
   ]
  },
  {
   "cell_type": "markdown",
   "id": "8484f92c-d47f-44ed-932a-2ac4ba2f2dcd",
   "metadata": {},
   "source": [
    "The number of reposts is a whole number (`int`). "
   ]
  },
  {
   "cell_type": "markdown",
   "id": "abc5f1e5-7579-40a7-9c8f-af7c81548aa8",
   "metadata": {},
   "source": [
    "The submission url is a string (`str`)."
   ]
  },
  {
   "cell_type": "markdown",
   "id": "4ed35a69-2487-4555-b117-845e0863ee77",
   "metadata": {},
   "source": [
    "## Still more!\n",
    "In addition to the data we looked at above, there are even more options for bluesky posts. The documentation seems them seems a bit incomplete, but you can see [more info about posts here](https://atprotodart.com/docs/lexicons/app/bsky/feed/defs#postview): "
   ]
  }
 ],
 "metadata": {
  "kernelspec": {
   "display_name": "Python 3 (ipykernel)",
   "language": "python",
   "name": "python3"
  },
  "language_info": {
   "codemirror_mode": {
    "name": "ipython",
    "version": 3
   },
   "file_extension": ".py",
   "mimetype": "text/x-python",
   "name": "python",
   "nbconvert_exporter": "python",
   "pygments_lexer": "ipython3",
   "version": "3.10.4"
  },
  "vscode": {
   "interpreter": {
    "hash": "369f2c481f4da34e4445cda3fffd2e751bd1c4d706f27375911949ba6bb62e1c"
   }
  }
 },
 "nbformat": 4,
 "nbformat_minor": 5
}
