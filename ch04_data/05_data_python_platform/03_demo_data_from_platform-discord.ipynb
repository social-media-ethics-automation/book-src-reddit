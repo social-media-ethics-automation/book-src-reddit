{
 "cells": [
  {
   "cell_type": "markdown",
   "id": "62d9cd26-13e3-4df0-99e5-bcfa7fbfad4a",
   "metadata": {},
   "source": [
    "# Demo: Data from a Discord Post\n"
   ]
  },
  {
   "cell_type": "markdown",
   "id": "ba276b29",
   "metadata": {},
   "source": [
    "Let's see what the data actually looks like from a Discord Post!\n",
    "\n",
    "First we need to do our normal Discord login steps (and optional fake discord step)\n",
    "## Log into Discord  (or fake Discord)\n",
    "### Load \"discord\" and nest_asyncio libraries"
   ]
  },
  {
   "cell_type": "code",
   "execution_count": 2,
   "id": "1a3df841-d3c4-4c0c-8790-1e5224c351f1",
   "metadata": {},
   "outputs": [],
   "source": [
    "# Load some code called \"discord\" that will help us work with Discord\n",
    "import discord\n",
    "\n",
    "# Load another library that helps the bot work in Jupyter Noteboook\n",
    "import nest_asyncio\n",
    "nest_asyncio.apply()"
   ]
  },
  {
   "cell_type": "markdown",
   "id": "d644c195-845e-412f-93b4-dcd8e058e504",
   "metadata": {},
   "source": [
    "### (Optional) Step 1b: Make a fake Discord connection with the fake_discord library\n",
    "For testing purposes, we've added this line of code, which loads a fake version of Discord, so it wont actually connect to Discord. __If you want to try to actually connect to Discord, don't run this line of code.__"
   ]
  },
  {
   "cell_type": "code",
   "execution_count": 1,
   "id": "6d977d90-5091-470d-ab5c-8814d6b0072f",
   "metadata": {},
   "outputs": [
    {
     "data": {
      "text/html": [
       "<strong style='color:darkred'>Fake discord is replacing the discord.py library. Fake discord doesn&#x27;t need real passwords, and prevents you from accessing real discord</strong>"
      ],
      "text/plain": [
       "<IPython.core.display.HTML object>"
      ]
     },
     "metadata": {},
     "output_type": "display_data"
    }
   ],
   "source": [
    "%run ../../fake_apis/fake_discord.ipynb"
   ]
  },
  {
   "cell_type": "markdown",
   "id": "a204fa9d-613e-4dfe-849c-d2f053a2f012",
   "metadata": {},
   "source": [
    "### Step 2: Set up your Discord connection\n",
    "To use this on your real Discord account, copy your [discord token](../../appendix/making_bot_account.md) into the code below, replacing our fake passwords.\n",
    "\n",
    "Also, since we are going to be reading posts, we need to indicate that our bot wants to read message contents, so we have additional lines of code to mark that.\n",
    "\n",
    "__Note: you'll have to re-run this step if you want to re-run your bot__"
   ]
  },
  {
   "cell_type": "code",
   "execution_count": null,
   "id": "199ccb44-f8f1-4d23-b9f6-e06a499b2c73",
   "metadata": {},
   "outputs": [],
   "source": [
    "# Set up your Discord connection\n",
    "# TODO: put the discord token for your bot below\n",
    "discord_token = \"m#5@_fake_discord_token_$%Ds\"\n",
    "\n",
    "# set up Discord client with permissions to read message_contents\n",
    "intents = discord.Intents.default()\n",
    "intents.message_content = True \n",
    "client = discord.Client(intents=intents)"
   ]
  },
  {
   "cell_type": "markdown",
   "id": "b69feda2-7122-4487-b924-c7a98a2dea4d",
   "metadata": {},
   "source": [
    "## Find a Discord Post\n",
    "Below is  code to find a recent Discord post from a discord channel with the id `123456789` (if you want to load a real channel, you'll have to [get the channel id](../../appendix/making_bot_account.html#get-channel-id-number))\n",
    "\n",
    "Don't worry if you don't understand this part yet. We are\n",
    "just doing this, so we can get to the point of seeing what discord data looks like.\n",
    "\n",
    "_Note: If you run this on real Discord, we can't gurantee anything about how offensive what you might find is._"
   ]
  },
  {
   "cell_type": "code",
   "execution_count": null,
   "id": "7850a3e0-d6f0-496e-a2dc-fa126348b85e",
   "metadata": {},
   "outputs": [],
   "source": [
    "# TODO: put the discord channel id number below for the channel you want to use\n",
    "channel_id = 123456789\n",
    "\n",
    "# Provide instructions for what your discord bot should do once it has logged in\n",
    "@client.event\n",
    "async def on_ready():\n",
    "    global recent_post # Save the recent_post variable outside our running bot\n",
    "    \n",
    "    # Load the discord channel you want to post to\n",
    "    channel = client.get_channel(channel_id)\n",
    "\n",
    "    # Get the latest post in the channel history\n",
    "    post_history = channel.history(limit=1)\n",
    "    recent_post = await anext(post_history)\n",
    "\n",
    "    # Tell your bot to stop running\n",
    "    await client.close()\n",
    "    \n",
    "# Now that we've defined how the bot should work, start running your bot\n",
    "client.run(discord_token)"
   ]
  },
  {
   "cell_type": "markdown",
   "id": "b1fbe575-1e06-4af5-8b25-ff0d90f1339e",
   "metadata": {},
   "source": [
    "## Look at data in Discord post\n",
    "\n",
    "Now we will look at some of the data that came back!\n",
    "\n",
    "Again, don't worry too much about the code, we want to look at the data and data types.\n",
    "\n",
    "### post content:"
   ]
  },
  {
   "cell_type": "code",
   "execution_count": null,
   "id": "6a47156c-496a-41b1-9696-0d04f428e3da",
   "metadata": {},
   "outputs": [],
   "source": [
    "display(\"The data type of the message content is: \" + type(recent_post.content).__name__)\n",
    "display(\"The post content is: \" + recent_post.content)"
   ]
  },
  {
   "cell_type": "markdown",
   "id": "b4099352-6e07-4575-b98e-e86cd3597bac",
   "metadata": {},
   "source": [
    "As you can see above, the text of a post is a string (`str`) data type. "
   ]
  },
  {
   "cell_type": "markdown",
   "id": "9186f642-bec8-41d1-a4e5-71e914767507",
   "metadata": {},
   "source": [
    "### post id"
   ]
  },
  {
   "cell_type": "code",
   "execution_count": null,
   "id": "eed12635-a6c5-4403-ba5f-2fc4bdd58665",
   "metadata": {},
   "outputs": [],
   "source": [
    "display(\"The data type of the message id is: \" + type(recent_post.id).__name__)\n",
    "display(\"The message id is: \" + str(recent_post.id))"
   ]
  },
  {
   "cell_type": "markdown",
   "id": "7f4ac8f6-c3af-4d75-be03-291e3d1e0339",
   "metadata": {},
   "source": [
    "The post content id is a whole number (`int`) that looks like random number. This is how the post is referred to inside Discords' computers. So if someone is commenting on a post, Discord just puts uses content ID they were commenting on to see where to display it."
   ]
  },
  {
   "cell_type": "markdown",
   "id": "ff21d864-0014-44e0-b9bd-6c7f87ba8712",
   "metadata": {},
   "source": [
    "### submission author display name"
   ]
  },
  {
   "cell_type": "code",
   "execution_count": null,
   "id": "a16bcfcf-6ebe-49ae-a84a-8ad53655ea26",
   "metadata": {},
   "outputs": [],
   "source": [
    "display(\"The data type of the author display name is: \" + type(recent_post.author.display_name).__name__)\n",
    "display(\"The author display name is: \" + str(recent_post.author.display_name))"
   ]
  },
  {
   "cell_type": "markdown",
   "id": "2341e4cf-4347-42fa-8f51-4aabbdc39fdb",
   "metadata": {},
   "source": [
    "The author name is an string (`str`). Note recent_post.author has other information about the author as well as the name."
   ]
  },
  {
   "cell_type": "markdown",
   "id": "7166c98c-127e-4d58-8aec-3fe88cff7c2d",
   "metadata": {},
   "source": [
    "### message author id"
   ]
  },
  {
   "cell_type": "code",
   "execution_count": null,
   "id": "b6a20852-1ebf-4cd3-a3ee-3544b9fa6a7d",
   "metadata": {},
   "outputs": [],
   "source": [
    "display(\"The data type of the author id is: \" + type(recent_post.author.id).__name__)\n",
    "display(\"The author id is: \" + str(recent_post.author.id))"
   ]
  },
  {
   "cell_type": "markdown",
   "id": "73d48aa6-2854-422a-8323-d46451618b99",
   "metadata": {},
   "source": [
    "The author name is a number (`int`)."
   ]
  },
  {
   "cell_type": "markdown",
   "id": "e7df5f55-a70d-4219-a95e-bc0dc0db9d1f",
   "metadata": {
    "tags": []
   },
   "source": [
    "### post created at"
   ]
  },
  {
   "cell_type": "code",
   "execution_count": null,
   "id": "f66d41c7-d0b2-4b8d-bb30-7d5b61fee40e",
   "metadata": {},
   "outputs": [],
   "source": [
    "display(\"The data type of the post created_at is: \" + type(recent_post.created_at).__name__)\n",
    "display(\"The created_at at is: \" + str(recent_post.created_at))"
   ]
  },
  {
   "cell_type": "markdown",
   "id": "f9307638-8889-4932-b376-432ef82ca4c9",
   "metadata": {},
   "source": [
    "The created at time for the submission is a [`datetime`](https://www.w3schools.com/python/python_datetime.asp), which may be in [Coordinated Universal Time](https://en.wikipedia.org/wiki/Coordinated_Universal_Time) zone."
   ]
  },
  {
   "cell_type": "markdown",
   "id": "1ddc0fc0-3d63-44c6-81c3-73d97554b763",
   "metadata": {},
   "source": [
    "### message reactions"
   ]
  },
  {
   "cell_type": "code",
   "execution_count": null,
   "id": "15d683fc-50ea-4603-b332-0e90487a4fa7",
   "metadata": {},
   "outputs": [],
   "source": [
    "display(\"The data type of the reactions to the message is: \" + type(recent_post.reactions).__name__)\n",
    "display(\"The reactions to the message are: \" + str(recent_post.reactions))"
   ]
  },
  {
   "cell_type": "markdown",
   "id": "5d7db748-dde7-4e37-9979-a02faae9373a",
   "metadata": {},
   "source": [
    "The reactions to a message are saved as list. Each item is the list has the emoji reaction, if the current user did this reaction, and the count of how many users gave that emoji reaction."
   ]
  },
  {
   "cell_type": "markdown",
   "id": "7c240305-3654-4888-8411-9679f1c2586b",
   "metadata": {},
   "source": [
    "### message is pinned?"
   ]
  },
  {
   "cell_type": "code",
   "execution_count": null,
   "id": "06609096-f5ea-4784-be51-3ea20732457b",
   "metadata": {},
   "outputs": [],
   "source": [
    "display(\"The data type of the message pinned: \" + type(recent_post.pinned).__name__)\n",
    "display(\"Is this message pinned?: \" + str(recent_post.pinned))"
   ]
  },
  {
   "cell_type": "markdown",
   "id": "84a6dd7f-7d7a-4701-a454-1fd2c77f56fc",
   "metadata": {},
   "source": [
    "The status of whether or not a messaged is pinned is a true/false value (bool).\n"
   ]
  },
  {
   "cell_type": "markdown",
   "id": "4ed35a69-2487-4555-b117-845e0863ee77",
   "metadata": {},
   "source": [
    "## Still more!\n",
    "In addition to the data we looked at above, there are even more options for Discord messages. The documentation is formatted in a not very friendly way, but you can see [more info about messages here](https://discordpy.readthedocs.io/en/stable/api.html#discord.Message): "
   ]
  }
 ],
 "metadata": {
  "kernelspec": {
   "display_name": "Python 3 (ipykernel)",
   "language": "python",
   "name": "python3"
  },
  "language_info": {
   "codemirror_mode": {
    "name": "ipython",
    "version": 3
   },
   "file_extension": ".py",
   "mimetype": "text/x-python",
   "name": "python",
   "nbconvert_exporter": "python",
   "pygments_lexer": "ipython3",
   "version": "3.10.4"
  },
  "vscode": {
   "interpreter": {
    "hash": "369f2c481f4da34e4445cda3fffd2e751bd1c4d706f27375911949ba6bb62e1c"
   }
  }
 },
 "nbformat": 4,
 "nbformat_minor": 5
}
