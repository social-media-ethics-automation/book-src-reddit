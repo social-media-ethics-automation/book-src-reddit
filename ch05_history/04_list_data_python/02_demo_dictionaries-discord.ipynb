{
 "cells": [
  {
   "cell_type": "markdown",
   "id": "faf79779-95ad-498f-8c19-9a6766d205a4",
   "metadata": {},
   "source": [
    "# Demo: Dictionaries"
   ]
  },
  {
   "cell_type": "markdown",
   "id": "e18e6669-7160-4397-af20-20de3821222e",
   "metadata": {},
   "source": [
    "We've talked about lists, but the other data organization we need to work with social media data is `dictionaries`.\n",
    "\n",
    "As we mentioned in chapter 4, dictionaries allow us to combine pieces of information by naming them (sort of like variables).\n",
    "\n",
    "So for example, the information about a user might have the following pieces of data:\n",
    "- Username\n",
    "- Twitter handle\n",
    "- Profile Picture:\n",
    "- Follows\n",
    "\n",
    "Python has two ways of doing these types of dictionaries: `dict` and objects"
   ]
  },
  {
   "cell_type": "markdown",
   "id": "faf353f9-9945-46c3-b0f7-9938ac6c89dc",
   "metadata": {},
   "source": [
    "## Dictionaries (`dict`)\n",
    "We can create dictionaries in Python by storing values into `key`s inside of curly braces `{` `}`, like this:"
   ]
  },
  {
   "cell_type": "code",
   "execution_count": null,
   "id": "aaeacf5c-1831-447f-b3db-374f12934d81",
   "metadata": {},
   "outputs": [],
   "source": [
    "user_1 = {\n",
    "    \"username\": \"kylethayer\",\n",
    "    \"twitter_handle\": \"@kylemthayer\",\n",
    "    \"profile_picture\": \"kylethayer.jpg\",\n",
    "    \"follows\": [\"@SusanNotess\", \"@UW\", \"@UW_iSchool\", \"@ajlunited\"]\n",
    "}"
   ]
  },
  {
   "cell_type": "markdown",
   "id": "b19c94d0-294a-4f4a-a73d-4651a3d0d96f",
   "metadata": {},
   "source": [
    "In the code above, inside of the curly braces are a set of lines. Each line has a string (the `key`, or name of the value), followed by a colon (`:`), followed by a value that is to be saved for the key. At the end of all but the last line is a comma (`,`) which indicates that another `key` and value will come next.\n",
    "\n",
    "Now that we've saved some values for some keys in the dictionary now saved in user_1, we can look up the values by using square brackets (`[`, `]`) with the key name inside, like this:"
   ]
  },
  {
   "cell_type": "code",
   "execution_count": null,
   "id": "99bb8716-2b5f-4e0e-9188-11ba38dc5e21",
   "metadata": {},
   "outputs": [],
   "source": [
    "user_1_username = user_1[\"username\"]\n",
    "display(user_1_username)"
   ]
  },
  {
   "cell_type": "code",
   "execution_count": null,
   "id": "8d96a9b3-c09e-4125-a664-d4dd77639d3a",
   "metadata": {},
   "outputs": [],
   "source": [
    "user_1_handle = user_1[\"twitter_handle\"]\n",
    "display(user_1_handle)"
   ]
  },
  {
   "cell_type": "code",
   "execution_count": null,
   "id": "4fa4f670-6657-41bc-8a77-557e0c35c987",
   "metadata": {},
   "outputs": [],
   "source": [
    "user_1_picture = user_1[\"profile_picture\"]\n",
    "display(user_1_picture)"
   ]
  },
  {
   "cell_type": "code",
   "execution_count": null,
   "id": "2fc90b1c-f626-4987-b275-ccbf1b5c36d5",
   "metadata": {},
   "outputs": [],
   "source": [
    "user_1_follows = user_1[\"follows\"]\n",
    "display(user_1_follows)"
   ]
  },
  {
   "cell_type": "markdown",
   "id": "f8075810-d7ee-4cff-abec-ec9103f4205f",
   "metadata": {},
   "source": [
    "## Objects\n",
    "The other way of saving information that works similarly in Python is through an object. We won't be creating any in this book, but we will have to get data from some.\n",
    "\n",
    "The main difference from what we will need is that while in dictionaries we use square brackets and put the key name in quotes as a string (e.g., `user_1[\"profile_picture\"]`), in an object you use a period (`.`) and don't put they key name (called a `field`) in quotes (e.g., `user_1.profile_picture`)\n",
    "\n",
    "We have already seen code that used this period to get something from an object a few times, specifically getting functions from them, like:\n",
    "- `channel.send(...`\n",
    "- `normal_message.upper()`\n",
    "\n",
    "When we go through data from Discord, sometimes we will need to use `.` to get parts of the information out of objects, and sometimes we will need to use `[\" \"]` to get information out of dictionaries."
   ]
  },
  {
   "cell_type": "markdown",
   "id": "086be723-f3be-42bf-8ada-ba7f88718d5e",
   "metadata": {},
   "source": [
    "## Looping through lists of dictionaries\n",
    "Now that we've seen loops, lists, and dictionaries, we can go to Discord, run a search and look through multiple messages:"
   ]
  },
  {
   "cell_type": "markdown",
   "id": "4cb96ef3-8f5e-420e-9273-9010e89dce0e",
   "metadata": {},
   "source": [
    "### load \"discord\" and nest_asyncio libraries"
   ]
  },
  {
   "cell_type": "code",
   "execution_count": 1,
   "id": "01b1b258-c3b7-48b5-9576-0b5012e2592f",
   "metadata": {},
   "outputs": [],
   "source": [
    "# Load some code called \"discord\" that will help us work with Discord\n",
    "import discord\n",
    "\n",
    "# Load another library that helps the bot work in Jupyter Noteboook\n",
    "import nest_asyncio\n",
    "nest_asyncio.apply()"
   ]
  },
  {
   "cell_type": "markdown",
   "id": "9cc3a006-f750-4636-b48b-49fcfed023d1",
   "metadata": {},
   "source": [
    "### (optional) make a fake Discord connection with the fake_discord library\n",
    "For testing purposes, we've added this line of code, which loads a fake version of Discord, so it wont actually connect to Discord. __If you want to try to actually connect to Discord, don't run this line of code.__"
   ]
  },
  {
   "cell_type": "code",
   "execution_count": 2,
   "id": "a42161a4-3102-4517-afba-3e64a02d85f0",
   "metadata": {},
   "outputs": [
    {
     "data": {
      "text/html": [
       "<strong style='color:darkred'>Fake discord is replacing the discord.py library. Fake discord doesn&#x27;t need real passwords, and prevents you from accessing real discord</strong>"
      ],
      "text/plain": [
       "<IPython.core.display.HTML object>"
      ]
     },
     "metadata": {},
     "output_type": "display_data"
    }
   ],
   "source": [
    "%run ../../fake_apis/fake_discord.ipynb"
   ]
  },
  {
   "cell_type": "markdown",
   "id": "adbe69cf-a3b0-43a7-acb6-19f7e7eb5945",
   "metadata": {},
   "source": [
    "###  set up your Discord connection\n",
    "To use this on your real Discord account, copy your [discord token](../../appendix/making_bot_account.md) into the code below, replacing our fake passwords."
   ]
  },
  {
   "cell_type": "code",
   "execution_count": 3,
   "id": "46e18dcd-e58f-4083-b1c2-55ece3b0c3be",
   "metadata": {},
   "outputs": [
    {
     "data": {
      "text/html": [
       "<strong style='color:darkred'>Fake discord is pretending to set up a client connection</strong>"
      ],
      "text/plain": [
       "<IPython.core.display.HTML object>"
      ]
     },
     "metadata": {},
     "output_type": "display_data"
    }
   ],
   "source": [
    "# Set up your Discord connection\n",
    "# TODO: put the discord token for your bot below\n",
    "discord_token = \"m#5@_fake_discord_token_$%Ds\"\n",
    "\n",
    "\n",
    "# set up Discord client with permissions to read message_contents\n",
    "intents = discord.Intents.default()\n",
    "intents.message_content = True "
   ]
  },
  {
   "cell_type": "markdown",
   "id": "80f48f9d-30f4-47e5-bf2f-ff4bb66b02a1",
   "metadata": {},
   "source": [
    "### find a list of discord posts\n",
    "We can now make a bot that loads a list of discord posts.\n",
    "\n",
    "_Note: If you run this on real discord, we can’t gurantee anything about how offensive what you might find is._"
   ]
  },
  {
   "cell_type": "code",
   "execution_count": 4,
   "id": "9f945e19-4e7d-4626-a468-de8af347355f",
   "metadata": {},
   "outputs": [
    {
     "data": {
      "text/html": [
       "<strong style='color:darkred'>Fake discord bot is fake logging in and starting to run</strong>"
      ],
      "text/plain": [
       "<IPython.core.display.HTML object>"
      ]
     },
     "metadata": {},
     "output_type": "display_data"
    },
    {
     "data": {
      "text/html": [
       "<strong style='color:darkred'>Fake discord bot is shutting down</strong>"
      ],
      "text/plain": [
       "<IPython.core.display.HTML object>"
      ]
     },
     "metadata": {},
     "output_type": "display_data"
    }
   ],
   "source": [
    "# set up discord connection\n",
    "client = discord.Client(intents=intents)\n",
    "\n",
    "# TODO: put the discord channel id number below for the channel you want to use\n",
    "channel_id = 123456789\n",
    "\n",
    "# Provide instructions for what your discord bot should do once it has logged in\n",
    "@client.event\n",
    "async def on_ready():\n",
    "    global recent_posts # Save the recent_posts variable outside our running bot\n",
    "    \n",
    "    # Load the discord channel you want to post to\n",
    "    channel = client.get_channel(channel_id)\n",
    "\n",
    "    # Get the latest post in the channel history\n",
    "    post_history = channel.history(limit=10)\n",
    "    \n",
    "    #special code to turn the post_history from discord into a python list\n",
    "    recent_posts = [post async for post in post_history]\n",
    "\n",
    "    # Tell your bot to stop running\n",
    "    await client.close()\n",
    "    \n",
    "# Now that we've defined how the bot should work, start running your bot\n",
    "client.run(discord_token)"
   ]
  },
  {
   "cell_type": "markdown",
   "id": "7b487d9c-2741-4042-8756-702358f4db1c",
   "metadata": {},
   "source": [
    "## Loop through the list of posts\n",
    "The variable `recent_posts` now has a list of Discord posts. So we can use a for loop to go through each submission, and then use `.` to access info from each post (other pieces of information would need `[\" \"]` to access).\n",
    "\n",
    "For each of the posts, we will use `print` to display information about the post"
   ]
  },
  {
   "cell_type": "code",
   "execution_count": 5,
   "id": "f5817cce-16b5-48e6-8a40-c90c0ab4079c",
   "metadata": {},
   "outputs": [
    {
     "name": "stdout",
     "output_type": "stream",
     "text": [
      "Info for post with id: 984353\n",
      "  content: Breaking news: A lovely cat took a nice long nap today!\n",
      "  author display name: fake_user\n",
      "  author id: 4564563\n",
      "  created at: 2024-07-25 01:23:04\n",
      "  reactions: [FakeReaction(emoji='👍', me=False, count=2), FakeReaction(emoji='🥳', me=True, count=1)]\n",
      "  is pinned?: False\n",
      "\n",
      "Info for post with id: 7643\n",
      "  content: Breaking news: Someone said a really mean thing on the internet today!\n",
      "  author display name: pretend_user\n",
      "  author id: 986545\n",
      "  created at: 2024-07-20 05:20:04\n",
      "  reactions: [FakeReaction(emoji='😠', me=True, count=8)]\n",
      "  is pinned?: False\n",
      "\n",
      "Info for post with id: 4534\n",
      "  content: Breaking news: Some grandparents made some yummy cookies for all the kids to share!\n",
      "  author display name: imaginary_user\n",
      "  author id: 2358658\n",
      "  created at: 2024-07-19 07:00:01\n",
      "  reactions: [FakeReaction(emoji='👍', me=False, count=2), FakeReaction(emoji='🍪', me=True, count=3)]\n",
      "  is pinned?: False\n",
      "\n",
      "Info for post with id: 35588\n",
      "  content: Breaking news: All the horrors of the universe revealed at last!\n",
      "  author display name: not_real_user\n",
      "  author id: 73458345\n",
      "  created at: 2024-07-01 07:00:01\n",
      "  reactions: []\n",
      "  is pinned?: False\n",
      "\n"
     ]
    }
   ],
   "source": [
    "for post in recent_posts:\n",
    "    print(\"Info for post with id: \" + str(post.id))\n",
    "    print(\"  content: \" + str(post.content))\n",
    "    print(\"  author display name: \" + str(post.author.display_name))\n",
    "    print(\"  author id: \" + str(post.author.id))\n",
    "    print(\"  created at: \" + str(post.created_at))\n",
    "    print(\"  reactions: \" + str(post.reactions))\n",
    "    print(\"  is pinned?: \" + str(post.pinned))\n",
    "    print()"
   ]
  },
  {
   "cell_type": "code",
   "execution_count": null,
   "id": "a6a84f50-1fba-426b-80b2-798f09f36d58",
   "metadata": {},
   "outputs": [],
   "source": []
  }
 ],
 "metadata": {
  "kernelspec": {
   "display_name": "Python 3 (ipykernel)",
   "language": "python",
   "name": "python3"
  },
  "language_info": {
   "codemirror_mode": {
    "name": "ipython",
    "version": 3
   },
   "file_extension": ".py",
   "mimetype": "text/x-python",
   "name": "python",
   "nbconvert_exporter": "python",
   "pygments_lexer": "ipython3",
   "version": "3.12.5"
  },
  "vscode": {
   "interpreter": {
    "hash": "369f2c481f4da34e4445cda3fffd2e751bd1c4d706f27375911949ba6bb62e1c"
   }
  }
 },
 "nbformat": 4,
 "nbformat_minor": 5
}
