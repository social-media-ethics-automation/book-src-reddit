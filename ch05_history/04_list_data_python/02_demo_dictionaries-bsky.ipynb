{
 "cells": [
  {
   "cell_type": "markdown",
   "id": "faf79779-95ad-498f-8c19-9a6766d205a4",
   "metadata": {},
   "source": [
    "# Demo: Dictionaries"
   ]
  },
  {
   "cell_type": "markdown",
   "id": "f0f9f3d4-4c80-46bb-894e-f40a2487a270",
   "metadata": {},
   "source": [
    "We've talked about lists, but the other data organization we need to work with social media data is `dictionaries`.\n",
    "\n",
    "As we mentioned in chapter 4, dictionaries allow us to combine pieces of information by naming them (sort of like variables).\n",
    "\n",
    "So for example, the information about a user might have the following pieces of data:\n",
    "- Username\n",
    "- Twitter handle\n",
    "- Profile Picture:\n",
    "- Follows\n",
    "\n",
    "Python has two ways of doing these types of dictionaries: `dict` and objects"
   ]
  },
  {
   "cell_type": "markdown",
   "id": "faf353f9-9945-46c3-b0f7-9938ac6c89dc",
   "metadata": {},
   "source": [
    "## Dictionaries (`dict`)\n",
    "We can create dictionaries in Python by storing values into `key`s inside of curly braces `{` `}`, like this:"
   ]
  },
  {
   "cell_type": "code",
   "execution_count": null,
   "id": "aaeacf5c-1831-447f-b3db-374f12934d81",
   "metadata": {},
   "outputs": [],
   "source": [
    "user_1 = {\n",
    "    \"username\": \"kylethayer\",\n",
    "    \"twitter_handle\": \"@kylemthayer\",\n",
    "    \"profile_picture\": \"kylethayer.jpg\",\n",
    "    \"follows\": [\"@SusanNotess\", \"@UW\", \"@UW_iSchool\", \"@ajlunited\"]\n",
    "}"
   ]
  },
  {
   "cell_type": "markdown",
   "id": "b19c94d0-294a-4f4a-a73d-4651a3d0d96f",
   "metadata": {},
   "source": [
    "In the code above, inside of the curly braces are a set of lines. Each line has a string (the `key`, or name of the value), followed by a colon (`:`), followed by a value that is to be saved for the key. At the end of all but the last line is a comma (`,`) which indicates that another `key` and value will come next.\n",
    "\n",
    "Now that we've saved some values for some keys in the dictionary now saved in user_1, we can look up the values by using square brackets (`[`, `]`) with the key name inside, like this:"
   ]
  },
  {
   "cell_type": "code",
   "execution_count": null,
   "id": "99bb8716-2b5f-4e0e-9188-11ba38dc5e21",
   "metadata": {},
   "outputs": [],
   "source": [
    "user_1_username = user_1[\"username\"]\n",
    "display(user_1_username)"
   ]
  },
  {
   "cell_type": "code",
   "execution_count": null,
   "id": "8d96a9b3-c09e-4125-a664-d4dd77639d3a",
   "metadata": {},
   "outputs": [],
   "source": [
    "user_1_handle = user_1[\"twitter_handle\"]\n",
    "display(user_1_handle)"
   ]
  },
  {
   "cell_type": "code",
   "execution_count": null,
   "id": "4fa4f670-6657-41bc-8a77-557e0c35c987",
   "metadata": {},
   "outputs": [],
   "source": [
    "user_1_picture = user_1[\"profile_picture\"]\n",
    "display(user_1_picture)"
   ]
  },
  {
   "cell_type": "code",
   "execution_count": null,
   "id": "2fc90b1c-f626-4987-b275-ccbf1b5c36d5",
   "metadata": {},
   "outputs": [],
   "source": [
    "user_1_follows = user_1[\"follows\"]\n",
    "display(user_1_follows)"
   ]
  },
  {
   "cell_type": "markdown",
   "id": "f8075810-d7ee-4cff-abec-ec9103f4205f",
   "metadata": {},
   "source": [
    "## Objects\n",
    "The other way of saving information that works similarly in Python is through an object. We won't be creating any in this book, but we will have to get data from some.\n",
    "\n",
    "The main difference from what we will need is that while in dictionaries we use square brackets and put the key name in quotes as a string (e.g., `user_1[\"profile_picture\"]`), in an object you use a period (`.`) and don't put they key name (called a `field`) in quotes (e.g., `user_1.profile_picture`)\n",
    "\n",
    "We have already seen code that used this period to get something from an object a few times, specifically getting functions from them, like:\n",
    "- `client.send_post(...`\n",
    "- `normal_message.upper()`\n",
    "\n",
    "When we go through data from Bluesky, sometimes we will need to use `.` to get parts of the information out of objects, and sometimes we will need to use `[\" \"]` to get information out of dictionaries."
   ]
  },
  {
   "cell_type": "markdown",
   "id": "086be723-f3be-42bf-8ada-ba7f88718d5e",
   "metadata": {},
   "source": [
    "## Looping through lists of dictionaries\n",
    "Now that we've seen loops, lists, and dictionaries, we can go to Bluesky, load a feed and look through multiple posts.\n",
    "\n",
    "But first, we need our helper functions for converting Bluesky feed weblink urls and atproto uris:\n",
    "\n",
    "### helper function for atproto links\n",
    "_NOTE: You don't need to worry about the details of how this works, it just is here to make the code later easier to use._"
   ]
  },
  {
   "cell_type": "code",
   "execution_count": 1,
   "id": "0fa25bcc-5317-4ff7-9419-060f0a1321fd",
   "metadata": {},
   "outputs": [],
   "source": [
    "import re #load a \"regular expression\" library for helping to parse text\n",
    "from atproto import IdResolver # Load the atproto IdResolver library to get offical ATProto user IDs\n",
    "\n",
    "# function to convert a feed from a weblink url to the special atproto \"at\" URI\n",
    "def getATFeedLinkFromURL(url):\n",
    "    \n",
    "    # Get the user did and feed id from the weblink url\n",
    "    match = re.search(r'https://bsky.app/profile/([^/]+)/feed/([^/]+)', url)\n",
    "    if not match:\n",
    "        raise ValueError(\"Invalid Bluesky feed URL format.\")\n",
    "    user_handle, feed_id = match.groups()\n",
    "\n",
    "    # Get the official atproto user ID (did) from the handle\n",
    "    resolver = IdResolver()\n",
    "    did = resolver.handle.resolve(user_handle)\n",
    "    if not did:\n",
    "        raise ValueError(f'Could not resolve DID for handle \"{user_handle}\".')\n",
    "\n",
    "    # Construct the at:// URI\n",
    "    post_uri = f\"at://{did}/app.bsky.feed.generator/{feed_id}\"\n",
    "\n",
    "    return post_uri\n",
    "\n",
    "# function to convert a post's special atproto \"at\" URI to a weblink url\n",
    "def getWebLinkFromPost(post):\n",
    "    # Get the user id and post id from the weblink url\n",
    "    match = re.search(r'at://([^/]+)/app.bsky.feed.post/([^/]+)', post.uri)\n",
    "    if not match:\n",
    "        raise ValueError(\"Invalid Bluesky atproto post URL format.\")\n",
    "    user_id, post_id = match.groups()\n",
    "\n",
    "    post_uri = f\"https://bsky.app/profile/{user_id}/post/{post_id}\"\n",
    "    return post_uri"
   ]
  },
  {
   "cell_type": "markdown",
   "id": "4cb96ef3-8f5e-420e-9273-9010e89dce0e",
   "metadata": {},
   "source": [
    "Now we can continue logging in to Bluesky and look through multiple posts.\n",
    "### load atproto library"
   ]
  },
  {
   "cell_type": "code",
   "execution_count": 2,
   "id": "01b1b258-c3b7-48b5-9576-0b5012e2592f",
   "metadata": {},
   "outputs": [],
   "source": [
    "# Load some code called \"Client\" from the \"atproto\" library that will help us work with Bluesky\n",
    "from atproto import Client"
   ]
  },
  {
   "cell_type": "markdown",
   "id": "9cc3a006-f750-4636-b48b-49fcfed023d1",
   "metadata": {},
   "source": [
    "### (optional) make a fake Bluesky connection with the fake_atproto library\n",
    "For testing purposes, we\"ve added this line of code, which loads a fake version of atproto, so it wont actually connect to Bluesky. __If you want to try to actually connect to Bluesky, don't run this line of code.__"
   ]
  },
  {
   "cell_type": "code",
   "execution_count": 3,
   "id": "a42161a4-3102-4517-afba-3e64a02d85f0",
   "metadata": {},
   "outputs": [
    {
     "data": {
      "text/html": [
       "<strong style='color:darkred'>Fake atproto (bsky.app) is replacing the atproto.blue library. Fake atproto doesn&#x27;t need real passwords, and prevents you from accessing real Bluesky</strong>"
      ],
      "text/plain": [
       "<IPython.core.display.HTML object>"
      ]
     },
     "metadata": {},
     "output_type": "display_data"
    }
   ],
   "source": [
    "%run ../../fake_apis/fake_atproto.ipynb"
   ]
  },
  {
   "cell_type": "markdown",
   "id": "adbe69cf-a3b0-43a7-acb6-19f7e7eb5945",
   "metadata": {},
   "source": [
    "### login to Bluesky"
   ]
  },
  {
   "cell_type": "code",
   "execution_count": 4,
   "id": "46e18dcd-e58f-4083-b1c2-55ece3b0c3be",
   "metadata": {},
   "outputs": [
    {
     "data": {
      "text/html": [
       "<strong style='color:darkred'>Fake atproto is pretending to set up a client connection to: https://bsky.social</strong>"
      ],
      "text/plain": [
       "<IPython.core.display.HTML object>"
      ]
     },
     "metadata": {},
     "output_type": "display_data"
    },
    {
     "data": {
      "text/html": [
       "<strong style='color:darkred'>Fake atproto is pretending log into your account: your_account_name.bsky.social</strong>"
      ],
      "text/plain": [
       "<IPython.core.display.HTML object>"
      ]
     },
     "metadata": {},
     "output_type": "display_data"
    }
   ],
   "source": [
    "# Login to Bluesky\n",
    "# TODO: put your account name and password below\n",
    "\n",
    "client = Client(base_url=\"https://bsky.social\")\n",
    "client.login(\"your_account_name.bsky.social\", \"m#5@_fake_bsky_password_$%Ds\")"
   ]
  },
  {
   "cell_type": "markdown",
   "id": "80f48f9d-30f4-47e5-bf2f-ff4bb66b02a1",
   "metadata": {},
   "source": [
    "### find a list of posts from a feed\n",
    "We can now load a feed and find a list of posts.\n",
    "\n",
    "_Note: If you run this on real Bluesky, we can’t gurantee anything about how offensive what you might find is._"
   ]
  },
  {
   "cell_type": "code",
   "execution_count": 5,
   "id": "9f945e19-4e7d-4626-a468-de8af347355f",
   "metadata": {},
   "outputs": [
    {
     "data": {
      "text/html": [
       "<strong style='color:darkred'>Fake atproto is pretending to look up user handle: shouldhaveanimal.bsky.social</strong>"
      ],
      "text/plain": [
       "<IPython.core.display.HTML object>"
      ]
     },
     "metadata": {},
     "output_type": "display_data"
    }
   ],
   "source": [
    "feedUrl = \"https://bsky.app/profile/shouldhaveanimal.bsky.social/feed/aaab56iiatpdo\"\n",
    "atFeedLink = getATFeedLinkFromURL(feedUrl)\n",
    "\n",
    "post_info_list = client.app.bsky.feed.get_feed({'feed': atFeedLink}).feed"
   ]
  },
  {
   "cell_type": "markdown",
   "id": "7b487d9c-2741-4042-8756-702358f4db1c",
   "metadata": {},
   "source": [
    "## Loop through the list of posts\n",
    "The variable `post_info_list` now has a list of Bluesky post info. So we can use a for loop to go through each post, and then use `.` to access info from each post (other pieces of information would need `[\" \"]` to access).\n",
    "\n",
    "For each of the post, we will use `print` to display information about the tweet"
   ]
  },
  {
   "cell_type": "code",
   "execution_count": 6,
   "id": "f5817cce-16b5-48e6-8a40-c90c0ab4079c",
   "metadata": {},
   "outputs": [
    {
     "name": "stdout",
     "output_type": "stream",
     "text": [
      "Info for submission with cid: 904tjwdf093j\n",
      "  author handle: fake_user.bsky.social\n",
      "  text: Look at my cute dog!\n",
      "  created at: 2014-01-01\n",
      "  number of likes: 23\n",
      "  number of replies: 7\n",
      "  number of reposts: 5\n",
      "  url: https://bsky.app/profile/did:plc:fake_user/post/fake_post_id\n",
      "\n",
      "Info for submission with cid: 704tjwdf093j\n",
      "  author handle: pretend_user.bsky.social\n",
      "  text: I like lizards\n",
      "  created at: 2014-02-01\n",
      "  number of likes: 23\n",
      "  number of replies: 7\n",
      "  number of reposts: 5\n",
      "  url: https://bsky.app/profile/did:plc:pretend_user/post/fake_post_id\n",
      "\n",
      "Info for submission with cid: 534tjwdf093j\n",
      "  author handle: imaginary_user.bsky.social\n",
      "  text: Look at my cute cat!\n",
      "  created at: 2014-03-01\n",
      "  number of likes: 23\n",
      "  number of replies: 7\n",
      "  number of reposts: 5\n",
      "  url: https://bsky.app/profile/did:plc:imaginary_user/post/fake_post_id\n",
      "\n"
     ]
    }
   ],
   "source": [
    "for post_info in post_info_list:\n",
    "    print(\"Info for submission with cid: \" + str(post_info.post.cid))\n",
    "    print(\"  author handle: \" + str(post_info.post.author.handle))\n",
    "    print(\"  text: \" + str(post_info.post.record.text))\n",
    "    print(\"  created at: \" + str(post_info.post.record.created_at))\n",
    "    print(\"  number of likes: \" + str(post_info.post.like_count))\n",
    "    print(\"  number of replies: \" + str(post_info.post.reply_count))\n",
    "    print(\"  number of reposts: \" + str(post_info.post.repost_count))\n",
    "    print(\"  url: \" + str(getWebLinkFromPost(post_info.post)))\n",
    "    print()"
   ]
  },
  {
   "cell_type": "code",
   "execution_count": null,
   "id": "27029b5b-03f5-423f-a71a-5bfa5f1a887a",
   "metadata": {},
   "outputs": [],
   "source": []
  }
 ],
 "metadata": {
  "kernelspec": {
   "display_name": "Python 3 (ipykernel)",
   "language": "python",
   "name": "python3"
  },
  "language_info": {
   "codemirror_mode": {
    "name": "ipython",
    "version": 3
   },
   "file_extension": ".py",
   "mimetype": "text/x-python",
   "name": "python",
   "nbconvert_exporter": "python",
   "pygments_lexer": "ipython3",
   "version": "3.10.4"
  },
  "vscode": {
   "interpreter": {
    "hash": "369f2c481f4da34e4445cda3fffd2e751bd1c4d706f27375911949ba6bb62e1c"
   }
  }
 },
 "nbformat": 4,
 "nbformat_minor": 5
}
