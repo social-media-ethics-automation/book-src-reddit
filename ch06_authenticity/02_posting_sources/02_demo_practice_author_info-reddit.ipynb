{
 "cells": [
  {
   "cell_type": "markdown",
   "id": "67655e14-ea22-4ff1-9b83-2735028b6dd8",
   "metadata": {},
   "source": [
    "# Demo & Practice: Author Info"
   ]
  },
  {
   "cell_type": "markdown",
   "id": "2274f89d-141b-4812-9169-9525b67e30d4",
   "metadata": {},
   "source": [
    "Though Reddit collects the device/program sources of submissions (like we saw from former President Trump), it unfortunately doesn't let us see them.\n",
    "\n",
    "Instead we will look at other information about the author of posts on Reddit that can perhaps tell us something about their authenticity."
   ]
  },
  {
   "cell_type": "markdown",
   "id": "e2b8ec11-bcc5-4858-b65b-7421e32883a8",
   "metadata": {},
   "source": [
    "## Log into Reddit (PRAW)\n",
    "These are our normal steps get PRAW loaded and logged into Reddit"
   ]
  },
  {
   "cell_type": "code",
   "execution_count": 13,
   "id": "ed4d794b-94dc-48bc-bd59-557d2251a135",
   "metadata": {
    "tags": []
   },
   "outputs": [],
   "source": [
    "import praw"
   ]
  },
  {
   "cell_type": "markdown",
   "id": "ce054ad2-ca27-4a41-8720-8bd28b6714a1",
   "metadata": {},
   "source": [
    "(optional) make a fake praw connection with the fake_praw library\n",
    "\n",
    "For testing purposes, we've added this line of code, which loads a fake version of praw, so it wont actually connect to reddit. __If you want to try to actually connect to reddit, don't run this line of code.__"
   ]
  },
  {
   "cell_type": "code",
   "execution_count": 14,
   "id": "d055ee8d-4ec6-4ab2-8ee8-3c6784842fd5",
   "metadata": {},
   "outputs": [
    {
     "data": {
      "text/html": [
       "<strong style='color:darkred'>Fake praw is replacing the praw library. Fake praw doesn&#x27;t need real passwords, and prevents you from accessing real reddit</strong>"
      ],
      "text/plain": [
       "<IPython.core.display.HTML object>"
      ]
     },
     "metadata": {},
     "output_type": "display_data"
    }
   ],
   "source": [
    "%run ../../fake_apis/fake_praw.ipynb"
   ]
  },
  {
   "cell_type": "code",
   "execution_count": 15,
   "id": "a4670d0f-d404-49ae-ad88-5234a60254ff",
   "metadata": {},
   "outputs": [],
   "source": [
    "# Load all your developer access passwords into Python\n",
    "# TODO: Put your reddit username, password, and special developer access passwords below:\n",
    "username=\"fake_reddit_username\"\n",
    "password=\"sa@#4*fdf_fake_password_$%DSG#%DG\"\n",
    "client_id=\"45adf$TW_fake_client_id_JESdsg1O\"\n",
    "client_secret=\"56sd_fake_client_secret_%Yh%\""
   ]
  },
  {
   "cell_type": "code",
   "execution_count": 16,
   "id": "81c60ab0-c6b8-46c0-9e7c-3c022eaa8350",
   "metadata": {},
   "outputs": [
    {
     "data": {
      "text/html": [
       "<strong style='color:darkred'>Fake praw is pretending to collect account info to use on reddit</strong>"
      ],
      "text/plain": [
       "<IPython.core.display.HTML object>"
      ]
     },
     "metadata": {},
     "output_type": "display_data"
    }
   ],
   "source": [
    "# Give the praw code your reddit account info so\n",
    "# it can perform reddit actions\n",
    "reddit = praw.Reddit(\n",
    "    username=username, password=password,\n",
    "    client_id=client_id, client_secret=client_secret,\n",
    "    user_agent=\"a custom python script\"\n",
    ")"
   ]
  },
  {
   "cell_type": "markdown",
   "id": "e5caed17-960d-4a53-9410-1fd5ef3932ae",
   "metadata": {},
   "source": [
    "## Load a set of Reddit posts and look up author information\n",
    "\n",
    "The code below searches for recent submissions from a subreddit, and then does a loop though all the submissions, printing out the information about the authors of the submissions, such as:\n",
    "- Link Karma (a measure of how much people like the links that person submits)\n",
    "- Comment Karma (a measure of how much people like the comments that person makes)\n",
    "\n",
    "Try searching through other subreddits and see what you notice about the authors of posts in different subreddits.\n",
    "\n",
    "To do this:\n",
    "- put in your special Reddit bot passwords\n",
    "- skip the fake_tweepy step above\n",
    "- take the first line of the code below and replace `cuteanimals` with a different subreddit name, like `movies`"
   ]
  },
  {
   "cell_type": "code",
   "execution_count": 17,
   "id": "977aaa34-59da-4e73-aacb-fe031b6dc50f",
   "metadata": {
    "tags": []
   },
   "outputs": [
    {
     "data": {
      "text/html": [
       "<strong style='color:darkred'>Fake praw is pretending to select the subreddit: cuteanimals</strong>"
      ],
      "text/plain": [
       "<IPython.core.display.HTML object>"
      ]
     },
     "metadata": {},
     "output_type": "display_data"
    },
    {
     "name": "stdout",
     "output_type": "stream",
     "text": [
      "Info for submission: Look at my cute dog!\n",
      "  author: fake_user\n",
      "  author's Link Karma: 10\n",
      "  author Comment Karma: 50\n",
      "  author has a verified email address? True\n",
      "  author is a moderator of a subreddit? False\n",
      "  author has active Reddit Premium status? False\n",
      "\n",
      "Info for submission: A baby lizard!\n",
      "  author: pretend_user\n",
      "  author's Link Karma: 25\n",
      "  author Comment Karma: 15\n",
      "  author has a verified email address? True\n",
      "  author is a moderator of a subreddit? True\n",
      "  author has active Reddit Premium status? False\n",
      "\n",
      "Info for submission: The cutest bird ever!\n",
      "  author: imaginary_user\n",
      "  author's Link Karma: 3\n",
      "  author Comment Karma: 7\n",
      "  author has a verified email address? True\n",
      "  author is a moderator of a subreddit? True\n",
      "  author has active Reddit Premium status? True\n",
      "\n"
     ]
    }
   ],
   "source": [
    "# Look up the subreddit \"cuteanimals\", then find the \"hot\" list, getting up to 10 submission\n",
    "submissions = reddit.subreddit(\"cuteanimals\").hot(limit=10)\n",
    "\n",
    "# Turn the submission results into a Python List\n",
    "submissions_list = list(submissions)\n",
    "\n",
    "for submission in submissions_list:\n",
    "    print(\"Info for submission: \" + str(submission.title))\n",
    "    print(\"  author: \" + str(submission.author))\n",
    "    print(\"  author's Link Karma: \" + str(submission.author.link_karma))\n",
    "    print(\"  author's Comment Karma: \" + str(submission.author.comment_karma))\n",
    "    print(\"  author has a verified email address? \" + str(submission.author.has_verified_email))\n",
    "    print(\"  author is a moderator of a subreddit? \" + str(submission.author.is_mod))\n",
    "    print(\"  author has active Reddit Premium status? \" + str(submission.author.is_gold))\n",
    "    print()"
   ]
  },
  {
   "cell_type": "code",
   "execution_count": null,
   "id": "ceec35d5-6f71-4a13-8f16-3359878222c1",
   "metadata": {},
   "outputs": [],
   "source": []
  }
 ],
 "metadata": {
  "kernelspec": {
   "display_name": "Python 3 (ipykernel)",
   "language": "python",
   "name": "python3"
  },
  "language_info": {
   "codemirror_mode": {
    "name": "ipython",
    "version": 3
   },
   "file_extension": ".py",
   "mimetype": "text/x-python",
   "name": "python",
   "nbconvert_exporter": "python",
   "pygments_lexer": "ipython3",
   "version": "3.12.5"
  },
  "vscode": {
   "interpreter": {
    "hash": "369f2c481f4da34e4445cda3fffd2e751bd1c4d706f27375911949ba6bb62e1c"
   }
  }
 },
 "nbformat": 4,
 "nbformat_minor": 5
}
