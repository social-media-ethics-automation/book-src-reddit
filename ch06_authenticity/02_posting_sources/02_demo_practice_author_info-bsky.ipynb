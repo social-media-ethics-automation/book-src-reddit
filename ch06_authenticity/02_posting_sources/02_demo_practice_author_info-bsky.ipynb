{
 "cells": [
  {
   "cell_type": "markdown",
   "id": "67655e14-ea22-4ff1-9b83-2735028b6dd8",
   "metadata": {},
   "source": [
    "# Demo & Practice: Author Info"
   ]
  },
  {
   "cell_type": "markdown",
   "id": "4af18d7f-461b-4a91-85be-6f019fabd9f4",
   "metadata": {},
   "source": [
    "Though Bluesky might collect the device/program sources of submissions (like we saw from former President Trump), it unfortunately doesn't let us see them.\n",
    "\n",
    "Instead we will look at other information about the author of posts on Bluesky that can perhaps tell us something about their authenticity."
   ]
  },
  {
   "cell_type": "markdown",
   "id": "a578eda5-7b35-4ae6-b9b4-84add32e6439",
   "metadata": {},
   "source": [
    "But first, we need our helper functions for converting Bluesky feed weblink urls and atproto uris:\n",
    "\n",
    "## helper function for atproto links\n",
    "_NOTE: You don't need to worry about the details of how this works, it just is here to make the code later easier to use._"
   ]
  },
  {
   "cell_type": "code",
   "execution_count": null,
   "id": "27d49b09-a383-4e9f-941b-d64b4f4952d8",
   "metadata": {},
   "outputs": [],
   "source": [
    "import re #load a \"regular expression\" library for helping to parse text\n",
    "\n",
    "# function to convert a post's special atproto \"at\" URI to a weblink url\n",
    "def get_weblink_from_post(post):\n",
    "    # Get the user id and post id from the weblink url\n",
    "    match = re.search(r'at://([^/]+)/app.bsky.feed.post/([^/]+)', post.uri)\n",
    "    if not match:\n",
    "        raise ValueError(\"Invalid Bluesky atproto post URL format.\")\n",
    "    user_id, post_id = match.groups()\n",
    "\n",
    "    post_uri = f\"https://bsky.app/profile/{user_id}/post/{post_id}\"\n",
    "    return post_uri\n",
    "\n",
    "# function to take an author profile and generate a weblink url\n",
    "def get_weblink_from_profile(author_info):\n",
    "    author_uri = f\"https://bsky.app/profile/{author_info.did}\"\n",
    "    return author_uri"
   ]
  },
  {
   "cell_type": "markdown",
   "id": "e2b8ec11-bcc5-4858-b65b-7421e32883a8",
   "metadata": {},
   "source": [
    "## Log into Bluesky (atproto)\n",
    "These are our normal steps get atproto loaded and logged into Bluesky"
   ]
  },
  {
   "cell_type": "code",
   "execution_count": null,
   "id": "ed4d794b-94dc-48bc-bd59-557d2251a135",
   "metadata": {
    "tags": []
   },
   "outputs": [],
   "source": [
    "from atproto import Client"
   ]
  },
  {
   "cell_type": "markdown",
   "id": "ce054ad2-ca27-4a41-8720-8bd28b6714a1",
   "metadata": {},
   "source": [
    "(optional) make a fake Bluesky connection with the fake_atproto library\n",
    "For testing purposes, we\"ve added this line of code, which loads a fake version of atproto, so it wont actually connect to Bluesky. __If you want to try to actually connect to Bluesky, don't run this line of code.__"
   ]
  },
  {
   "cell_type": "code",
   "execution_count": null,
   "id": "d055ee8d-4ec6-4ab2-8ee8-3c6784842fd5",
   "metadata": {},
   "outputs": [],
   "source": [
    "%run ../../fake_apis/fake_atproto.ipynb"
   ]
  },
  {
   "cell_type": "code",
   "execution_count": null,
   "id": "a4670d0f-d404-49ae-ad88-5234a60254ff",
   "metadata": {},
   "outputs": [],
   "source": [
    "# Login to Bluesky\n",
    "# TODO: put your account name and password below\n",
    "\n",
    "client = Client(base_url=\"https://bsky.social\")\n",
    "client.login(\"your_account_name.bsky.social\", \"m#5@_fake_bsky_password_$%Ds\")"
   ]
  },
  {
   "cell_type": "markdown",
   "id": "e5caed17-960d-4a53-9410-1fd5ef3932ae",
   "metadata": {},
   "source": [
    "## Load a set of Bluesky posts and look up author information\n",
    "\n",
    "The code below searches posts from Bluesky that includes the word news, and then does a loop though all the posts, for each one making another request to Bluesky for the author info, then printing out some of that information, such as:\n",
    "\n",
    "- followers_count (how many accounts this author follows)\n",
    "- follows_count (how many accounts follow this author)\n",
    "- posts_count (how many posts this account has made)\n",
    "\n",
    "Try running other searches and see what you notice about the authors of posts.\n",
    "\n",
    "To do this:\n",
    "- put in your Bluesky bot username and passwords\n",
    "- skip the fake_atproto step above\n",
    "- take the first line of the code below and replace the search term with a different search term\n",
    "\n",
    "_Note: If you run this on real Bluesky, we can’t gurantee anything about how offensive what you might find is._"
   ]
  },
  {
   "cell_type": "code",
   "execution_count": null,
   "id": "5a003c72-8415-44e8-9b54-735f0c8188ad",
   "metadata": {},
   "outputs": [],
   "source": [
    "# Save what we want to search for in a variable\n",
    "search_query = \"news\"\n",
    "# run the search and save the resulting list in a variable\n",
    "search_result_posts = client.app.bsky.feed.search_posts({'q': search_query}).posts"
   ]
  },
  {
   "cell_type": "code",
   "execution_count": null,
   "id": "ceec35d5-6f71-4a13-8f16-3359878222c1",
   "metadata": {},
   "outputs": [],
   "source": [
    "# go through each post and look up author information for that post\n",
    "for post in search_result_posts:\n",
    "    print(\"Info for post with url: \" + str(get_weblink_from_post(post)))\n",
    "\n",
    "    # look up additional information about that author\n",
    "    author_did = post.author.did\n",
    "    author_info = client.app.bsky.actor.get_profile({'actor': author_did})\n",
    "\n",
    "    # print out various pieces of author info\n",
    "    print(\"  author handle: \" + str(author_info.handle))\n",
    "    print(\"  author display name: \" + str(author_info.display_name))\n",
    "    print(\"  author creation date: \" + str(author_info.created_at))\n",
    "    print(\"  author did: \" + str(author_info.did))\n",
    "    print(\"  author followers_count: \" + str(author_info.followers_count))\n",
    "    print(\"  author follows_count: \" + str(author_info.follows_count))\n",
    "    print(\"  author posts_count: \" + str(author_info.posts_count))\n",
    "    print(\"  author avatar: \" + str(author_info.avatar))\n",
    "    print(\"  author banner: \" + str(author_info.banner))\n",
    "    print(\"  author description: \" + str(author_info.description))\n",
    "    print(\"  author profile url: \" + get_weblink_from_profile(author_info))\n",
    "    \n",
    "    print()\n",
    "    print()"
   ]
  }
 ],
 "metadata": {
  "kernelspec": {
   "display_name": "Python 3 (ipykernel)",
   "language": "python",
   "name": "python3"
  },
  "language_info": {
   "codemirror_mode": {
    "name": "ipython",
    "version": 3
   },
   "file_extension": ".py",
   "mimetype": "text/x-python",
   "name": "python",
   "nbconvert_exporter": "python",
   "pygments_lexer": "ipython3",
   "version": "3.12.5"
  },
  "vscode": {
   "interpreter": {
    "hash": "369f2c481f4da34e4445cda3fffd2e751bd1c4d706f27375911949ba6bb62e1c"
   }
  }
 },
 "nbformat": 4,
 "nbformat_minor": 5
}
