{
 "cells": [
  {
   "cell_type": "markdown",
   "id": "67655e14-ea22-4ff1-9b83-2735028b6dd8",
   "metadata": {},
   "source": [
    "# Demo & Practice: Author Info"
   ]
  },
  {
   "cell_type": "markdown",
   "id": "4af18d7f-461b-4a91-85be-6f019fabd9f4",
   "metadata": {},
   "source": [
    "Though Bluesky might collect the device/program sources of submissions (like we saw from former President Trump), it unfortunately doesn't let us see them.\n",
    "\n",
    "Instead we will look at other information about the author of posts on Bluesky that can perhaps tell us something about their authenticity."
   ]
  },
  {
   "cell_type": "markdown",
   "id": "e2b8ec11-bcc5-4858-b65b-7421e32883a8",
   "metadata": {},
   "source": [
    "## Log into Bluesky (atproto)\n",
    "These are our normal steps get atproto loaded and logged into Bluesky"
   ]
  },
  {
   "cell_type": "markdown",
   "id": "826ad6b4-4eaa-4490-a35f-1714ef1c6cbd",
   "metadata": {},
   "source": [
    "helper function for atproto links\n",
    "\n",
    "_NOTE: You don't need to worry about the details of how this works, it just is here to make the code later easier to use._"
   ]
  },
  {
   "cell_type": "code",
   "execution_count": 7,
   "id": "238cd617-08a7-4bc5-bf4a-883d994b5209",
   "metadata": {},
   "outputs": [],
   "source": [
    "import re #load a \"regular expression\" library for helping to parse text\n",
    "from atproto import IdResolver # Load the atproto IdResolver library to get offical ATProto user IDs\n",
    "\n",
    "# function to convert a feed from a weblink url to the special atproto \"at\" URI\n",
    "def getATFeedLinkFromURL(url):\n",
    "    \n",
    "    # Get the user did and feed id from the weblink url\n",
    "    match = re.search(r'https://bsky.app/profile/([^/]+)/feed/([^/]+)', url)\n",
    "    if not match:\n",
    "        raise ValueError(\"Invalid Bluesky feed URL format.\")\n",
    "    user_handle, feed_id = match.groups()\n",
    "\n",
    "    # Get the official atproto user ID (did) from the handle\n",
    "    resolver = IdResolver()\n",
    "    did = resolver.handle.resolve(user_handle)\n",
    "    if not did:\n",
    "        raise ValueError(f'Could not resolve DID for handle \"{user_handle}\".')\n",
    "\n",
    "    # Construct the at:// URI\n",
    "    post_uri = f\"at://{did}/app.bsky.feed.generator/{feed_id}\"\n",
    "\n",
    "    return post_uri\n",
    "\n",
    "# function to convert a post's special atproto \"at\" URI to a weblink url\n",
    "def getWebLinkFromPost(post):\n",
    "    # Get the user id and post id from the weblink url\n",
    "    match = re.search(r'at://([^/]+)/app.bsky.feed.post/([^/]+)', post.uri)\n",
    "    if not match:\n",
    "        raise ValueError(\"Invalid Bluesky atproto post URL format.\")\n",
    "    user_id, post_id = match.groups()\n",
    "\n",
    "    post_uri = f\"https://bsky.app/profile/{user_id}/post/{post_id}\"\n",
    "    return post_uri\n",
    "    \n",
    "# function to take an author profile and generate a weblink url\n",
    "def getWebLinkFromProfile(authorInfo):\n",
    "    author_uri = f\"https://bsky.app/profile/{authorInfo.did}\"\n",
    "    return author_uri"
   ]
  },
  {
   "cell_type": "code",
   "execution_count": 8,
   "id": "ed4d794b-94dc-48bc-bd59-557d2251a135",
   "metadata": {
    "tags": []
   },
   "outputs": [],
   "source": [
    "from atproto import Client"
   ]
  },
  {
   "cell_type": "markdown",
   "id": "ce054ad2-ca27-4a41-8720-8bd28b6714a1",
   "metadata": {},
   "source": [
    "(optional) make a fake Bluesky connection with the fake_atproto library\n",
    "For testing purposes, we\"ve added this line of code, which loads a fake version of atproto, so it wont actually connect to Bluesky. __If you want to try to actually connect to Bluesky, don't run this line of code.__"
   ]
  },
  {
   "cell_type": "code",
   "execution_count": 9,
   "id": "d055ee8d-4ec6-4ab2-8ee8-3c6784842fd5",
   "metadata": {},
   "outputs": [
    {
     "data": {
      "text/html": [
       "<strong style='color:darkred'>Fake atproto (bsky.app) is replacing the atproto.blue library. Fake atproto doesn&#x27;t need real passwords, and prevents you from accessing real Bluesky</strong>"
      ],
      "text/plain": [
       "<IPython.core.display.HTML object>"
      ]
     },
     "metadata": {},
     "output_type": "display_data"
    }
   ],
   "source": [
    "%run ../../fake_apis/fake_atproto.ipynb"
   ]
  },
  {
   "cell_type": "code",
   "execution_count": 10,
   "id": "a4670d0f-d404-49ae-ad88-5234a60254ff",
   "metadata": {},
   "outputs": [
    {
     "data": {
      "text/html": [
       "<strong style='color:darkred'>Fake atproto is pretending to set up a client connection to: https://bsky.social</strong>"
      ],
      "text/plain": [
       "<IPython.core.display.HTML object>"
      ]
     },
     "metadata": {},
     "output_type": "display_data"
    },
    {
     "data": {
      "text/html": [
       "<strong style='color:darkred'>Fake atproto is pretending log into your account: your_account_name.bsky.social</strong>"
      ],
      "text/plain": [
       "<IPython.core.display.HTML object>"
      ]
     },
     "metadata": {},
     "output_type": "display_data"
    }
   ],
   "source": [
    "# Login to Bluesky\n",
    "# TODO: put your account name and password below\n",
    "\n",
    "client = Client(base_url=\"https://bsky.social\")\n",
    "client.login(\"your_account_name.bsky.social\", \"m#5@_fake_bsky_password_$%Ds\")"
   ]
  },
  {
   "cell_type": "markdown",
   "id": "e5caed17-960d-4a53-9410-1fd5ef3932ae",
   "metadata": {},
   "source": [
    "## Load a set of Bluesky posts and look up author information\n",
    "\n",
    "The code below searches for recent posts from a Bluesky feed, and then does a loop though all the posts, for each one making another request to Bluesky for the author info, then printing out some of that information, such as:\n",
    "\n",
    "- followers_count (how many accounts this author follows)\n",
    "- follows_count (how many accounts follow this author)\n",
    "- posts_count (how many posts this account has made)\n",
    "\n",
    "Try searching through other feeds and see what you notice about the authors of posts in different subreddits.\n",
    "\n",
    "To do this:\n",
    "- put in your Bluesky bot username and passwords\n",
    "- skip the fake_atproto step above\n",
    "- take the first line of the code below and replace the url for the animals feed with a different Bluesky feed"
   ]
  },
  {
   "cell_type": "code",
   "execution_count": 11,
   "id": "5a003c72-8415-44e8-9b54-735f0c8188ad",
   "metadata": {},
   "outputs": [],
   "source": [
    "feedUrl = \"https://bsky.app/profile/shouldhaveanimal.bsky.social/feed/aaab56iiatpdo\"\n",
    "atFeedLink = getATFeedLinkFromURL(feedUrl)\n",
    "\n",
    "post_info_list = client.app.bsky.feed.get_feed({'feed': atFeedLink}).feed"
   ]
  },
  {
   "cell_type": "code",
   "execution_count": 12,
   "id": "ceec35d5-6f71-4a13-8f16-3359878222c1",
   "metadata": {},
   "outputs": [
    {
     "name": "stdout",
     "output_type": "stream",
     "text": [
      "Info for post with url: https://bsky.app/profile/did:plc:fake_user/post/fake_post_id\n",
      "  author handle: fake_user.bsky.social\n",
      "  author display name: Fake User\n",
      "  author creation date: 2024-1-01\n",
      "  author did: 93j45jg9ej5gjt\n",
      "  author followers_count: 75\n",
      "  author follows_count: 345\n",
      "  author posts_count: 13\n",
      "  author avatar: fake_user_profile.jpg\n",
      "  author banner: fake_user_banner.jpg\n",
      "  author description: I am a fake user!\n",
      "  author profile url: https://bsky.app/profile/93j45jg9ej5gjt\n",
      "\n",
      "\n",
      "Info for post with url: https://bsky.app/profile/did:plc:pretend_user/post/fake_post_id\n",
      "  author handle: pretend_user.bsky.social\n",
      "  author display name: Pretend User\n",
      "  author creation date: 2024-3-02\n",
      "  author did: 75n4tk5gn4oi\n",
      "  author followers_count: 2\n",
      "  author follows_count: 1323\n",
      "  author posts_count: 1\n",
      "  author avatar: pretend_user_profile.jpg\n",
      "  author banner: pretend_user_banner.jpg\n",
      "  author description: I am a pretend user!\n",
      "  author profile url: https://bsky.app/profile/75n4tk5gn4oi\n",
      "\n",
      "\n",
      "Info for post with url: https://bsky.app/profile/did:plc:imaginary_user/post/fake_post_id\n",
      "  author handle: imaginary_user.bsky.social\n",
      "  author display name: Imaginary User\n",
      "  author creation date: 2022-1-01\n",
      "  author did: 5kj45nkj4n6kj45n\n",
      "  author followers_count: 50\n",
      "  author follows_count: 60\n",
      "  author posts_count: 355\n",
      "  author avatar: imaginary_user_profile.jpg\n",
      "  author banner: imaginary_user_banner.jpg\n",
      "  author description: I am an imaginary user!\n",
      "  author profile url: https://bsky.app/profile/5kj45nkj4n6kj45n\n",
      "\n",
      "\n"
     ]
    }
   ],
   "source": [
    "# go through each post and look up author information for that post\n",
    "for post_info in post_info_list:\n",
    "    print(\"Info for post with url: \" + str(getWebLinkFromPost(post_info.post)))\n",
    "\n",
    "    # look up additional information about that author\n",
    "    author_did = post_info.post.author.did\n",
    "    author_info = client.app.bsky.actor.get_profile({'actor': author_did})\n",
    "\n",
    "    # print out various pieces of author info\n",
    "    print(\"  author handle: \" + str(author_info.handle))\n",
    "    print(\"  author display name: \" + str(author_info.display_name))\n",
    "    print(\"  author creation date: \" + str(author_info.created_at))\n",
    "    print(\"  author did: \" + str(author_info.did))\n",
    "    print(\"  author followers_count: \" + str(author_info.followers_count))\n",
    "    print(\"  author follows_count: \" + str(author_info.follows_count))\n",
    "    print(\"  author posts_count: \" + str(author_info.posts_count))\n",
    "    print(\"  author avatar: \" + str(author_info.avatar))\n",
    "    print(\"  author banner: \" + str(author_info.banner))\n",
    "    print(\"  author description: \" + str(author_info.description))\n",
    "    print(\"  author profile url: \" + getWebLinkFromProfile(author_info))\n",
    "    \n",
    "    print()\n",
    "    print()"
   ]
  },
  {
   "cell_type": "code",
   "execution_count": null,
   "id": "2f30b8e6-f4e1-4215-ab74-cd0ac4fcdcf9",
   "metadata": {},
   "outputs": [],
   "source": []
  }
 ],
 "metadata": {
  "kernelspec": {
   "display_name": "Python 3 (ipykernel)",
   "language": "python",
   "name": "python3"
  },
  "language_info": {
   "codemirror_mode": {
    "name": "ipython",
    "version": 3
   },
   "file_extension": ".py",
   "mimetype": "text/x-python",
   "name": "python",
   "nbconvert_exporter": "python",
   "pygments_lexer": "ipython3",
   "version": "3.12.5"
  },
  "vscode": {
   "interpreter": {
    "hash": "369f2c481f4da34e4445cda3fffd2e751bd1c4d706f27375911949ba6bb62e1c"
   }
  }
 },
 "nbformat": 4,
 "nbformat_minor": 5
}
