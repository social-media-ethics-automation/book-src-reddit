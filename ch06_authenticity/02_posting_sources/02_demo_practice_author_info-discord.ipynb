{
 "cells": [
  {
   "cell_type": "markdown",
   "id": "67655e14-ea22-4ff1-9b83-2735028b6dd8",
   "metadata": {},
   "source": [
    "# Demo & Practice: Author Info"
   ]
  },
  {
   "cell_type": "markdown",
   "id": "03597819-8289-4aed-9d84-eb30d9dd717d",
   "metadata": {},
   "source": [
    "Though Discord probably collects the device/program sources of posts (like we saw from former President Trump), it unfortunately doesn't let us see them.\n",
    "\n",
    "Instead we will look at other information about the author of posts on Discord that can perhaps tell us something about their authenticity."
   ]
  },
  {
   "cell_type": "markdown",
   "id": "e2b8ec11-bcc5-4858-b65b-7421e32883a8",
   "metadata": {},
   "source": [
    "## Log into Discord\n",
    "These are our normal steps get discord loaded and logged in"
   ]
  },
  {
   "cell_type": "code",
   "execution_count": 1,
   "id": "ed4d794b-94dc-48bc-bd59-557d2251a135",
   "metadata": {
    "tags": []
   },
   "outputs": [],
   "source": [
    "# Load some code called \"discord\" that will help us work with Discord\n",
    "import discord\n",
    "\n",
    "# Load another library that helps the bot work in Jupyter Noteboook\n",
    "import nest_asyncio\n",
    "nest_asyncio.apply()"
   ]
  },
  {
   "cell_type": "markdown",
   "id": "ce054ad2-ca27-4a41-8720-8bd28b6714a1",
   "metadata": {},
   "source": [
    "(optional) make a fake Discord connection with the fake_discord library\n",
    "\n",
    "For testing purposes, we've added this line of code, which loads a fake version of Discord, so it wont actually connect to Discord. __If you want to try to actually connect to Discord, don't run this line of code.__"
   ]
  },
  {
   "cell_type": "code",
   "execution_count": 2,
   "id": "d055ee8d-4ec6-4ab2-8ee8-3c6784842fd5",
   "metadata": {},
   "outputs": [
    {
     "data": {
      "text/html": [
       "<strong style='color:darkred'>Fake discord is replacing the discord.py library. Fake discord doesn&#x27;t need real passwords, and prevents you from accessing real discord</strong>"
      ],
      "text/plain": [
       "<IPython.core.display.HTML object>"
      ]
     },
     "metadata": {},
     "output_type": "display_data"
    }
   ],
   "source": [
    "# (optional)\n",
    "%run ../../fake_apis/fake_discord.ipynb"
   ]
  },
  {
   "cell_type": "markdown",
   "id": "e5caed17-960d-4a53-9410-1fd5ef3932ae",
   "metadata": {},
   "source": [
    "## Load a set of Discord posts\n",
    "\n",
    "The code below finds a set of posts from a discord channel. Try loading from real channels with your bot by doing the following:\n",
    "- put in your special Discord token\n",
    "- skip the fake_discord step above\n",
    "- put in a different channel id (that your bot has access to\n"
   ]
  },
  {
   "cell_type": "code",
   "execution_count": 3,
   "id": "977aaa34-59da-4e73-aacb-fe031b6dc50f",
   "metadata": {
    "tags": []
   },
   "outputs": [
    {
     "data": {
      "text/html": [
       "<strong style='color:darkred'>Fake discord is pretending to set up a client connection</strong>"
      ],
      "text/plain": [
       "<IPython.core.display.HTML object>"
      ]
     },
     "metadata": {},
     "output_type": "display_data"
    },
    {
     "data": {
      "text/html": [
       "<strong style='color:darkred'>Fake discord bot is fake logging in and starting to run</strong>"
      ],
      "text/plain": [
       "<IPython.core.display.HTML object>"
      ]
     },
     "metadata": {},
     "output_type": "display_data"
    },
    {
     "data": {
      "text/html": [
       "<strong style='color:darkred'>Fake discord bot is shutting down</strong>"
      ],
      "text/plain": [
       "<IPython.core.display.HTML object>"
      ]
     },
     "metadata": {},
     "output_type": "display_data"
    }
   ],
   "source": [
    "# Set up your Discord connection\n",
    "# TODO: put the discord token for your bot below\n",
    "discord_token = \"m#5@_fake_discord_token_$%Ds\"\n",
    "\n",
    "client = discord.Client(intents=discord.Intents.default())\n",
    "\n",
    "# TODO: put the discord channel id number below for the channel you want to use\n",
    "channel_id = 123456789\n",
    "\n",
    "# Provide instructions for what your discord bot should do once it has logged in\n",
    "@client.event\n",
    "async def on_ready():\n",
    "    global recent_posts # Save the recent_posts variable outside our running bot\n",
    "    \n",
    "    # Load the discord channel you want to post to\n",
    "    channel = client.get_channel(channel_id)\n",
    "\n",
    "    # Get the latest post in the channel history\n",
    "    post_history = channel.history(limit=10)\n",
    "    \n",
    "    #special code to turn the post_history from discord into a python list\n",
    "    recent_posts = [post async for post in post_history]\n",
    "\n",
    "    # Tell your bot to stop running\n",
    "    await client.close()\n",
    "    \n",
    "# Now that we've defined how the bot should work, start running your bot\n",
    "client.run(discord_token)"
   ]
  },
  {
   "cell_type": "markdown",
   "id": "bfadf5c9-596b-41f8-b869-630f8aecd146",
   "metadata": {},
   "source": [
    "## Display author information for posts\n",
    "The code below loads posts from discord, and then does a loop though all the posts, printing out the information about the authors of the submissions, such as:\n",
    "- The creation date for the account\n",
    "- the author's avatar\n",
    "- if the author is labeled as a bot\n",
    "- other \"public flags\" about the other (e.g., if it's been labelled as a \"spammer\")"
   ]
  },
  {
   "cell_type": "code",
   "execution_count": 4,
   "id": "8690b264-2cbd-4dcb-9f75-a8a238c5da16",
   "metadata": {},
   "outputs": [
    {
     "name": "stdout",
     "output_type": "stream",
     "text": [
      "Info for post with content: Breaking news: A lovely cat took a nice long nap today!\n",
      "  author display name: fake_user\n",
      "  author id: 4564563\n",
      "  author created: 2023-07-25 01:23:04\n",
      "  author avatar: fake_image.jpg\n",
      "  author is a bot?: False\n",
      "  author public flags: {'verified_bot': False, 'spammer': False}\n",
      "\n",
      "Info for post with content: Breaking news: Someone said a really mean thing on the internet today!\n",
      "  author display name: pretend_user\n",
      "  author id: 986545\n",
      "  author created: 2023-09-25 01:23:04\n",
      "  author avatar: pretent_image.jpg\n",
      "  author is a bot?: True\n",
      "  author public flags: {'verified_bot': True, 'spammer': False}\n",
      "\n",
      "Info for post with content: Breaking news: Some grandparents made some yummy cookies for all the kids to share!\n",
      "  author display name: imaginary_user\n",
      "  author id: 2358658\n",
      "  author created: 2023-10-25 01:23:04\n",
      "  author avatar: imaginary_image.jpg\n",
      "  author is a bot?: False\n",
      "  author public flags: {'verified_bot': False, 'spammer': True}\n",
      "\n",
      "Info for post with content: Breaking news: All the horrors of the universe revealed at last!\n",
      "  author display name: not_real_user\n",
      "  author id: 73458345\n",
      "  author created: 2023-12-25 01:23:04\n",
      "  author avatar: not_real_image.jpg\n",
      "  author is a bot?: False\n",
      "  author public flags: {'verified_bot': False, 'spammer': False}\n",
      "\n"
     ]
    }
   ],
   "source": [
    "for post in recent_posts:\n",
    "    print(\"Info for post with content: \" + str(post.content))\n",
    "    print(\"  author display name: \" + str(post.author.display_name))\n",
    "    print(\"  author id: \" + str(post.author.id))\n",
    "    print(\"  author created: \" + str(post.author.created_at))\n",
    "    print(\"  author avatar: \" + str(post.author.avatar))\n",
    "    print(\"  author is a bot?: \" + str(post.author.bot))\n",
    "    print(\"  author public flags: \" + str(dict(iter(post.author.public_flags))))\n",
    "    print()\n"
   ]
  },
  {
   "cell_type": "code",
   "execution_count": null,
   "id": "c80dcf49-7080-4406-a613-5970e4662c92",
   "metadata": {},
   "outputs": [],
   "source": []
  }
 ],
 "metadata": {
  "kernelspec": {
   "display_name": "Python 3 (ipykernel)",
   "language": "python",
   "name": "python3"
  },
  "language_info": {
   "codemirror_mode": {
    "name": "ipython",
    "version": 3
   },
   "file_extension": ".py",
   "mimetype": "text/x-python",
   "name": "python",
   "nbconvert_exporter": "python",
   "pygments_lexer": "ipython3",
   "version": "3.12.5"
  },
  "vscode": {
   "interpreter": {
    "hash": "369f2c481f4da34e4445cda3fffd2e751bd1c4d706f27375911949ba6bb62e1c"
   }
  }
 },
 "nbformat": 4,
 "nbformat_minor": 5
}
