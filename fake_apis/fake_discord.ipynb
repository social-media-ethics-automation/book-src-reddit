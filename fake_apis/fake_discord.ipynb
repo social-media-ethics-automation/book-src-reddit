{
 "cells": [
  {
   "cell_type": "markdown",
   "id": "f0119a40-b1ad-4814-bfc4-3614e853d800",
   "metadata": {},
   "source": [
    "# Fake Discord Library\n",
    "This library is intended to mimic praw so that the book demoes can be run without actually needing reddit credentials, and not actually posting to reddit"
   ]
  },
  {
   "cell_type": "code",
   "execution_count": null,
   "id": "991fa352-096f-4ff2-bfce-9c5b877c578b",
   "metadata": {},
   "outputs": [],
   "source": [
    "from types import SimpleNamespace\n",
    "\n",
    "class SimplishNamespace(SimpleNamespace):\n",
    "    pass\n",
    "\n",
    "setattr(SimplishNamespace, \"__getitem__\", lambda self, key: self.__dict__[key])\n",
    "\n",
    "from IPython.display import HTML, Image, display\n",
    "import html\n",
    "\n",
    "import datetime\n",
    "\n"
   ]
  },
  {
   "cell_type": "code",
   "execution_count": null,
   "id": "226340d8-a1f7-4689-a6c2-f4f55885585c",
   "metadata": {},
   "outputs": [],
   "source": [
    "def print_info(text):\n",
    "    display(\n",
    "        HTML(\n",
    "            \"<strong style='color:darkred'>\" + \n",
    "            html.escape(text) + \n",
    "            \"</strong>\"\n",
    "        )\n",
    "    )"
   ]
  },
  {
   "cell_type": "code",
   "execution_count": null,
   "id": "4502fca7-62ab-4ac0-9215-ec4808017a97",
   "metadata": {},
   "outputs": [],
   "source": [
    "print_info(\"Fake discord is replacing the discord.py library. Fake discord doesn't need real passwords, and prevents you from accessing real discord\")"
   ]
  },
  {
   "cell_type": "code",
   "execution_count": null,
   "id": "d0ce4d63",
   "metadata": {},
   "outputs": [],
   "source": [
    "async def on_ready():\n",
    "    pass"
   ]
  },
  {
   "cell_type": "code",
   "execution_count": null,
   "id": "234227c4-683a-4475-96a8-569f3d235e38",
   "metadata": {},
   "outputs": [],
   "source": [
    "class FakeReaction(SimpleNamespace):\n",
    "    \n",
    "    pass"
   ]
  },
  {
   "cell_type": "code",
   "execution_count": null,
   "id": "3cdc4334-e7dd-4844-a36a-77167462ffa3",
   "metadata": {},
   "outputs": [],
   "source": [
    "class FakeMessage(SimpleNamespace):\n",
    "    \n",
    "    pass"
   ]
  },
  {
   "cell_type": "code",
   "execution_count": null,
   "id": "02b43bea-230f-42f1-8047-65ff08401785",
   "metadata": {},
   "outputs": [],
   "source": [
    "class FakeAuthor(SimplishNamespace):\n",
    "    \n",
    "    pass"
   ]
  },
  {
   "cell_type": "code",
   "execution_count": null,
   "id": "70046b98-91f7-499c-8d10-4a8d9d4fb2b1",
   "metadata": {},
   "outputs": [],
   "source": [
    "async def async_history_gen(history_list):\n",
    "    for a in history_list:\n",
    "        yield a"
   ]
  },
  {
   "cell_type": "code",
   "execution_count": null,
   "id": "0c7c9241",
   "metadata": {},
   "outputs": [],
   "source": [
    "class FakeDiscordChannel:\n",
    "    async def send(self, message):\n",
    "        print_info(\"Fake Discord is pretending to post:\" )\n",
    "        print(message)\n",
    "        print()\n",
    "\n",
    "    def history(self, limit = 10):\n",
    "        if(limit == 1):\n",
    "            return async_history_gen([\n",
    "                FakeMessage(\n",
    "                    content= \"Scientists have cloned dangerous dinosaurs!\",\n",
    "                    id= 12345,\n",
    "                    author = FakeAuthor(\n",
    "                        display_name = \"fake_user\",\n",
    "                        id = 4589435\n",
    "                    ),\n",
    "                    created_at = datetime.datetime(2024, 7, 25, 1, 23, 4, 0),\n",
    "                    reactions = [\n",
    "                        FakeReaction(\n",
    "                            emoji='👍', \n",
    "                            me=False,\n",
    "                            count=2\n",
    "                        ),\n",
    "                        FakeReaction(\n",
    "                            emoji='🥳',\n",
    "                            me=True,\n",
    "                            count=1\n",
    "                        )\n",
    "                    ],\n",
    "                    pinned = False\n",
    "                )\n",
    "            ])\n",
    "        else:\n",
    "            return async_history_gen([\n",
    "                FakeMessage(\n",
    "                    content= \"Breaking news: A lovely cat took a nice long nap today!\",\n",
    "                    id= 984353,\n",
    "                    author = FakeAuthor(\n",
    "                        display_name = \"fake_user\",\n",
    "                        id = 4564563\n",
    "                    ),\n",
    "                    created_at = datetime.datetime(2024, 7, 25, 1, 23, 4, 0),\n",
    "                    reactions = [\n",
    "                        FakeReaction(\n",
    "                            emoji='👍', \n",
    "                            me=False,\n",
    "                            count=2\n",
    "                        ),\n",
    "                        FakeReaction(\n",
    "                            emoji='🥳',\n",
    "                            me=True,\n",
    "                            count=1\n",
    "                        )\n",
    "                    ],\n",
    "                    pinned = False\n",
    "                ),\n",
    "                FakeMessage(\n",
    "                    content= \"Breaking news: Someone said a really mean thing on the internet today!\",\n",
    "                    id= 7643,\n",
    "                    author = FakeAuthor(\n",
    "                        display_name = \"pretend_user\",\n",
    "                        id = 986545\n",
    "                    ),\n",
    "                    created_at = datetime.datetime(2024, 7, 20, 5, 20, 4, 0),\n",
    "                    reactions = [\n",
    "                        FakeReaction(\n",
    "                            emoji='😠', \n",
    "                            me=True,\n",
    "                            count=8\n",
    "                        )\n",
    "                    ],\n",
    "                    pinned = False\n",
    "                ),\n",
    "                FakeMessage(\n",
    "                    content= \"Breaking news: Some grandparents made some yummy cookies for all the kids to share!\",\n",
    "                    id= 4534,\n",
    "                    author = FakeAuthor(\n",
    "                        display_name = \"imaginary_user\",\n",
    "                        id = 2358658\n",
    "                    ),\n",
    "                    created_at = datetime.datetime(2024, 7, 19, 7, 0, 1, 0),\n",
    "                    reactions = [\n",
    "                        FakeReaction(\n",
    "                            emoji='👍', \n",
    "                            me=False,\n",
    "                            count=2\n",
    "                        ),\n",
    "                        FakeReaction(\n",
    "                            emoji='🍪',\n",
    "                            me=True,\n",
    "                            count=3\n",
    "                        )\n",
    "                    ],\n",
    "                    pinned = False\n",
    "                ),\n",
    "                FakeMessage(\n",
    "                    content= \"Breaking news: All the horrors of the universe revealed at last!\",\n",
    "                    id= 35588,\n",
    "                    author = FakeAuthor(\n",
    "                        display_name = \"not_real_user\",\n",
    "                        id = 73458345\n",
    "                    ),\n",
    "                    created_at = datetime.datetime(2024, 7, 1, 7, 0, 1, 0),\n",
    "                    reactions = [],\n",
    "                    pinned = False\n",
    "                ),\n",
    "            ])\n",
    "\n",
    "        \n",
    "\n",
    "def get_channel(channel_id):\n",
    "    return FakeDiscordChannel();"
   ]
  },
  {
   "cell_type": "markdown",
   "id": "06052ad3",
   "metadata": {},
   "source": []
  },
  {
   "cell_type": "code",
   "execution_count": null,
   "id": "6fb61039-1a20-4ebb-a23e-6b6490803a78",
   "metadata": {},
   "outputs": [],
   "source": [
    "import asyncio\n",
    "loop = asyncio.get_event_loop()\n",
    "import nest_asyncio\n",
    "nest_asyncio.apply()\n",
    "\n",
    "# TODO Create a client class instead of SimpleNamespace\n",
    "class FakeDiscordClient:\n",
    "\n",
    "\n",
    "    def __init__(self, intents=\"\"):\n",
    "      intents = intents\n",
    "      self._event =  SimpleNamespace(\n",
    "         on_ready = on_ready\n",
    "      )\n",
    "\n",
    "    def event(self, set_function):\n",
    "       if(callable(set_function)):\n",
    "          self._event.on_ready = set_function\n",
    "\n",
    "    def get_channel(self, channel_id):\n",
    "       return FakeDiscordChannel();\n",
    "\n",
    "    async def close(self):\n",
    "       print_info(\"Fake discord bot is shutting down\")\n",
    "\n",
    "\n",
    "    def run(self, token):\n",
    "       print_info(\"Fake discord bot is fake logging in and starting to run\")\n",
    "       #test = await self._event.on_ready()\n",
    "       asyncio.run(self._event.on_ready())\n",
    "    \n",
    "\n",
    "def client_creator(intents=\"\"):\n",
    "    print_info(\"Fake discord is pretending to set up a client connection\")\n",
    "    return FakeDiscordClient(intents = intents)"
   ]
  },
  {
   "cell_type": "code",
   "execution_count": null,
   "id": "d55561c8-26ff-4ef9-9397-f24b99385187",
   "metadata": {},
   "outputs": [],
   "source": [
    "discord = SimpleNamespace(\n",
    "    Client = client_creator,\n",
    "    Intents = SimpleNamespace(\n",
    "        default = lambda: 1\n",
    "    )\n",
    ")"
   ]
  }
 ],
 "metadata": {
  "kernelspec": {
   "display_name": "Python 3 (ipykernel)",
   "language": "python",
   "name": "python3"
  },
  "language_info": {
   "codemirror_mode": {
    "name": "ipython",
    "version": 3
   },
   "file_extension": ".py",
   "mimetype": "text/x-python",
   "name": "python",
   "nbconvert_exporter": "python",
   "pygments_lexer": "ipython3",
   "version": "3.10.4"
  },
  "vscode": {
   "interpreter": {
    "hash": "369f2c481f4da34e4445cda3fffd2e751bd1c4d706f27375911949ba6bb62e1c"
   }
  }
 },
 "nbformat": 4,
 "nbformat_minor": 5
}
