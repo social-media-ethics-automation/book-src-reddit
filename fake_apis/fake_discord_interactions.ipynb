{
 "cells": [
  {
   "cell_type": "markdown",
   "id": "f0119a40-b1ad-4814-bfc4-3614e853d800",
   "metadata": {},
   "source": [
    "# Fake Discord Library\n",
    "This library is intended to mimic praw so that the book demoes can be run without actually needing reddit credentials, and not actually posting to reddit"
   ]
  },
  {
   "cell_type": "code",
   "execution_count": null,
   "id": "991fa352-096f-4ff2-bfce-9c5b877c578b",
   "metadata": {},
   "outputs": [],
   "source": [
    "from types import SimpleNamespace\n",
    "\n",
    "class SimplishNamespace(SimpleNamespace):\n",
    "    pass\n",
    "\n",
    "setattr(SimplishNamespace, \"__getitem__\", lambda self, key: self.__dict__[key])\n",
    "\n",
    "from IPython.display import HTML, Image, display\n",
    "import html\n",
    "\n",
    "import datetime\n",
    "\n"
   ]
  },
  {
   "cell_type": "code",
   "execution_count": null,
   "id": "226340d8-a1f7-4689-a6c2-f4f55885585c",
   "metadata": {},
   "outputs": [],
   "source": [
    "def print_info(text, left_margin=0):\n",
    "    display(\n",
    "        HTML(\n",
    "            \"<strong style='color:darkred;margin-left:\"+str(left_margin)+\"px'>\" + \n",
    "            html.escape(text) + \n",
    "            \"</strong>\"\n",
    "        )\n",
    "    )"
   ]
  },
  {
   "cell_type": "code",
   "execution_count": null,
   "id": "4502fca7-62ab-4ac0-9215-ec4808017a97",
   "metadata": {},
   "outputs": [],
   "source": [
    "print_info(\"Fake interactions discord is replacing the interactions.py library. Fake discord doesn't need real passwords, and prevents you from accessing real discord\")"
   ]
  },
  {
   "cell_type": "code",
   "execution_count": null,
   "id": "3b9595ff-218b-47c1-a5ff-92473291fca9",
   "metadata": {},
   "outputs": [],
   "source": [
    "async def listen_on_ready():\n",
    "    print(\"default onready\")\n",
    "    pass\n",
    "\n",
    "class FakeOptionType(SimpleNamespace):\n",
    "    pass\n",
    "\n",
    "ActualFakeOptionType = FakeOptionType(\n",
    "        STRING = 1,\n",
    "        INT = 2)\n",
    "\n",
    "def fake_listen_builder():\n",
    "    global listen_on_ready\n",
    "    def fake_listen(listen_fun):\n",
    "        global listen_on_ready\n",
    "        if(listen_fun.__name__ == \"on_ready\"):\n",
    "            listen_on_ready = listen_fun\n",
    "\n",
    "        return lambda: None\n",
    "    return fake_listen\n",
    "\n",
    "\n",
    "actions = {}\n",
    "\n",
    "def fake_slash_command_decorator_builder(name, description, scopes = []):\n",
    "    def fake_slash_command_decorator(slash_command_fn):\n",
    "        \n",
    "        options = []\n",
    "        if hasattr(slash_command_fn,  \"slash_options\"):\n",
    "            options = slash_command_fn.slash_options\n",
    "        \n",
    "        actions[name] = {\n",
    "            \"fn\": slash_command_fn,\n",
    "            \"options\": options\n",
    "        }\n",
    "        \n",
    "        print_info(\"fake discord interactions setting a slash command called: '\" +name + \"'.  With options: \" + \",\".join([option[\"name\"] for option in options]))\n",
    "\n",
    "        return lambda: None\n",
    "    return fake_slash_command_decorator\n",
    "\n",
    "\n",
    "\n",
    "def fake_slash_option_decorator_builder(name, description, required=False, opt_type=ActualFakeOptionType.INT):\n",
    "    def fake_slash_option_decorator(slash_command_fn):\n",
    "        # Add slash_options field to function and return it\n",
    "        if not hasattr(slash_command_fn, \"slash_options\"):\n",
    "            slash_command_fn.slash_options = []\n",
    "        \n",
    "        slash_command_fn.slash_options.append({\n",
    "            \"name\": name,\n",
    "            \"description\": description,\n",
    "            \"required\": required,\n",
    "            \"opt_type\": opt_type\n",
    "        })\n",
    "        return slash_command_fn\n",
    "        \n",
    "    return fake_slash_option_decorator\n",
    "        \n",
    "\n",
    "class FakeSlashContext:\n",
    "    async def send(self, message):\n",
    "        print_info(\"Bot is posting: \")\n",
    "        print_info(message, 20)\n",
    "        print_info(\"\")\n",
    "    "
   ]
  },
  {
   "cell_type": "code",
   "execution_count": null,
   "id": "51d7584f-c1e7-4e37-a3f2-060b0b5854ee",
   "metadata": {},
   "outputs": [],
   "source": [
    "reply_counter = 0\n",
    "\n",
    "replies = [\n",
    "    \"jump\",\n",
    "    \"do something horrible!\",\n",
    "    \"fly\",\n",
    "    \"do something horrible!\",\n",
    "    \"stop talking. But that doesn't mean I won't say horrible things like: I hate everybody!\"\n",
    "]"
   ]
  },
  {
   "cell_type": "code",
   "execution_count": null,
   "id": "6fb61039-1a20-4ebb-a23e-6b6490803a78",
   "metadata": {},
   "outputs": [],
   "source": [
    "import asyncio\n",
    "loop = asyncio.get_event_loop()\n",
    "import nest_asyncio\n",
    "nest_asyncio.apply()\n",
    "\n",
    "# TODO Create a client class instead of SimpleNamespace\n",
    "class FakeDiscordInteractionsClient:\n",
    "    global reply_counter\n",
    "    global replies\n",
    "\n",
    "\n",
    "    def stop(self):\n",
    "        print_info(\"Fake discord bot is stopping\")\n",
    "\n",
    "\n",
    "    def start(self):\n",
    "        global reply_counter\n",
    "    \n",
    "        print_info(\"Fake discord bot is fake logging in and starting to run\")\n",
    "        asyncio.run(listen_on_ready())\n",
    "\n",
    "        if \"do_action\" in actions:\n",
    "            asyncio.run(actions[\"do_action\"][\"fn\"](FakeSlashContext(), replies[reply_counter]))\n",
    "            reply_counter += 1\n",
    "\n",
    "        #test = await self._event.on_ready()\n",
    "    \n",
    "\n",
    "def client_creator(token=\"\"):\n",
    "    print_info(\"Fake interactions.py is pretending to set up a Discord client connection\")\n",
    "    return FakeDiscordInteractionsClient()"
   ]
  },
  {
   "cell_type": "code",
   "execution_count": null,
   "id": "d55561c8-26ff-4ef9-9397-f24b99385187",
   "metadata": {},
   "outputs": [],
   "source": [
    "interactions = SimpleNamespace(\n",
    "    Client = client_creator,\n",
    "    listen = fake_listen_builder,\n",
    "    slash_command = fake_slash_command_decorator_builder,\n",
    "    slash_option = fake_slash_option_decorator_builder,\n",
    "    OptionType = ActualFakeOptionType,\n",
    "    SlashContext = FakeSlashContext\n",
    "    \n",
    "    \n",
    ")"
   ]
  },
  {
   "cell_type": "code",
   "execution_count": null,
   "id": "5f330b66-7ffd-46b5-acc1-4cb0298a568d",
   "metadata": {},
   "outputs": [],
   "source": []
  }
 ],
 "metadata": {
  "kernelspec": {
   "display_name": "Python 3 (ipykernel)",
   "language": "python",
   "name": "python3"
  },
  "language_info": {
   "codemirror_mode": {
    "name": "ipython",
    "version": 3
   },
   "file_extension": ".py",
   "mimetype": "text/x-python",
   "name": "python",
   "nbconvert_exporter": "python",
   "pygments_lexer": "ipython3",
   "version": "3.12.5"
  },
  "vscode": {
   "interpreter": {
    "hash": "369f2c481f4da34e4445cda3fffd2e751bd1c4d706f27375911949ba6bb62e1c"
   }
  }
 },
 "nbformat": 4,
 "nbformat_minor": 5
}
