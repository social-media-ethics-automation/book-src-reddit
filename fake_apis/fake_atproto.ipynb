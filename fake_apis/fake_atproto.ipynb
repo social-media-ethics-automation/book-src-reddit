{
 "cells": [
  {
   "cell_type": "markdown",
   "id": "f0119a40-b1ad-4814-bfc4-3614e853d800",
   "metadata": {},
   "source": [
    "# Fake ATProto (bsky.app) Library\n",
    "This library is intended to mimic atproto so that the book demoes can be run without actually needing reddit credentials, and not actually posting to bsky"
   ]
  },
  {
   "cell_type": "code",
   "execution_count": 1,
   "id": "991fa352-096f-4ff2-bfce-9c5b877c578b",
   "metadata": {},
   "outputs": [],
   "source": [
    "from types import SimpleNamespace\n",
    "\n",
    "class SimplishNamespace(SimpleNamespace):\n",
    "    pass\n",
    "\n",
    "setattr(SimplishNamespace, \"__getitem__\", lambda self, key: self.__dict__[key])\n",
    "\n",
    "from IPython.display import HTML, Image, display\n",
    "import html\n",
    "\n",
    "import datetime\n",
    "\n"
   ]
  },
  {
   "cell_type": "code",
   "execution_count": 2,
   "id": "226340d8-a1f7-4689-a6c2-f4f55885585c",
   "metadata": {},
   "outputs": [],
   "source": [
    "def print_info(text):\n",
    "    display(\n",
    "        HTML(\n",
    "            \"<strong style='color:darkred'>\" + \n",
    "            html.escape(text) + \n",
    "            \"</strong>\"\n",
    "        )\n",
    "    )"
   ]
  },
  {
   "cell_type": "code",
   "execution_count": 9,
   "id": "4502fca7-62ab-4ac0-9215-ec4808017a97",
   "metadata": {},
   "outputs": [
    {
     "data": {
      "text/html": [
       "<strong style='color:darkred'>Fake atproto (bsky.app) is replacing the atproto.blue library. Fake atproto doesn&#x27;t need real passwords, and prevents you from accessing real Bluesky</strong>"
      ],
      "text/plain": [
       "<IPython.core.display.HTML object>"
      ]
     },
     "metadata": {},
     "output_type": "display_data"
    }
   ],
   "source": [
    "print_info(\"Fake atproto (bsky.app) is replacing the atproto.blue library. Fake atproto doesn't need real passwords, and prevents you from accessing real Bluesky\")"
   ]
  },
  {
   "cell_type": "code",
   "execution_count": 7,
   "id": "6fb61039-1a20-4ebb-a23e-6b6490803a78",
   "metadata": {},
   "outputs": [],
   "source": [
    "\n",
    "class FakeATProtoClient:\n",
    "\n",
    "    def login(self, login, password):\n",
    "        print_info(\"Fake atproto is pretending log into your account:\" + str(login))\n",
    "        \n",
    "    def send_post(self, text):\n",
    "        print_info(\"Fake atproto is pretending to post:\" )\n",
    "        print(text)\n",
    "        print()\n",
    "        \n",
    "    \n",
    "\n",
    "def client_creator(base_url=\"\"):\n",
    "    print_info(\"Fake atproto is pretending to set up a client connection to:\" + base_url)\n",
    "    return FakeATProtoClient()"
   ]
  },
  {
   "cell_type": "code",
   "execution_count": 8,
   "id": "d55561c8-26ff-4ef9-9397-f24b99385187",
   "metadata": {},
   "outputs": [],
   "source": [
    "atproto = SimpleNamespace(\n",
    "    Client = client_creator\n",
    ")"
   ]
  },
  {
   "cell_type": "code",
   "execution_count": null,
   "id": "c6b0c942-73b3-4ec8-aba9-6bf22c756902",
   "metadata": {},
   "outputs": [],
   "source": [
    "# NOTE: Since we assume we are replacing `from atproto import Client`\n",
    "# we need to save the Client variable\n",
    "Client = atproto.Client"
   ]
  }
 ],
 "metadata": {
  "kernelspec": {
   "display_name": "Python 3 (ipykernel)",
   "language": "python",
   "name": "python3"
  },
  "language_info": {
   "codemirror_mode": {
    "name": "ipython",
    "version": 3
   },
   "file_extension": ".py",
   "mimetype": "text/x-python",
   "name": "python",
   "nbconvert_exporter": "python",
   "pygments_lexer": "ipython3",
   "version": "3.10.4"
  },
  "vscode": {
   "interpreter": {
    "hash": "369f2c481f4da34e4445cda3fffd2e751bd1c4d706f27375911949ba6bb62e1c"
   }
  }
 },
 "nbformat": 4,
 "nbformat_minor": 5
}
