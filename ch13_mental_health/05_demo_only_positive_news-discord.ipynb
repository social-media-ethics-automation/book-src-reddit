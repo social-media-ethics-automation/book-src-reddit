{
 "cells": [
  {
   "cell_type": "markdown",
   "id": "f2446309-25e4-4582-a537-b8292885dcad",
   "metadata": {},
   "source": [
    "# Demo: Only positive posts"
   ]
  },
  {
   "cell_type": "markdown",
   "id": "a2ec8fb0",
   "metadata": {},
   "source": [
    "\n",
    "Let's look at something we could try to do to improve the mental health for our users: Only show positive posts!\n",
    "\n",
    "We'll use sentiment analysis again, but this time we'll only display the tweets with a positive sentiment.\n",
    "\n",
    "Would this actually improve someone's mental health? It's hard to say! But we can see something that we might try out if we wanted to improve mental health of our users."
   ]
  },
  {
   "cell_type": "markdown",
   "id": "ae27cd44-3897-4154-b7a1-a5a807bf92c7",
   "metadata": {},
   "source": [
    "## Discord Setup"
   ]
  },
  {
   "cell_type": "code",
   "execution_count": 11,
   "id": "0d45a981-86cd-41f0-bc0a-066afdc985b4",
   "metadata": {
    "tags": []
   },
   "outputs": [],
   "source": [
    "# Load some code called \"discord\" that will help us work with Discord\n",
    "import discord\n",
    "\n",
    "# Load another library that helps the bot work in Jupyter Noteboook\n",
    "import nest_asyncio\n",
    "nest_asyncio.apply()"
   ]
  },
  {
   "cell_type": "markdown",
   "id": "c699f603-a604-43b9-af9e-27e3ca60f542",
   "metadata": {},
   "source": [
    "(optional) make a fake Discord connection with the fake_discord library\n",
    "\n",
    "For testing purposes, we've added this line of code, which loads a fake version of discord, so it wont actually connect to Discord. __If you want to try to actually connect to Discord, don't run this line of code.__"
   ]
  },
  {
   "cell_type": "code",
   "execution_count": 12,
   "id": "24a8ae3d-bc92-4628-b348-75d1ffcf1bfe",
   "metadata": {},
   "outputs": [
    {
     "data": {
      "text/html": [
       "<strong style='color:darkred'>Fake discord is replacing the discord.py library. Fake discord doesn&#x27;t need real passwords, and prevents you from accessing real discord</strong>"
      ],
      "text/plain": [
       "<IPython.core.display.HTML object>"
      ]
     },
     "metadata": {},
     "output_type": "display_data"
    }
   ],
   "source": [
    "%run ../fake_apis/fake_discord.ipynb"
   ]
  },
  {
   "cell_type": "code",
   "execution_count": 13,
   "id": "72567e4d-e517-43f1-a949-49fb29120ddf",
   "metadata": {},
   "outputs": [],
   "source": [
    "# Set up your Discord connection\n",
    "# TODO: put the discord token for your bot below\n",
    "discord_token = \"m#5@_fake_discord_token_$%Ds\"\n",
    "\n",
    "# set up Discord client with permissions to read message_contents\n",
    "intents = discord.Intents.default()\n",
    "intents.message_content = True "
   ]
  },
  {
   "cell_type": "markdown",
   "id": "c46fd9fd-d9d4-4966-9b3b-9c4cfd5ac6b3",
   "metadata": {},
   "source": [
    "## Load sentiment analyis code"
   ]
  },
  {
   "cell_type": "code",
   "execution_count": 14,
   "id": "97cdf7e8-73a9-4b9f-867c-2914e1b6f85f",
   "metadata": {},
   "outputs": [
    {
     "name": "stderr",
     "output_type": "stream",
     "text": [
      "[nltk_data] Downloading package vader_lexicon to\n",
      "[nltk_data]     C:\\Users\\kmthayer\\AppData\\Roaming\\nltk_data...\n",
      "[nltk_data]   Package vader_lexicon is already up-to-date!\n"
     ]
    }
   ],
   "source": [
    "import nltk\n",
    "nltk.download([\"vader_lexicon\"])\n",
    "from nltk.sentiment import SentimentIntensityAnalyzer\n",
    "sia = SentimentIntensityAnalyzer()"
   ]
  },
  {
   "cell_type": "markdown",
   "id": "544f922d-0b24-4923-b635-c5de0fb39da1",
   "metadata": {},
   "source": [
    "## Load posts from a discord channel\n",
    "We'll load a set of posts from a discord channel (if you are doing this on real discord, you'll have to put the correct `channel_id` in the code). Hopefully the posts will have some images."
   ]
  },
  {
   "cell_type": "markdown",
   "id": "b3fddfde-9ac2-4f9f-9f5b-adeea1d61a35",
   "metadata": {},
   "source": [
    "## TODO:\n",
    "- Load history of channel\n",
    "- go through all messages and reconstruct reply tree (not in reply means root message, otherwise put in tree)"
   ]
  },
  {
   "cell_type": "code",
   "execution_count": 15,
   "id": "7232d9db-74c3-44c6-a835-6d541fca3e0e",
   "metadata": {},
   "outputs": [
    {
     "data": {
      "text/html": [
       "<strong style='color:darkred'>Fake discord is pretending to set up a client connection</strong>"
      ],
      "text/plain": [
       "<IPython.core.display.HTML object>"
      ]
     },
     "metadata": {},
     "output_type": "display_data"
    },
    {
     "data": {
      "text/html": [
       "<strong style='color:darkred'>Fake discord bot is fake logging in and starting to run</strong>"
      ],
      "text/plain": [
       "<IPython.core.display.HTML object>"
      ]
     },
     "metadata": {},
     "output_type": "display_data"
    },
    {
     "data": {
      "text/html": [
       "<strong style='color:darkred'>Fake discord bot is shutting down</strong>"
      ],
      "text/plain": [
       "<IPython.core.display.HTML object>"
      ]
     },
     "metadata": {},
     "output_type": "display_data"
    }
   ],
   "source": [
    "# set up discord connection\n",
    "client = discord.Client(intents=intents)\n",
    "\n",
    "# TODO: put the discord channel id number below for the channel you want to use\n",
    "channel_id = 123456789\n",
    "\n",
    "# Provide instructions for what your discord bot should do once it has logged in\n",
    "@client.event\n",
    "async def on_ready():\n",
    "    global recent_posts # Save the recent_posts variable outside our running bot\n",
    "    \n",
    "    # Load the discord channel you want to read from\n",
    "    channel = client.get_channel(channel_id)\n",
    "\n",
    "    # Get the latest post in the channel history\n",
    "    post_history = channel.history(limit=10)\n",
    "    \n",
    "    #special code to turn the post_history from discord into a python list\n",
    "    recent_posts = [post async for post in post_history]\n",
    "\n",
    "    # Tell your bot to stop running\n",
    "    await client.close()\n",
    "    \n",
    "# Now that we've defined how the bot shoould work, start running your bot\n",
    "client.run(discord_token)"
   ]
  },
  {
   "cell_type": "markdown",
   "id": "21e1b71b-b881-4227-82f4-76df85e47df0",
   "metadata": {},
   "source": [
    "## Loop through posts and only display good news\n",
    "Now we will make a modified version of the code that computed the sentiment of each post (in the Data Mining chapter) and only displays the posts with positive sentiment."
   ]
  },
  {
   "cell_type": "code",
   "execution_count": 16,
   "id": "a8297615-bb0f-4728-8ff1-c891336335a9",
   "metadata": {},
   "outputs": [
    {
     "name": "stdout",
     "output_type": "stream",
     "text": [
      "Breaking news: A lovely cat took a nice long nap today!\n",
      "\n",
      "Breaking news: Some grandparents made some yummy cookies for all the kids to share!\n",
      "\n"
     ]
    }
   ],
   "source": [
    "for post in recent_posts:\n",
    "    \n",
    "    #calculate sentiment\n",
    "    post_sentiment = sia.polarity_scores(post.content)[\"compound\"]\n",
    "\n",
    "    if(post_sentiment > 0):\n",
    "        print(post.content)\n",
    "        print()"
   ]
  },
  {
   "cell_type": "markdown",
   "id": "1e7fe660-e47f-4c2d-acf0-c14021c2807f",
   "metadata": {},
   "source": [
    "## Try it out on real Discord\n",
    "If you want, you can skip the fake_discord step and try it out on real Discord, from whatever channel you want\n",
    "\n",
    "Did it work like you expected?\n",
    "\n",
    "You can also only show negative sentiment submissions (sentiment < 0) if you want to see only negative posts."
   ]
  },
  {
   "cell_type": "code",
   "execution_count": null,
   "id": "b6ef7b75-2f0d-4fc1-b8c4-a64163bfdc28",
   "metadata": {},
   "outputs": [],
   "source": []
  }
 ],
 "metadata": {
  "kernelspec": {
   "display_name": "Python 3 (ipykernel)",
   "language": "python",
   "name": "python3"
  },
  "language_info": {
   "codemirror_mode": {
    "name": "ipython",
    "version": 3
   },
   "file_extension": ".py",
   "mimetype": "text/x-python",
   "name": "python",
   "nbconvert_exporter": "python",
   "pygments_lexer": "ipython3",
   "version": "3.10.4"
  }
 },
 "nbformat": 4,
 "nbformat_minor": 5
}
