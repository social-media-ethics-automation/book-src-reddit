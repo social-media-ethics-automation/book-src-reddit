{
 "cells": [
  {
   "cell_type": "markdown",
   "id": "91f1c8d8-e22a-4bd1-af48-da1c26575eeb",
   "metadata": {},
   "source": [
    "# Code Structure Self-Assessment"
   ]
  },
  {
   "cell_type": "markdown",
   "id": "615e3faa",
   "metadata": {},
   "source": [
    "In order to help you to review code structure concepts, see if you can answer these questions:"
   ]
  },
  {
   "cell_type": "code",
   "execution_count": null,
   "id": "0c5e76d0-f1f3-42b7-a903-10f8bcec98c3",
   "metadata": {
    "scrolled": true,
    "tags": [
     "remove-input"
    ]
   },
   "outputs": [],
   "source": [
    "from jupyterquiz import display_quiz;\n",
    "from IPython.utils import io\n",
    "\n",
    "# Note for some reason, I need to stop stdout from printing a weird blank line\n",
    "with io.capture_output(stdout=True, stderr=False, display=False) as captured:\n",
    "    display_quiz(\"04_code_structure_self_assessment.json\");"
   ]
  }
 ],
 "metadata": {
  "kernelspec": {
   "display_name": "Python 3 (ipykernel)",
   "language": "python",
   "name": "python3"
  },
  "language_info": {
   "codemirror_mode": {
    "name": "ipython",
    "version": 3
   },
   "file_extension": ".py",
   "mimetype": "text/x-python",
   "name": "python",
   "nbconvert_exporter": "python",
   "pygments_lexer": "ipython3",
   "version": "3.12.5"
  }
 },
 "nbformat": 4,
 "nbformat_minor": 5
}
