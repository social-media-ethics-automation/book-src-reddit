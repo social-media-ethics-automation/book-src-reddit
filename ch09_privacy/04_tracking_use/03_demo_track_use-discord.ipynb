{
 "cells": [
  {
   "cell_type": "markdown",
   "id": "a779ca3a-c174-4e88-93ac-2124c7ea049a",
   "metadata": {},
   "source": [
    "# Demo: Track Use of Sentiment Analysis Code"
   ]
  },
  {
   "cell_type": "markdown",
   "id": "53fcc746-a526-4430-bea5-78ded17d487e",
   "metadata": {},
   "source": [
    "In this code demo, we will take the sentiment analysis code we used in the last chapter (Data Mining), and we will turn it into a function which will make it easier to use.\n",
    "\n",
    "After turning it into a function though, we will add code to that function to track how it is used. We could theoretically take this information we are tracking and send to results to some other account.\n",
    "\n",
    "This sort of tracking can be part of tracking program [telemetry](https://en.wikipedia.org/wiki/Telemetry#Software), which can be useful in figure out where software is broken or where it is most or least useful. But it can also be violating the privacy of anyone using our funtion who doesn't know we are tracking its use, or used maliciously to steal user information."
   ]
  },
  {
   "cell_type": "markdown",
   "id": "7d500d2c-21ca-4a38-96de-703857a7d7e6",
   "metadata": {},
   "source": [
    "## Discord Setup"
   ]
  },
  {
   "cell_type": "code",
   "execution_count": 13,
   "id": "3d3b3c2d-3500-448a-a9f4-9d500977b792",
   "metadata": {},
   "outputs": [],
   "source": [
    "# Load some code called \"discord\" that will help us work with Discord\n",
    "import discord\n",
    "\n",
    "# Load another library that helps the bot work in Jupyter Noteboook\n",
    "import nest_asyncio\n",
    "nest_asyncio.apply()"
   ]
  },
  {
   "cell_type": "markdown",
   "id": "fcae7037-b587-4649-afec-4271d0fbca28",
   "metadata": {},
   "source": [
    "(optional) make a fake Discord connection with the fake_discord library"
   ]
  },
  {
   "cell_type": "code",
   "execution_count": 14,
   "id": "5360c90a-3a63-426d-ba79-d34bac9be03b",
   "metadata": {},
   "outputs": [
    {
     "data": {
      "text/html": [
       "<strong style='color:darkred'>Fake discord is replacing the discord.py library. Fake discord doesn&#x27;t need real passwords, and prevents you from accessing real discord</strong>"
      ],
      "text/plain": [
       "<IPython.core.display.HTML object>"
      ]
     },
     "metadata": {},
     "output_type": "display_data"
    }
   ],
   "source": [
    "%run ../../fake_apis/fake_discord.ipynb"
   ]
  },
  {
   "cell_type": "code",
   "execution_count": 15,
   "id": "4652addb-023c-45e5-bb0c-2d27cf3c8564",
   "metadata": {},
   "outputs": [],
   "source": [
    "# Set up your Discord connection\n",
    "# TODO: put the discord token for your bot below\n",
    "discord_token = \"m#5@_fake_discord_token_$%Ds\"\n",
    "\n",
    "# set up Discord client with permissions to read message_contents\n",
    "intents = discord.Intents.default()\n",
    "intents.message_content = True "
   ]
  },
  {
   "cell_type": "markdown",
   "id": "5e1b794a-b178-4b06-b992-7e88a466b55d",
   "metadata": {},
   "source": [
    "### load sentiment analysis library and make analyzer"
   ]
  },
  {
   "cell_type": "code",
   "execution_count": 16,
   "id": "9822d030-1db1-47c1-8276-763f66d07be5",
   "metadata": {},
   "outputs": [
    {
     "name": "stderr",
     "output_type": "stream",
     "text": [
      "[nltk_data] Downloading package vader_lexicon to\n",
      "[nltk_data]     C:\\Users\\kmthayer\\AppData\\Roaming\\nltk_data...\n",
      "[nltk_data]   Package vader_lexicon is already up-to-date!\n"
     ]
    }
   ],
   "source": [
    "import nltk\n",
    "nltk.download([\"vader_lexicon\"])\n",
    "from nltk.sentiment import SentimentIntensityAnalyzer\n",
    "sia = SentimentIntensityAnalyzer()"
   ]
  },
  {
   "cell_type": "markdown",
   "id": "0cb3be89-1f51-4ca6-804f-4ccd43ffa513",
   "metadata": {},
   "source": [
    "### original code to loop through submissions, finding average sentiment\n",
    "This is the code from chapter 8 that loops through submissions in the specified channel and calculates the average sentiment"
   ]
  },
  {
   "cell_type": "code",
   "execution_count": 17,
   "id": "7877be09-65a1-404e-9eb8-a332744d291b",
   "metadata": {},
   "outputs": [
    {
     "data": {
      "text/html": [
       "<strong style='color:darkred'>Fake discord is pretending to set up a client connection</strong>"
      ],
      "text/plain": [
       "<IPython.core.display.HTML object>"
      ]
     },
     "metadata": {},
     "output_type": "display_data"
    },
    {
     "data": {
      "text/html": [
       "<strong style='color:darkred'>Fake discord bot is fake logging in and starting to run</strong>"
      ],
      "text/plain": [
       "<IPython.core.display.HTML object>"
      ]
     },
     "metadata": {},
     "output_type": "display_data"
    },
    {
     "data": {
      "text/html": [
       "<strong style='color:darkred'>Fake discord bot is shutting down</strong>"
      ],
      "text/plain": [
       "<IPython.core.display.HTML object>"
      ]
     },
     "metadata": {},
     "output_type": "display_data"
    },
    {
     "name": "stdout",
     "output_type": "stream",
     "text": [
      "Sentiment: 0.784\n",
      "   post content: Breaking news: A lovely cat took a nice long nap today!\n",
      "\n",
      "Sentiment: 0.0\n",
      "   post content: Breaking news: Someone said a really mean thing on the internet today!\n",
      "\n",
      "Sentiment: 0.7088\n",
      "   post content: Breaking news: Some grandparents made some yummy cookies for all the kids to share!\n",
      "\n",
      "Sentiment: -0.6114\n",
      "   post content: Breaking news: All the horrors of the universe revealed at last!\n",
      "\n",
      "Average sentiment was 0.22034999999999996\n"
     ]
    }
   ],
   "source": [
    "# set up discord connection\n",
    "client = discord.Client(intents=intents)\n",
    "\n",
    "# TODO: put the discord channel id number below for the channel you want to use\n",
    "channel_id = 123456789\n",
    "\n",
    "# Provide instructions for what your discord bot should do once it has logged in\n",
    "@client.event\n",
    "async def on_ready():\n",
    "    global recent_posts # Save the recent_posts variable outside our running bot\n",
    "    \n",
    "    # Load the discord channel you want to post to\n",
    "    channel = client.get_channel(channel_id)\n",
    "\n",
    "    # Get the latest post in the channel history\n",
    "    post_history = channel.history(limit=10)\n",
    "    \n",
    "    #special code to turn the post_history from discord into a python list\n",
    "    recent_posts = [post async for post in post_history]\n",
    "\n",
    "    # Tell your bot to stop running\n",
    "    await client.close()\n",
    "    \n",
    "# Now that we've defined how the bot shoould work, start running your bot\n",
    "client.run(discord_token)\n",
    "\n",
    "num_posts = 0\n",
    "total_sentiment = 0\n",
    "\n",
    "for post in recent_posts:\n",
    "    \n",
    "    #calculate sentiment\n",
    "    post_sentiment = sia.polarity_scores(post.content)[\"compound\"]\n",
    "    num_posts += 1\n",
    "    total_sentiment += post_sentiment\n",
    "\n",
    "    print(\"Sentiment: \" + str(post_sentiment))\n",
    "    print(\"   post content: \" + post.content)\n",
    "    print()\n",
    "\n",
    "\n",
    "average_sentiment = total_sentiment / num_posts\n",
    "print(\"Average sentiment was \" + str(average_sentiment))"
   ]
  },
  {
   "cell_type": "markdown",
   "id": "0dc6c4d9-a522-4a06-ad47-669895660113",
   "metadata": {},
   "source": [
    "## Make a function using the code above for finding the average sentiment\n",
    "We now make a function of that code above by doing the following:\n",
    "- Add a `def` line at the start to make a function called `find_average_sentiment`\n",
    "- Indent all the old code so that it becomes the contents of the function `find_average_sentiment`\n",
    "- Make the function take two arguments:\n",
    "  - `channel_id`, which takes place of \"123456789\", so the person calling the function can choose which channel to search\n",
    "  - `display_progress` which defaults to False. This decides whether or not the print statements are run when the function is run, so we can see the progress if we want, or just get the answer by default\n",
    "- At the end of the function, return the average_sentiment as the result"
   ]
  },
  {
   "cell_type": "code",
   "execution_count": 18,
   "id": "0caeb3fd-738c-4284-824f-a19468c9fce9",
   "metadata": {},
   "outputs": [],
   "source": [
    "def find_average_sentiment(channel_id, display_progress = False):\n",
    "    # set up discord connection\n",
    "    client = discord.Client(intents=intents)\n",
    "\n",
    "    # Provide instructions for what your discord bot should do once it has logged in\n",
    "    @client.event\n",
    "    async def on_ready():\n",
    "        global recent_posts # Save the recent_posts variable outside our running bot\n",
    "\n",
    "        # Load the discord channel you want to post to\n",
    "        channel = client.get_channel(channel_id)\n",
    "\n",
    "        # Get the latest post in the channel history\n",
    "        post_history = channel.history(limit=10)\n",
    "\n",
    "        #special code to turn the post_history from discord into a python list\n",
    "        recent_posts = [post async for post in post_history]\n",
    "\n",
    "        # Tell your bot to stop running\n",
    "        await client.close()\n",
    "\n",
    "    # Now that we've defined how the bot shoould work, start running your bot\n",
    "    client.run(discord_token)\n",
    "\n",
    "    num_posts = 0\n",
    "    total_sentiment = 0\n",
    "\n",
    "    for post in recent_posts:\n",
    "\n",
    "        #calculate sentiment\n",
    "        post_sentiment = sia.polarity_scores(post.content)[\"compound\"]\n",
    "        num_posts += 1\n",
    "        total_sentiment += post_sentiment\n",
    "        \n",
    "        if(display_progress):\n",
    "            print(\"Sentiment: \" + str(post_sentiment))\n",
    "            print(\"   post content: \" + post.content)\n",
    "            print()\n",
    "\n",
    "\n",
    "    average_sentiment = total_sentiment / num_posts\n",
    "    if(display_progress):\n",
    "        print(\"Average sentiment was \" + str(average_sentiment))\n",
    "    \n",
    "    return average_sentiment"
   ]
  },
  {
   "cell_type": "markdown",
   "id": "a51294ef-7be6-4b8c-952f-259bf458f3b4",
   "metadata": {},
   "source": [
    "Now let's try using the function"
   ]
  },
  {
   "cell_type": "code",
   "execution_count": 19,
   "id": "6509d197-1668-4698-8f66-75f06d9051a2",
   "metadata": {},
   "outputs": [
    {
     "data": {
      "text/html": [
       "<strong style='color:darkred'>Fake discord is pretending to set up a client connection</strong>"
      ],
      "text/plain": [
       "<IPython.core.display.HTML object>"
      ]
     },
     "metadata": {},
     "output_type": "display_data"
    },
    {
     "data": {
      "text/html": [
       "<strong style='color:darkred'>Fake discord bot is fake logging in and starting to run</strong>"
      ],
      "text/plain": [
       "<IPython.core.display.HTML object>"
      ]
     },
     "metadata": {},
     "output_type": "display_data"
    },
    {
     "data": {
      "text/html": [
       "<strong style='color:darkred'>Fake discord bot is shutting down</strong>"
      ],
      "text/plain": [
       "<IPython.core.display.HTML object>"
      ]
     },
     "metadata": {},
     "output_type": "display_data"
    },
    {
     "data": {
      "text/plain": [
       "0.22034999999999996"
      ]
     },
     "execution_count": 19,
     "metadata": {},
     "output_type": "execute_result"
    }
   ],
   "source": [
    "find_average_sentiment(channel_id = 123456789)"
   ]
  },
  {
   "cell_type": "code",
   "execution_count": 20,
   "id": "55e9313a-2ec4-4e19-b1ad-8a40f73e1294",
   "metadata": {},
   "outputs": [
    {
     "data": {
      "text/html": [
       "<strong style='color:darkred'>Fake discord is pretending to set up a client connection</strong>"
      ],
      "text/plain": [
       "<IPython.core.display.HTML object>"
      ]
     },
     "metadata": {},
     "output_type": "display_data"
    },
    {
     "data": {
      "text/html": [
       "<strong style='color:darkred'>Fake discord bot is fake logging in and starting to run</strong>"
      ],
      "text/plain": [
       "<IPython.core.display.HTML object>"
      ]
     },
     "metadata": {},
     "output_type": "display_data"
    },
    {
     "data": {
      "text/html": [
       "<strong style='color:darkred'>Fake discord bot is shutting down</strong>"
      ],
      "text/plain": [
       "<IPython.core.display.HTML object>"
      ]
     },
     "metadata": {},
     "output_type": "display_data"
    },
    {
     "name": "stdout",
     "output_type": "stream",
     "text": [
      "Sentiment: 0.5093\n",
      "   post content: Look at my cute dog!\n",
      "\n",
      "Sentiment: 0.0\n",
      "   post content: A baby lizard!\n",
      "\n",
      "Sentiment: 0.6239\n",
      "   post content: The cutest bird ever!\n",
      "\n",
      "Average sentiment was 0.3777333333333333\n"
     ]
    },
    {
     "data": {
      "text/plain": [
       "0.3777333333333333"
      ]
     },
     "execution_count": 20,
     "metadata": {},
     "output_type": "execute_result"
    }
   ],
   "source": [
    "find_average_sentiment(channel_id = 987654321, display_progress=True)"
   ]
  },
  {
   "cell_type": "markdown",
   "id": "62f91c06-8d66-4272-8f13-56cba15ce7b4",
   "metadata": {},
   "source": [
    "## Modify the function so it tracks use\n",
    "Now we make another version of the same function, but with a small difference:\n",
    "- We make a list variable called `sentiment_searches` which exists outside the function.\n",
    "- At the start of the function we add the subreddit being searched to that list.\n",
    "This way, as the function gets used, we'll keep a history of its use in the `sentiment_searches` list"
   ]
  },
  {
   "cell_type": "code",
   "execution_count": 21,
   "id": "4ee4b0d0-f696-4f24-b341-c21169c10b4b",
   "metadata": {},
   "outputs": [],
   "source": [
    "# Make a list to save what subreddit was used for each time `find_average_sentiment` is run\n",
    "sentiment_searches = []\n",
    "\n",
    "def find_average_sentiment(channel_id, display_progress = False):\n",
    "    \n",
    "    # Add the current subreddit being searched to the sentiment_searches list\n",
    "    sentiment_searches.append(channel_id)\n",
    "    \n",
    "    # set up discord connection\n",
    "    client = discord.Client(intents=intents)\n",
    "\n",
    "    # Provide instructions for what your discord bot should do once it has logged in\n",
    "    @client.event\n",
    "    async def on_ready():\n",
    "        global recent_posts # Save the recent_posts variable outside our running bot\n",
    "\n",
    "        # Load the discord channel you want to post to\n",
    "        channel = client.get_channel(channel_id)\n",
    "\n",
    "        # Get the latest post in the channel history\n",
    "        post_history = channel.history(limit=10)\n",
    "\n",
    "        #special code to turn the post_history from discord into a python list\n",
    "        recent_posts = [post async for post in post_history]\n",
    "\n",
    "        # Tell your bot to stop running\n",
    "        await client.close()\n",
    "\n",
    "    # Now that we've defined how the bot shoould work, start running your bot\n",
    "    client.run(discord_token)\n",
    "\n",
    "    num_posts = 0\n",
    "    total_sentiment = 0\n",
    "\n",
    "    for post in recent_posts:\n",
    "\n",
    "        #calculate sentiment\n",
    "        post_sentiment = sia.polarity_scores(post.content)[\"compound\"]\n",
    "        num_posts += 1\n",
    "        total_sentiment += post_sentiment\n",
    "        \n",
    "        if(display_progress):\n",
    "            print(\"Sentiment: \" + str(post_sentiment))\n",
    "            print(\"   post content: \" + post.content)\n",
    "            print()\n",
    "\n",
    "\n",
    "    average_sentiment = total_sentiment / num_posts\n",
    "    if(display_progress):\n",
    "        print(\"Average sentiment was \" + str(average_sentiment))\n",
    "    \n",
    "    return average_sentiment"
   ]
  },
  {
   "cell_type": "markdown",
   "id": "75ac59a1-ea54-49a4-b8bd-55f040b50ac5",
   "metadata": {},
   "source": [
    "Now let's run this version of the function"
   ]
  },
  {
   "cell_type": "code",
   "execution_count": 22,
   "id": "3b482148-69a4-4245-8817-9772909edcc3",
   "metadata": {},
   "outputs": [
    {
     "data": {
      "text/html": [
       "<strong style='color:darkred'>Fake discord is pretending to set up a client connection</strong>"
      ],
      "text/plain": [
       "<IPython.core.display.HTML object>"
      ]
     },
     "metadata": {},
     "output_type": "display_data"
    },
    {
     "data": {
      "text/html": [
       "<strong style='color:darkred'>Fake discord bot is fake logging in and starting to run</strong>"
      ],
      "text/plain": [
       "<IPython.core.display.HTML object>"
      ]
     },
     "metadata": {},
     "output_type": "display_data"
    },
    {
     "data": {
      "text/html": [
       "<strong style='color:darkred'>Fake discord bot is shutting down</strong>"
      ],
      "text/plain": [
       "<IPython.core.display.HTML object>"
      ]
     },
     "metadata": {},
     "output_type": "display_data"
    },
    {
     "data": {
      "text/plain": [
       "0.22034999999999996"
      ]
     },
     "execution_count": 22,
     "metadata": {},
     "output_type": "execute_result"
    }
   ],
   "source": [
    "find_average_sentiment(channel_id = 123456789)"
   ]
  },
  {
   "cell_type": "code",
   "execution_count": 23,
   "id": "a794010c-e8f0-42d8-bc38-55039f09aba6",
   "metadata": {},
   "outputs": [
    {
     "data": {
      "text/html": [
       "<strong style='color:darkred'>Fake discord is pretending to set up a client connection</strong>"
      ],
      "text/plain": [
       "<IPython.core.display.HTML object>"
      ]
     },
     "metadata": {},
     "output_type": "display_data"
    },
    {
     "data": {
      "text/html": [
       "<strong style='color:darkred'>Fake discord bot is fake logging in and starting to run</strong>"
      ],
      "text/plain": [
       "<IPython.core.display.HTML object>"
      ]
     },
     "metadata": {},
     "output_type": "display_data"
    },
    {
     "data": {
      "text/html": [
       "<strong style='color:darkred'>Fake discord bot is shutting down</strong>"
      ],
      "text/plain": [
       "<IPython.core.display.HTML object>"
      ]
     },
     "metadata": {},
     "output_type": "display_data"
    },
    {
     "data": {
      "text/plain": [
       "0.3777333333333333"
      ]
     },
     "execution_count": 23,
     "metadata": {},
     "output_type": "execute_result"
    }
   ],
   "source": [
    "find_average_sentiment(channel_id = 987654321)"
   ]
  },
  {
   "cell_type": "markdown",
   "id": "6e38696f-c2d1-4260-882c-02870422e341",
   "metadata": {},
   "source": [
    "It looks like it works like normal, but our calls to the function have been tracked!"
   ]
  },
  {
   "cell_type": "code",
   "execution_count": 24,
   "id": "5b2b234f-fef9-41e6-9c82-f3ac1b9bf6c1",
   "metadata": {},
   "outputs": [
    {
     "data": {
      "text/plain": [
       "[123456789, 987654321]"
      ]
     },
     "metadata": {},
     "output_type": "display_data"
    }
   ],
   "source": [
    "display(sentiment_searches)"
   ]
  },
  {
   "cell_type": "markdown",
   "id": "39ec5a8f-ae53-4e6d-9347-2b6e2c91d58b",
   "metadata": {},
   "source": [
    "Now, if we were being malicious, we would hide this code in some other code library we would try to convince you to use, that way you wouldn't notice the code. And instead of just saving those searches or posts to a variable, we would send it to ourselves, perhaps by putting code into our social media code library to log into a different account and private messaged that info to ourselves."
   ]
  },
  {
   "cell_type": "markdown",
   "id": "d7fb9326-86bd-43f1-9367-4944c941e9de",
   "metadata": {},
   "source": [
    "## How can we trust code libraries?\n",
    "If people can make code libraries track us and violate our privacy, how can we trust them? We could try looking at the [source code for the PRAW library](https://github.com/praw-dev/praw/) to try and make sure the library we are using isn't doing anything bad, but no programmer can be expected to read through all the libraries they use. There is unfortunately no simple answer to this.\n",
    "\n",
    "In fact, there are cases where people have messed with code libraries:\n",
    "- The United States National Security Agency \"[paid massive computer security firm RSA $10 million to promote a flawed encryption system so that the surveillance organization could wiggle its way around security.](https://gizmodo.com/nsa-paid-security-firm-10-million-bribe-to-keep-encryp-1487442397)\"\n",
    "  - Does US national security outweigh global computer security? \n",
    "- Shortly after the Russian invasion of Ukraine in 2022, someone modified a popular NodeJS code library so that it would [automatically destroy files if it was run on a computer in Russia or Belarus](https://arstechnica.com/information-technology/2022/03/sabotage-code-added-to-popular-npm-package-wiped-files-in-russia-and-belarus/).\n",
    "  - Does opposing a military invasion justify sabatoging a code library? \n",
    "  \n",
    "And those are just the intentional problems with code libraries. All sorts of code libraries and computer programs are full of security flaws, which are regularly discovered and fixed (though who knows how much the flaws were exploited first).\n"
   ]
  }
 ],
 "metadata": {
  "kernelspec": {
   "display_name": "Python 3 (ipykernel)",
   "language": "python",
   "name": "python3"
  },
  "language_info": {
   "codemirror_mode": {
    "name": "ipython",
    "version": 3
   },
   "file_extension": ".py",
   "mimetype": "text/x-python",
   "name": "python",
   "nbconvert_exporter": "python",
   "pygments_lexer": "ipython3",
   "version": "3.10.4"
  }
 },
 "nbformat": 4,
 "nbformat_minor": 5
}
