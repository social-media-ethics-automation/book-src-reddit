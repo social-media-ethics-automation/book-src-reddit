{
 "cells": [
  {
   "cell_type": "markdown",
   "id": "a779ca3a-c174-4e88-93ac-2124c7ea049a",
   "metadata": {},
   "source": [
    "# Demo: Track Use of Sentiment Analysis Code"
   ]
  },
  {
   "cell_type": "markdown",
   "id": "fab16b2e-a406-45d7-aa81-ae758bf73103",
   "metadata": {},
   "source": [
    "In this code demo, we will take the sentiment analysis code we used in the last chapter (Data Mining), and we will turn it into a function which will make it easier to use.\n",
    "\n",
    "After turning it into a function though, we will add code to that function to track how it is used. We could theoretically take this information we are tracking and send to results to some other account.\n",
    "\n",
    "This sort of tracking can be part of tracking program [telemetry](https://en.wikipedia.org/wiki/Telemetry#Software), which can be useful in figure out where software is broken or where it is most or least useful. But it can also be violating the privacy of anyone using our funtion who doesn't know we are tracking its use, or used maliciously to steal user information."
   ]
  },
  {
   "cell_type": "markdown",
   "id": "871e03b1-fbc0-4bc7-8cb0-cffc45306f35",
   "metadata": {},
   "source": [
    "## Log into Bluesky (atproto)\n",
    "These are our normal steps get atproto loaded and logged into Bluesky"
   ]
  },
  {
   "cell_type": "code",
   "execution_count": 11,
   "id": "343dfaaf-a277-45c1-9d9e-096df9ab4c2e",
   "metadata": {},
   "outputs": [],
   "source": [
    "from atproto import Client"
   ]
  },
  {
   "cell_type": "markdown",
   "id": "09f2e39d-74f1-417d-9e90-5f7c1f4fe01c",
   "metadata": {},
   "source": [
    "(optional) make a fake Bluesky connection with the fake_atproto library\n",
    "For testing purposes, we\"ve added this line of code, which loads a fake version of atproto, so it wont actually connect to Bluesky. __If you want to try to actually connect to Bluesky, don't run this line of code.__"
   ]
  },
  {
   "cell_type": "code",
   "execution_count": 12,
   "id": "5360c90a-3a63-426d-ba79-d34bac9be03b",
   "metadata": {},
   "outputs": [
    {
     "data": {
      "text/html": [
       "<strong style='color:darkred'>Fake atproto (bsky.app) is replacing the atproto.blue library. Fake atproto doesn&#x27;t need real passwords, and prevents you from accessing real Bluesky</strong>"
      ],
      "text/plain": [
       "<IPython.core.display.HTML object>"
      ]
     },
     "metadata": {},
     "output_type": "display_data"
    }
   ],
   "source": [
    "%run ../../fake_apis/fake_atproto.ipynb"
   ]
  },
  {
   "cell_type": "code",
   "execution_count": 13,
   "id": "4652addb-023c-45e5-bb0c-2d27cf3c8564",
   "metadata": {},
   "outputs": [
    {
     "data": {
      "text/html": [
       "<strong style='color:darkred'>Fake atproto is pretending to set up a client connection to: https://bsky.social</strong>"
      ],
      "text/plain": [
       "<IPython.core.display.HTML object>"
      ]
     },
     "metadata": {},
     "output_type": "display_data"
    },
    {
     "data": {
      "text/html": [
       "<strong style='color:darkred'>Fake atproto is pretending log into your account: your_account_name.bsky.social</strong>"
      ],
      "text/plain": [
       "<IPython.core.display.HTML object>"
      ]
     },
     "metadata": {},
     "output_type": "display_data"
    }
   ],
   "source": [
    "# Login to Bluesky\n",
    "# TODO: put your account name and password below\n",
    "\n",
    "client = Client(base_url=\"https://bsky.social\")\n",
    "client.login(\"your_account_name.bsky.social\", \"m#5@_fake_bsky_password_$%Ds\")"
   ]
  },
  {
   "cell_type": "markdown",
   "id": "5e1b794a-b178-4b06-b992-7e88a466b55d",
   "metadata": {},
   "source": [
    "### load sentiment analysis library and make analyzer"
   ]
  },
  {
   "cell_type": "code",
   "execution_count": 14,
   "id": "9822d030-1db1-47c1-8276-763f66d07be5",
   "metadata": {},
   "outputs": [
    {
     "name": "stderr",
     "output_type": "stream",
     "text": [
      "[nltk_data] Downloading package vader_lexicon to\n",
      "[nltk_data]     C:\\Users\\kmthayer\\AppData\\Roaming\\nltk_data...\n",
      "[nltk_data]   Package vader_lexicon is already up-to-date!\n"
     ]
    }
   ],
   "source": [
    "import nltk\n",
    "nltk.download([\"vader_lexicon\"])\n",
    "from nltk.sentiment import SentimentIntensityAnalyzer\n",
    "sia = SentimentIntensityAnalyzer()"
   ]
  },
  {
   "cell_type": "markdown",
   "id": "0cb3be89-1f51-4ca6-804f-4ccd43ffa513",
   "metadata": {},
   "source": [
    "### original code to run a search and loop through posts, finding average sentiment\n",
    "This is the code from chapter 8 that loops through posts from a search for \"news\" and calculates the average sentiment"
   ]
  },
  {
   "cell_type": "code",
   "execution_count": 15,
   "id": "7877be09-65a1-404e-9eb8-a332744d291b",
   "metadata": {},
   "outputs": [
    {
     "name": "stdout",
     "output_type": "stream",
     "text": [
      "Sentiment: 0.784\n",
      "   post text: Breaking news: A lovely cat took a nice long nap today!\n",
      "\n",
      "Sentiment: 0.0\n",
      "   post text: Breaking news: Someone said a really mean thing on the internet today!\n",
      "\n",
      "Sentiment: 0.7088\n",
      "   post text: Breaking news: Some grandparents made some yummy cookies for all the kids to share!\n",
      "\n",
      "Sentiment: -0.6114\n",
      "   post text: Breaking news: All the horrors of the universe revealed at last!\n",
      "\n",
      "Average sentiment was 0.22034999999999996\n"
     ]
    }
   ],
   "source": [
    "num_submissions = 0\n",
    "total_sentiment = 0\n",
    "\n",
    "# Run a search for the word \"news\" on bluesky\n",
    "search_query = \"news\"\n",
    "search_results = client.app.bsky.feed.search_posts({'q': search_query}).posts\n",
    "\n",
    "num_posts = 0\n",
    "total_sentiment = 0\n",
    "\n",
    "for post in search_results:\n",
    "    \n",
    "    #calculate sentiment\n",
    "    post_sentiment = sia.polarity_scores(post.record.text)[\"compound\"]\n",
    "    num_posts += 1\n",
    "    total_sentiment += post_sentiment\n",
    "\n",
    "    print(\"Sentiment: \" + str(post_sentiment))\n",
    "    print(\"   post text: \" + post.record.text)\n",
    "    print()\n",
    "\n",
    "\n",
    "average_sentiment = total_sentiment / num_posts\n",
    "print(\"Average sentiment was \" + str(average_sentiment))"
   ]
  },
  {
   "cell_type": "markdown",
   "id": "0dc6c4d9-a522-4a06-ad47-669895660113",
   "metadata": {},
   "source": [
    "## Make a function using the code above for finding the average sentiment\n",
    "We now make a function of that code above by doing the following:\n",
    "- Add a `def` line at the start to make a function called `find_average_sentiment`\n",
    "- Indent all the old code so that it becomes the contents of the function `find_average_sentiment`\n",
    "- Make the function take two arguments:\n",
    "  - `search_query`, which takes place of \"news\", so the person calling the function can choose what search to run\n",
    "  - `display_progress` which defaults to False. This decides whether or not the print statements are run when the function is run, so we can see the progress if we want, or just get the answer by default\n",
    "- At the end of the function, return the average_sentiment as the result"
   ]
  },
  {
   "cell_type": "code",
   "execution_count": 16,
   "id": "0caeb3fd-738c-4284-824f-a19468c9fce9",
   "metadata": {},
   "outputs": [],
   "source": [
    "def find_average_sentiment(search_query, display_progress = False):\n",
    "    num_submissions = 0\n",
    "    total_sentiment = 0\n",
    "    \n",
    "    # Run a search for on bluesky for the passed in \"search_query\"\n",
    "    search_results = client.app.bsky.feed.search_posts({'q': search_query}).posts\n",
    "    \n",
    "    num_posts = 0\n",
    "    total_sentiment = 0\n",
    "    \n",
    "    for post in search_results:\n",
    "        \n",
    "        #calculate sentiment\n",
    "        post_sentiment = sia.polarity_scores(post.record.text)[\"compound\"]\n",
    "        num_posts += 1\n",
    "        total_sentiment += post_sentiment\n",
    "\n",
    "        if(display_progress):\n",
    "            print(\"Sentiment: \" + str(post_sentiment))\n",
    "            print(\"   post text: \" + post.record.text)\n",
    "            print()\n",
    "    \n",
    "    \n",
    "    average_sentiment = total_sentiment / num_posts\n",
    "    if(display_progress):\n",
    "        print(\"Average sentiment was \" + str(average_sentiment))\n",
    "    \n",
    "    return average_sentiment"
   ]
  },
  {
   "cell_type": "markdown",
   "id": "a51294ef-7be6-4b8c-952f-259bf458f3b4",
   "metadata": {},
   "source": [
    "Now let's try using the function"
   ]
  },
  {
   "cell_type": "code",
   "execution_count": 17,
   "id": "6509d197-1668-4698-8f66-75f06d9051a2",
   "metadata": {},
   "outputs": [
    {
     "data": {
      "text/plain": [
       "0.22034999999999996"
      ]
     },
     "execution_count": 17,
     "metadata": {},
     "output_type": "execute_result"
    }
   ],
   "source": [
    "find_average_sentiment(\"news\")"
   ]
  },
  {
   "cell_type": "code",
   "execution_count": 18,
   "id": "55e9313a-2ec4-4e19-b1ad-8a40f73e1294",
   "metadata": {},
   "outputs": [
    {
     "name": "stdout",
     "output_type": "stream",
     "text": [
      "Sentiment: -0.5255\n",
      "   post text: Scientists have cloned dangerous dinosaurs!\n",
      "\n",
      "Sentiment: 0.7574\n",
      "   post text: Scientists have created the best tasting food ever!\n",
      "\n",
      "Sentiment: 0.0\n",
      "   post text: F*** magnets, how do they work? And I don't wanna talk to any scientists\n",
      "\n",
      "Average sentiment was 0.0773\n"
     ]
    },
    {
     "data": {
      "text/plain": [
       "0.0773"
      ]
     },
     "execution_count": 18,
     "metadata": {},
     "output_type": "execute_result"
    }
   ],
   "source": [
    "find_average_sentiment(\"scientists\", display_progress=True)"
   ]
  },
  {
   "cell_type": "markdown",
   "id": "62f91c06-8d66-4272-8f13-56cba15ce7b4",
   "metadata": {},
   "source": [
    "## Modify the function so it tracks use\n",
    "Now we make another version of the same function, but with a small difference:\n",
    "- We make a list variable called `sentiment_searches` which exists outside the function.\n",
    "- At the start of the function we add the search_query being searched to that list.\n",
    "This way, as the function gets used, we'll keep a history of its use in the `sentiment_searches` list"
   ]
  },
  {
   "cell_type": "code",
   "execution_count": 21,
   "id": "4ee4b0d0-f696-4f24-b341-c21169c10b4b",
   "metadata": {},
   "outputs": [],
   "source": [
    "# Make a list to save what subreddit was used for each time `find_average_sentiment` is run\n",
    "sentiment_searches = []\n",
    "\n",
    "def find_average_sentiment(search_query, display_progress = False):\n",
    "\n",
    "    # Add the current search_query being searched to the sentiment_searches list\n",
    "    sentiment_searches.append(search_query)\n",
    "    \n",
    "    num_submissions = 0\n",
    "    total_sentiment = 0\n",
    "    \n",
    "    # Run a search for on bluesky for the passed in \"search_query\"\n",
    "    search_results = client.app.bsky.feed.search_posts({'q': search_query}).posts\n",
    "    \n",
    "    num_posts = 0\n",
    "    total_sentiment = 0\n",
    "    \n",
    "    for post in search_results:\n",
    "        \n",
    "        #calculate sentiment\n",
    "        post_sentiment = sia.polarity_scores(post.record.text)[\"compound\"]\n",
    "        num_posts += 1\n",
    "        total_sentiment += post_sentiment\n",
    "\n",
    "        if(display_progress):\n",
    "            print(\"Sentiment: \" + str(post_sentiment))\n",
    "            print(\"   post text: \" + post.record.text)\n",
    "            print()\n",
    "    \n",
    "    \n",
    "    average_sentiment = total_sentiment / num_posts\n",
    "    if(display_progress):\n",
    "        print(\"Average sentiment was \" + str(average_sentiment))\n",
    "    \n",
    "    return average_sentiment"
   ]
  },
  {
   "cell_type": "markdown",
   "id": "75ac59a1-ea54-49a4-b8bd-55f040b50ac5",
   "metadata": {},
   "source": [
    "Now let's run this version of the function"
   ]
  },
  {
   "cell_type": "code",
   "execution_count": 22,
   "id": "3b482148-69a4-4245-8817-9772909edcc3",
   "metadata": {},
   "outputs": [
    {
     "data": {
      "text/plain": [
       "0.22034999999999996"
      ]
     },
     "execution_count": 22,
     "metadata": {},
     "output_type": "execute_result"
    }
   ],
   "source": [
    "find_average_sentiment(\"news\")"
   ]
  },
  {
   "cell_type": "code",
   "execution_count": 23,
   "id": "a794010c-e8f0-42d8-bc38-55039f09aba6",
   "metadata": {},
   "outputs": [
    {
     "data": {
      "text/plain": [
       "0.0773"
      ]
     },
     "execution_count": 23,
     "metadata": {},
     "output_type": "execute_result"
    }
   ],
   "source": [
    "find_average_sentiment(\"scientists\")"
   ]
  },
  {
   "cell_type": "markdown",
   "id": "6e38696f-c2d1-4260-882c-02870422e341",
   "metadata": {},
   "source": [
    "It looks like it works like normal, but our calls to the function have been tracked!"
   ]
  },
  {
   "cell_type": "code",
   "execution_count": 24,
   "id": "5b2b234f-fef9-41e6-9c82-f3ac1b9bf6c1",
   "metadata": {},
   "outputs": [
    {
     "data": {
      "text/plain": [
       "['news', 'scientists']"
      ]
     },
     "metadata": {},
     "output_type": "display_data"
    }
   ],
   "source": [
    "display(sentiment_searches)"
   ]
  },
  {
   "cell_type": "markdown",
   "id": "39ec5a8f-ae53-4e6d-9347-2b6e2c91d58b",
   "metadata": {},
   "source": [
    "Now, if we were being malicious, we would hide this code in some other code library we would try to convince you to use, that way you wouldn't notice the code. And instead of just saving those searches or posts to a variable, we would send it to ourselves, perhaps by putting code into our social media code library to log into a different account and private messaged that info to ourselves."
   ]
  },
  {
   "cell_type": "markdown",
   "id": "d7fb9326-86bd-43f1-9367-4944c941e9de",
   "metadata": {},
   "source": [
    "## How can we trust code libraries?\n",
    "If people can make code libraries track us and violate our privacy, how can we trust them? We could try looking at the [source code for the atproto library](https://github.com/MarshalX/atproto) to try and make sure the library we are using isn't doing anything bad, but no programmer can be expected to read through all the libraries they use. There is unfortunately no simple answer to this.\n",
    "\n",
    "In fact, there are cases where people have messed with code libraries:\n",
    "- The United States National Security Agency \"[paid massive computer security firm RSA $10 million to promote a flawed encryption system so that the surveillance organization could wiggle its way around security.](https://gizmodo.com/nsa-paid-security-firm-10-million-bribe-to-keep-encryp-1487442397)\"\n",
    "  - Does US national security outweigh global computer security? \n",
    "- Shortly after the Russian invasion of Ukraine in 2022, someone modified a popular NodeJS code library so that it would [automatically destroy files if it was run on a computer in Russia or Belarus](https://arstechnica.com/information-technology/2022/03/sabotage-code-added-to-popular-npm-package-wiped-files-in-russia-and-belarus/).\n",
    "  - Does opposing a military invasion justify sabatoging a code library? \n",
    "  \n",
    "And those are just the intentional problems with code libraries. All sorts of code libraries and computer programs are full of security flaws, which are regularly discovered and fixed (though who knows how much the flaws were exploited first).\n"
   ]
  }
 ],
 "metadata": {
  "kernelspec": {
   "display_name": "Python 3 (ipykernel)",
   "language": "python",
   "name": "python3"
  },
  "language_info": {
   "codemirror_mode": {
    "name": "ipython",
    "version": 3
   },
   "file_extension": ".py",
   "mimetype": "text/x-python",
   "name": "python",
   "nbconvert_exporter": "python",
   "pygments_lexer": "ipython3",
   "version": "3.12.5"
  }
 },
 "nbformat": 4,
 "nbformat_minor": 5
}
