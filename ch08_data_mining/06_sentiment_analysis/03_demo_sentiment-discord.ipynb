{
 "cells": [
  {
   "cell_type": "markdown",
   "id": "485c4462-5cf7-4524-8f57-874e8eb6209d",
   "metadata": {},
   "source": [
    "# Demo: Sentiment Analysis on Discord"
   ]
  },
  {
   "cell_type": "markdown",
   "id": "cfa189d1-5015-4948-a9be-4c04443bd879",
   "metadata": {},
   "source": [
    "Now let's try using sentiment analysis (and loop variables) on Discord:\n",
    "\n",
    "We'll start by doing our normal steps to load the discord library (or fake discord)\n",
    "\n",
    "## Load \"discord\" and nest_asyncio libraries"
   ]
  },
  {
   "cell_type": "code",
   "execution_count": 9,
   "id": "0d45a981-86cd-41f0-bc0a-066afdc985b4",
   "metadata": {
    "tags": []
   },
   "outputs": [],
   "source": [
    "# Load some code called \"discord\" that will help us work with Discord\n",
    "import discord\n",
    "\n",
    "# Load another library that helps the bot work in Jupyter Noteboook\n",
    "import nest_asyncio\n",
    "nest_asyncio.apply()"
   ]
  },
  {
   "cell_type": "markdown",
   "id": "8cdfc113-a6b0-4c6f-a1f1-06a47bb83925",
   "metadata": {},
   "source": [
    "### (optional) make a fake Discord connection with the fake_discord library\n",
    "For testing purposes, we've added this line of code, which loads a fake version of Discord, so it wont actually connect to Discord. __If you want to try to actually connect to Discord, don't run this line of code.__"
   ]
  },
  {
   "cell_type": "code",
   "execution_count": 1,
   "id": "f5c5eac2-09d3-4244-b4d4-63942fda66ef",
   "metadata": {},
   "outputs": [
    {
     "data": {
      "text/html": [
       "<strong style='color:darkred'>Fake discord is replacing the discord.py library. Fake discord doesn&#x27;t need real passwords, and prevents you from accessing real discord</strong>"
      ],
      "text/plain": [
       "<IPython.core.display.HTML object>"
      ]
     },
     "metadata": {},
     "output_type": "display_data"
    }
   ],
   "source": [
    "%run ../../fake_apis/fake_discord.ipynb"
   ]
  },
  {
   "cell_type": "markdown",
   "id": "9d1ed88a-014b-4918-b389-3d410640b060",
   "metadata": {},
   "source": [
    "###  set up your Discord connection\n",
    "To use this on your real Discord account, copy your [discord token](../../appendix/making_bot_account.md) into the code below, replacing our fake passwords."
   ]
  },
  {
   "cell_type": "code",
   "execution_count": 13,
   "id": "72567e4d-e517-43f1-a949-49fb29120ddf",
   "metadata": {},
   "outputs": [
    {
     "data": {
      "text/html": [
       "<strong style='color:darkred'>Fake discord is pretending to set up a client connection</strong>"
      ],
      "text/plain": [
       "<IPython.core.display.HTML object>"
      ]
     },
     "metadata": {},
     "output_type": "display_data"
    }
   ],
   "source": [
    "# Set up your Discord connection\n",
    "# TODO: put the discord token for your bot below\n",
    "discord_token = \"m#5@_fake_discord_token_$%Ds\"\n",
    "\n",
    "# set up Discord client with permissions to read message_contents\n",
    "intents = discord.Intents.default()\n",
    "intents.message_content = True "
   ]
  },
  {
   "cell_type": "markdown",
   "id": "800c5cf7-bc4a-4f09-b610-49bea3827699",
   "metadata": {},
   "source": [
    "### find a list of discord posts\n",
    "We can now make a bot that loads a list of discord posts.\n",
    "\n",
    "_Note: If you run this on real discord, we can’t gurantee anything about how offensive what you might find is._"
   ]
  },
  {
   "cell_type": "code",
   "execution_count": 14,
   "id": "999f3df5-e058-46f0-9c2d-e2c1af048248",
   "metadata": {},
   "outputs": [
    {
     "data": {
      "text/html": [
       "<strong style='color:darkred'>Fake discord bot is fake logging in and starting to run</strong>"
      ],
      "text/plain": [
       "<IPython.core.display.HTML object>"
      ]
     },
     "metadata": {},
     "output_type": "display_data"
    },
    {
     "data": {
      "text/html": [
       "<strong style='color:darkred'>Fake discord bot is shutting down</strong>"
      ],
      "text/plain": [
       "<IPython.core.display.HTML object>"
      ]
     },
     "metadata": {},
     "output_type": "display_data"
    }
   ],
   "source": [
    "# set up discord connection\n",
    "client = discord.Client(intents=intents)\n",
    "\n",
    "# TODO: put the discord channel id number below for the channel you want to use\n",
    "channel_id = 123456789\n",
    "\n",
    "# Provide instructions for what your discord bot should do once it has logged in\n",
    "@client.event\n",
    "async def on_ready():\n",
    "    global recent_posts # Save the recent_posts variable outside our running bot\n",
    "    \n",
    "    # Load the discord channel you want to post to\n",
    "    channel = client.get_channel(channel_id)\n",
    "\n",
    "    # Get the latest post in the channel history\n",
    "    post_history = channel.history(limit=10)\n",
    "    \n",
    "    #special code to turn the post_history from discord into a python list\n",
    "    recent_posts = [post async for post in post_history]\n",
    "\n",
    "    # Tell your bot to stop running\n",
    "    await client.close()\n",
    "    \n",
    "# Now that we've defined how the bot shoould work, start running your bot\n",
    "client.run(discord_token)"
   ]
  },
  {
   "cell_type": "markdown",
   "id": "a72f67fc-09df-446f-8956-b1f28fd3d0bd",
   "metadata": {},
   "source": [
    "## Sentiment Analysis\n",
    "### load sentiment analysis library and make analyzer"
   ]
  },
  {
   "cell_type": "code",
   "execution_count": 15,
   "id": "a476b639-df99-4737-83f8-a37fb3654b50",
   "metadata": {
    "tags": []
   },
   "outputs": [
    {
     "name": "stderr",
     "output_type": "stream",
     "text": [
      "[nltk_data] Downloading package vader_lexicon to\n",
      "[nltk_data]     C:\\Users\\kmthayer\\AppData\\Roaming\\nltk_data...\n",
      "[nltk_data]   Package vader_lexicon is already up-to-date!\n"
     ]
    }
   ],
   "source": [
    "import nltk\n",
    "nltk.download([\"vader_lexicon\"])\n",
    "from nltk.sentiment import SentimentIntensityAnalyzer\n",
    "sia = SentimentIntensityAnalyzer()"
   ]
  },
  {
   "cell_type": "markdown",
   "id": "549b8cd4-61a6-42b3-ad32-7dff878ddc9c",
   "metadata": {},
   "source": [
    "### loop through submissions, finding average sentiment\n",
    "We can now combine our previous examples of looping through reddit submissions with what we just learned of sentiment analysis and looping variables to find the average sentiment of a set of submission titles."
   ]
  },
  {
   "cell_type": "code",
   "execution_count": 16,
   "id": "ec912f23-54af-44ce-86b7-3f445bad5fdf",
   "metadata": {},
   "outputs": [
    {
     "name": "stdout",
     "output_type": "stream",
     "text": [
      "Sentiment: 0.784\n",
      "   post content: Breaking news: A lovely cat took a nice long nap today!\n",
      "\n",
      "Sentiment: 0.0\n",
      "   post content: Breaking news: Someone said a really mean thing on the internet today!\n",
      "\n",
      "Sentiment: 0.7088\n",
      "   post content: Breaking news: Some grandparents made some yummy cookies for all the kids to share!\n",
      "\n",
      "Sentiment: -0.6114\n",
      "   post content: Breaking news: All the horrors of the universe revealed at last!\n",
      "\n",
      "Average sentiment was 0.22034999999999996\n"
     ]
    }
   ],
   "source": [
    "num_posts = 0\n",
    "total_sentiment = 0\n",
    "\n",
    "for post in recent_posts:\n",
    "    \n",
    "    #calculate sentiment\n",
    "    post_sentiment = sia.polarity_scores(post.content)[\"compound\"]\n",
    "    num_posts += 1\n",
    "    total_sentiment += post_sentiment\n",
    "\n",
    "    print(\"Sentiment: \" + str(post_sentiment))\n",
    "    print(\"   post content: \" + post.content)\n",
    "    print()\n",
    "\n",
    "\n",
    "average_sentiment = total_sentiment / num_posts\n",
    "print(\"Average sentiment was \" + str(average_sentiment))"
   ]
  },
  {
   "cell_type": "markdown",
   "id": "c97763a9-325f-4fd0-8b57-501a068f6335",
   "metadata": {},
   "source": [
    "We can now see the average sentiment of a set of discord posts! \n",
    "\n",
    "If you use your reddit bot keys, you can change the `channel_id` to be whatever one you want and see whether people are posting positively or negatively in it. \n",
    "\n",
    "_note: You can change `limit=10` to go up higher to get more submissions at a time to find the average of_"
   ]
  }
 ],
 "metadata": {
  "kernelspec": {
   "display_name": "Python 3 (ipykernel)",
   "language": "python",
   "name": "python3"
  },
  "language_info": {
   "codemirror_mode": {
    "name": "ipython",
    "version": 3
   },
   "file_extension": ".py",
   "mimetype": "text/x-python",
   "name": "python",
   "nbconvert_exporter": "python",
   "pygments_lexer": "ipython3",
   "version": "3.10.4"
  }
 },
 "nbformat": 4,
 "nbformat_minor": 5
}
