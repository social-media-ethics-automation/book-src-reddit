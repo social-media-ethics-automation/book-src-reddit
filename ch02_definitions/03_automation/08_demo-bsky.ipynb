{
 "cells": [
  {
   "cell_type": "markdown",
   "id": "8e8b04f7-3262-427e-b125-ec9e4284d0d9",
   "metadata": {
    "tags": []
   },
   "source": [
    "# Demo: Try Running the Bluesky Bot!"
   ]
  },
  {
   "cell_type": "markdown",
   "id": "144e173b-2a04-44b4-a45d-7b335e40f918",
   "metadata": {},
   "source": [
    "## Running this Jupyter Notebook\n",
    "This page is called a \"Jupyter Notebook\" which it is a text page that has runnable Python code in it.\n",
    "\n",
    "In order to run the code, you can look for the rocket button at the top which will give you an option to \"launch binder.\"\n",
    "\n",
    "![screenshot of this page in the online textbook, with the launch binder link highlighted under the rocket button at the top.](binder_link.png)\n",
    "\n",
    "If you launch binder, it will take a while to load, but eventually show you a version of this Jupyter Notebook page in a code editor called Jupyter Lab.\n",
    "\n",
    "![a screenshot of this page viewed in jupyter_lab, with menus and options above the editable page](jupyter_lab.png)\n",
    "\n",
    "In Jupyter Lab you can double click any section to edit it, and you can press the triangle \"run\" button to run the code (or display the text).\n",
    "\n",
    "![a screenshot of this page viewed in jupyter_lab,with the triangle \"run\" button circled. Next to it are a square \"interrupt the kernal\" button and other options](jupyter_run_code.png)\n",
    "\n",
    "When the code runs, the little number to the left of the code block should change. There might also be some output from your action displayed below the code block.\n",
    "\n",
    "So now you can go through the rest of this page and select and run each section of code.\n"
   ]
  },
  {
   "cell_type": "markdown",
   "id": "13f89d63-a8e7-48e2-b744-ecfdf8bdad87",
   "metadata": {},
   "source": [
    "## Here is the bot code you can run!\n",
    "Our demo Bluesky bot code is below, broken up into different sections. \n",
    "\n",
    "You can select each section of the code below and run it to see what it does.\n",
    "\n",
    "By default this code uses a fake version of our Bluesky connection so it doesn\"t connect to a real Bluesky account.\n",
    "\n",
    "If you want to actually connect to your Bluesky account, you can put your Bluesky account name and password in the right code section below, and then when you run the code make sure to skip the code section that makes a fake Bluesky connection with \"fake_atproto\"."
   ]
  },
  {
   "cell_type": "markdown",
   "id": "71630ecc-59b1-421a-94b8-7c973e0a3c12",
   "metadata": {},
   "source": [
    "### Step 1: Load atproto (Bluesky) code"
   ]
  },
  {
   "cell_type": "code",
   "execution_count": 1,
   "id": "d93d5346-7256-48dd-9687-5919aabf6f74",
   "metadata": {},
   "outputs": [],
   "source": [
    "# Load some code called \"Client\" from the \"atproto\" library that will help us work with Bluesky\n",
    "from atproto import Client"
   ]
  },
  {
   "cell_type": "markdown",
   "id": "bc6fe80b-f477-481e-8b82-3981b8cf75a4",
   "metadata": {},
   "source": [
    "### (Optional) Step 1b: Make a fake Bluesky connection with the fake_atproto library\n",
    "For testing purposes, we\"ve added this line of code, which loads a fake version of atproto, so it wont actually connect to Bluesky. __If you want to try to actually connect to Bluesky, don't run this line of code.__"
   ]
  },
  {
   "cell_type": "code",
   "execution_count": 2,
   "id": "ec45f3fb-204c-4948-a822-1608972f54bb",
   "metadata": {},
   "outputs": [
    {
     "data": {
      "text/html": [
       "<strong style='color:darkred'>Fake atproto (bsky.app) is replacing the atproto.blue library. Fake atproto doesn&#x27;t need real passwords, and prevents you from accessing real Bluesky</strong>"
      ],
      "text/plain": [
       "<IPython.core.display.HTML object>"
      ]
     },
     "metadata": {},
     "output_type": "display_data"
    }
   ],
   "source": [
    "%run ../../fake_apis/fake_atproto.ipynb"
   ]
  },
  {
   "cell_type": "markdown",
   "id": "17ab3bf1-b204-41dd-806c-4b923beb4079",
   "metadata": {},
   "source": [
    "### Step 2: Login to Bluesky\n",
    "To use this on your real Bluesky account, copy your [bluesky account name and login](../../appendix/making_bot_account.md) into the code below, replacing our fake bluesky name and password."
   ]
  },
  {
   "cell_type": "code",
   "execution_count": 3,
   "id": "6c17ccfc-269d-4d21-80f8-d7dbe0576423",
   "metadata": {},
   "outputs": [
    {
     "data": {
      "text/html": [
       "<strong style='color:darkred'>Fake atproto is pretending to set up a client connection to:https://bsky.social</strong>"
      ],
      "text/plain": [
       "<IPython.core.display.HTML object>"
      ]
     },
     "metadata": {},
     "output_type": "display_data"
    },
    {
     "data": {
      "text/html": [
       "<strong style='color:darkred'>Fake atproto is pretending log into your account:your_account_name.bsky.social</strong>"
      ],
      "text/plain": [
       "<IPython.core.display.HTML object>"
      ]
     },
     "metadata": {},
     "output_type": "display_data"
    }
   ],
   "source": [
    "# Login to Bluesk\n",
    "# TODO: put your account name and password below\n",
    "\n",
    "client = Client(base_url=\"https://bsky.social\")\n",
    "client.login(\"your_account_name.bsky.social\", \"m#5@_fake_bsky_password_$%Ds\")"
   ]
  },
  {
   "cell_type": "markdown",
   "id": "42779d83-d829-41e5-9b05-cf9c68cd3ca4",
   "metadata": {},
   "source": [
    "### Step 3: Send a Post to Bluesky"
   ]
  },
  {
   "cell_type": "code",
   "execution_count": 5,
   "id": "f2bcdc6b-b6e7-4348-9b9a-231aed259ed1",
   "metadata": {},
   "outputs": [
    {
     "data": {
      "text/html": [
       "<strong style='color:darkred'>Fake atproto is pretending to post:</strong>"
      ],
      "text/plain": [
       "<IPython.core.display.HTML object>"
      ]
     },
     "metadata": {},
     "output_type": "display_data"
    },
    {
     "name": "stdout",
     "output_type": "stream",
     "text": [
      "This post was made by a computer program!\n",
      "\n"
     ]
    }
   ],
   "source": [
    "# Send a Bluesky post\n",
    "# TODO: modify the text in the quotes below to change what this bot posts to Bluesky:\n",
    "client.send_post(\"This post was made by a computer program!\")"
   ]
  },
  {
   "cell_type": "markdown",
   "id": "262d3a68-2d60-4d3a-b413-28d50dce2726",
   "metadata": {},
   "source": [
    "### Step 4: Modify the bot code above to create a different Bluesky post, and run it"
   ]
  },
  {
   "cell_type": "code",
   "execution_count": null,
   "id": "1ce1b13a-50ca-46f5-8495-1e06fe060279",
   "metadata": {},
   "outputs": [],
   "source": []
  }
 ],
 "metadata": {
  "kernelspec": {
   "display_name": "Python 3 (ipykernel)",
   "language": "python",
   "name": "python3"
  },
  "language_info": {
   "codemirror_mode": {
    "name": "ipython",
    "version": 3
   },
   "file_extension": ".py",
   "mimetype": "text/x-python",
   "name": "python",
   "nbconvert_exporter": "python",
   "pygments_lexer": "ipython3",
   "version": "3.12.5"
  },
  "vscode": {
   "interpreter": {
    "hash": "369f2c481f4da34e4445cda3fffd2e751bd1c4d706f27375911949ba6bb62e1c"
   }
  }
 },
 "nbformat": 4,
 "nbformat_minor": 5
}
