{
 "cells": [
  {
   "cell_type": "markdown",
   "id": "f2446309-25e4-4582-a537-b8292885dcad",
   "metadata": {},
   "source": [
    "# Demo: Recommend Users to Follow"
   ]
  },
  {
   "cell_type": "markdown",
   "id": "8df7c5de",
   "metadata": {},
   "source": [
    "\n",
    "Now let's look at a recommendation algorithm for new users to follow. Our algorithm will be\n",
    "\n",
    "\n",
    "For a given user:\n",
    "1. Look at the people this user follows\n",
    "2. For each of those follows, look at who they follow\n",
    "3. While doing this, keep track of what accounts showed up most \n",
    "4. Recommend the accounts that showed up the most (the users most followed by people followed by our given user)"
   ]
  },
  {
   "cell_type": "markdown",
   "id": "ae27cd44-3897-4154-b7a1-a5a807bf92c7",
   "metadata": {},
   "source": [
    "## Normal Bluesky Setup"
   ]
  },
  {
   "cell_type": "code",
   "execution_count": 28,
   "id": "0d45a981-86cd-41f0-bc0a-066afdc985b4",
   "metadata": {
    "tags": []
   },
   "outputs": [],
   "source": [
    "# Load some code called \"Client\" from the \"atproto\" library that will help us work with Bluesky\n",
    "from atproto import Client"
   ]
  },
  {
   "cell_type": "markdown",
   "id": "c699f603-a604-43b9-af9e-27e3ca60f542",
   "metadata": {},
   "source": [
    "(Optional) Step 1b: Make a fake Bluesky connection with the fake_atproto library"
   ]
  },
  {
   "cell_type": "code",
   "execution_count": 29,
   "id": "24a8ae3d-bc92-4628-b348-75d1ffcf1bfe",
   "metadata": {},
   "outputs": [
    {
     "data": {
      "text/html": [
       "<strong style='color:darkred'>Fake atproto (bsky.app) is replacing the atproto.blue library. Fake atproto doesn&#x27;t need real passwords, and prevents you from accessing real Bluesky</strong>"
      ],
      "text/plain": [
       "<IPython.core.display.HTML object>"
      ]
     },
     "metadata": {},
     "output_type": "display_data"
    }
   ],
   "source": [
    "%run ../../fake_apis/fake_atproto.ipynb"
   ]
  },
  {
   "cell_type": "markdown",
   "id": "d06b03c9-529d-4251-a8b6-ee7feb695b52",
   "metadata": {},
   "source": [
    "Login to Bluesky"
   ]
  },
  {
   "cell_type": "code",
   "execution_count": 30,
   "id": "72567e4d-e517-43f1-a949-49fb29120ddf",
   "metadata": {},
   "outputs": [
    {
     "data": {
      "text/html": [
       "<strong style='color:darkred'>Fake atproto is pretending to set up a client connection to: https://bsky.social</strong>"
      ],
      "text/plain": [
       "<IPython.core.display.HTML object>"
      ]
     },
     "metadata": {},
     "output_type": "display_data"
    },
    {
     "data": {
      "text/html": [
       "<strong style='color:darkred'>Fake atproto is pretending log into your account: your_account_name.bsky.social</strong>"
      ],
      "text/plain": [
       "<IPython.core.display.HTML object>"
      ]
     },
     "metadata": {},
     "output_type": "display_data"
    }
   ],
   "source": [
    "# Login to Bluesky\n",
    "# TODO: put your account name and password below\n",
    "\n",
    "client = Client(base_url=\"https://bsky.social\")\n",
    "client.login(\"your_account_name.bsky.social\", \"m#5@_fake_bsky_password_$%Ds\")"
   ]
  },
  {
   "cell_type": "markdown",
   "id": "21e1b71b-b881-4227-82f4-76df85e47df0",
   "metadata": {},
   "source": [
    "## Make a function to get follow suggestions\n",
    "Now we make a function that will generate follow suggestions.\n",
    "\n",
    "The function takes a username (who we are making suggestions for), and a num_followers_to_check, which limits how many follows of our user we check (to limit how many requests to Bluesky we make at a time)\n",
    "\n",
    "We then get a list of the follows for our user, and we create a dictionary counter (`possible_suggestion_counts`).\n",
    "\n",
    "For each of our user's follows, we get a list of who they follow (the follow-follows). Then for each of the follow_follows, we see if that user is in the `possible_suggestion_counts` dictionary, and add it if it wasn't there (starting with 1), or add 1 to it if it was already there.\n",
    "\n",
    "After the for loop we have counts for our possible suggestions (how often the follow-follows appeared). So we sort the list to put the most common ones at the top, and we return the results.client.get_follows(username, limit=num_followers_to_check)"
   ]
  },
  {
   "cell_type": "code",
   "execution_count": 31,
   "id": "8281bd1e-4007-4b3c-a212-dec1deb50402",
   "metadata": {},
   "outputs": [],
   "source": [
    "def get_follow_suggestions(username, num_followers_to_check=3):\n",
    "\n",
    "    # find the people that user currently follows\n",
    "    follow_users = client.get_follows(username, limit=num_followers_to_check).follows\n",
    "\n",
    "    # dictionary to track who my follow follows are, as possible suggestions\n",
    "    # The keys will be the username, and the values will be how often they\n",
    "    # appeared as follow follows\n",
    "    possible_suggestion_counts = {}\n",
    "\n",
    "    # for each of those people, see who they follow\n",
    "    for follow_user in follow_users:\n",
    "        print(\"looking for followings of user: \" + follow_user.handle)\n",
    "        # Get followers of the follow_user (note: 100 is the max follows you can get at a time)\n",
    "        follow_follow_users = client.get_follows(follow_user.handle, limit=100).follows\n",
    "        \n",
    "        # print out the follow-follows (using some python tricks to make it display nicer)\n",
    "        print(\"  the follow-follows are: \" + str(list(map(lambda x: x.handle, follow_follow_users))))\n",
    "\n",
    "        for follow_follow_user in follow_follow_users:\n",
    "            possible_suggestion = follow_follow_user.handle\n",
    "\n",
    "            # If this possible suggestion is not yet in the dictionary,\n",
    "            # add it with a count of one\n",
    "            if possible_suggestion not in possible_suggestion_counts:\n",
    "                possible_suggestion_counts[possible_suggestion] = 1\n",
    "            else: #otherwise, update the count in the dictionary\n",
    "                possible_suggestion_counts[possible_suggestion] += 1\n",
    "\n",
    "        print()\n",
    "\n",
    "    # sort the suggestions by who appeared the most\n",
    "    ordered_suggestions = sorted(possible_suggestion_counts.items(), key=lambda x: -x[1])\n",
    "    # recommend that I follow the people who those people follow most\n",
    "    return ordered_suggestions"
   ]
  },
  {
   "cell_type": "markdown",
   "id": "e55421ee-bda1-44fc-b7eb-1afa3ae4aed7",
   "metadata": {},
   "source": [
    "## Test our function (suggest follows)\n",
    "Now that our function is ready, we can test it out and see who we suggest our \"fake_user\" should follow (if you skip fake_atproto and log into real Bluesky, you can do this for real users)"
   ]
  },
  {
   "cell_type": "code",
   "execution_count": 32,
   "id": "b08b988b-4b78-4b0b-95cc-226ab2f727fe",
   "metadata": {
    "tags": []
   },
   "outputs": [
    {
     "name": "stdout",
     "output_type": "stream",
     "text": [
      "fake_user\n",
      "looking for followings of user: unreal_user\n",
      "unreal_user\n",
      "  the follow-follows are: ['great_user', 'awesome_user']\n",
      "\n",
      "looking for followings of user: imaginary_user\n",
      "imaginary_user\n",
      "  the follow-follows are: ['ok_user', 'awesome_user']\n",
      "\n",
      "looking for followings of user: false_user\n",
      "false_user\n",
      "  the follow-follows are: ['great_user', 'awesome_user', 'mediocre_user', 'another_user']\n",
      "\n"
     ]
    },
    {
     "data": {
      "text/plain": [
       "[('awesome_user', 3),\n",
       " ('great_user', 2),\n",
       " ('ok_user', 1),\n",
       " ('mediocre_user', 1),\n",
       " ('another_user', 1)]"
      ]
     },
     "metadata": {},
     "output_type": "display_data"
    }
   ],
   "source": [
    "suggestions = get_follow_suggestions(\"fake_user\", num_followers_to_check=5)\n",
    "\n",
    "display(suggestions)"
   ]
  },
  {
   "cell_type": "markdown",
   "id": "94f52813-14a2-4371-92db-c3d742f97a53",
   "metadata": {},
   "source": [
    "## Try it youself!\n",
    "\n",
    "If you skip the fake_atproto step and run this on real Discord, you might see some issues with the suggestions that we haven't accounted for, such as:\n",
    "- it might suggest the user follow themself, or someone they already follow\n",
    "- the follow lists can be very long and you might not be getting the whole list in the `client.get_follows()` function call (you could use track a [cursor](https://atproto.blue/en/latest/atproto_client/client.html#atproto_client.client.client.Client.get_followers) value and repeat calls to the `client.get_follows()` to get more)\n",
    "\n",
    "We could of course add more code to deal with those issues, but hopefully you can at least get the idea of how this recommendation algorithm works :)"
   ]
  },
  {
   "cell_type": "code",
   "execution_count": null,
   "id": "e267ec90-69f2-4fc3-935b-709a185f3b62",
   "metadata": {},
   "outputs": [],
   "source": []
  }
 ],
 "metadata": {
  "kernelspec": {
   "display_name": "Python 3 (ipykernel)",
   "language": "python",
   "name": "python3"
  },
  "language_info": {
   "codemirror_mode": {
    "name": "ipython",
    "version": 3
   },
   "file_extension": ".py",
   "mimetype": "text/x-python",
   "name": "python",
   "nbconvert_exporter": "python",
   "pygments_lexer": "ipython3",
   "version": "3.12.5"
  }
 },
 "nbformat": 4,
 "nbformat_minor": 5
}
