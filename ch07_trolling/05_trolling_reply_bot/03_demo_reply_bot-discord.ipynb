{
 "cells": [
  {
   "cell_type": "markdown",
   "id": "67655e14-ea22-4ff1-9b83-2735028b6dd8",
   "metadata": {
    "tags": []
   },
   "source": [
    "# Demo: Trolling a Discord Command Bot"
   ]
  },
  {
   "cell_type": "markdown",
   "id": "9213c974-eee0-404d-b16e-a3a61b0d18db",
   "metadata": {},
   "source": [
    "We are going to build a Discord Command Bot. \n",
    "- It will have a [slash command](https://support.discord.com/hc/en-us/articles/1500000368501-Slash-Commands-FAQ) called `do_action` which will ask us to provide an \"action\"\n",
    "- The bot will then reply, \"I will now ____\" (where the ___ is the action the user provided).\n",
    "\n",
    "Then we will try trolling it, and fixing it, and trolling it again.\n",
    "\n",
    "\n",
    "## Log into Discord (with a different python library)\n",
    "In order to create a discord command, we will use a different Python library to help us build a Discord Bot. This library is called [interactions.py](https://interactions-py.github.io/interactions.py/).\n",
    "\n",
    "This different library works fairly similarly to the discord.py library we used before, but is better for [creating slash commands](https://interactions-py.github.io/interactions.py/Guides/03%20Creating%20Commands/) "
   ]
  },
  {
   "cell_type": "code",
   "execution_count": 1,
   "id": "ed4d794b-94dc-48bc-bd59-557d2251a135",
   "metadata": {
    "tags": []
   },
   "outputs": [],
   "source": [
    "# Load some code called \"interactions\" that will help us make Discord commands\n",
    "import interactions\n",
    "\n",
    "# Load another library that helps the bot work in Jupyter Noteboook\n",
    "import nest_asyncio\n",
    "nest_asyncio.apply()"
   ]
  },
  {
   "cell_type": "markdown",
   "id": "fe7ff131-e8a4-4423-ab35-0c3818c6abd7",
   "metadata": {},
   "source": [
    "(optional) make a fake Discord connection with the fake_discord_interactions library\n",
    "\n",
    "For testing purposes, we've added this line of code, which loads a fake version of the \"interactions\" Discord library, so it wont actually connect to Discord. __If you want to try to actually connect to Discord, don't run this line of code.__"
   ]
  },
  {
   "cell_type": "code",
   "execution_count": 2,
   "id": "1cc9e058-bd45-44e4-a93e-4daa302e45bc",
   "metadata": {},
   "outputs": [
    {
     "data": {
      "text/html": [
       "<strong style='color:darkred;margin-left:0px'>Fake interactions discord is replacing the interactions.py library. Fake discord doesn&#x27;t need real passwords, and prevents you from accessing real discord</strong>"
      ],
      "text/plain": [
       "<IPython.core.display.HTML object>"
      ]
     },
     "metadata": {},
     "output_type": "display_data"
    }
   ],
   "source": [
    "# (optional)\n",
    "%run ../../fake_apis/fake_discord_interactions.ipynb"
   ]
  },
  {
   "cell_type": "markdown",
   "id": "11d85429-d48b-468d-a8a2-0641c5b54660",
   "metadata": {},
   "source": [
    "### save your discord token and the server/guild id you want your command to work on\n",
    "Note: To get the server/guild id, see the [discord instructions here](../../appendix/making_bot_account.md)."
   ]
  },
  {
   "cell_type": "code",
   "execution_count": 3,
   "id": "92e97170-80c2-42b7-b661-2eb909b71f14",
   "metadata": {},
   "outputs": [],
   "source": [
    "# Set up your Discord connection\n",
    "# TODO: put the discord token for your bot below\n",
    "discord_token = \"m#5@_fake_discord_token_$%Ds\"\n",
    "\n",
    "# TODO: put the server/guild id you want your bot command to work on below\n",
    "server_id = \"123456\""
   ]
  },
  {
   "cell_type": "markdown",
   "id": "0198af1c-b595-486a-aedc-755ab20b680a",
   "metadata": {},
   "source": [
    "## Bot 1: do whatever we are told\n",
    "Our first bot will make an action that creates a post, doing whatever the user told it to do"
   ]
  },
  {
   "cell_type": "markdown",
   "id": "a4d463f2-c04f-4ae4-975e-662ec38cfe3a",
   "metadata": {
    "tags": []
   },
   "source": [
    "### Create a \"/do_action\" command\n",
    "\n",
    "This code starts a bot that creates a discord [slash command](https://support.discord.com/hc/en-us/articles/1500000368501-Slash-Commands-FAQ) on the server with the `server_id`\n",
    " we saved above.\n",
    " \n",
    "The bot logs into discord, then starts (and displays a message showing it has started)\n",
    "\n",
    "The bot then creates a slash command called \"do_action\" which requires users to enter a piece of text for the \"action.\"\n",
    "\n",
    "The bot then creates a post that says \"I will now \\_\\_\\_\" where the \"\\_\\_\\_\" is the action the user provided."
   ]
  },
  {
   "cell_type": "code",
   "execution_count": 4,
   "id": "843c3c92-94ce-4788-93d8-72b8cfaf50b0",
   "metadata": {},
   "outputs": [
    {
     "data": {
      "text/html": [
       "<strong style='color:darkred;margin-left:0px'>Fake interactions.py is pretending to set up a Discord client connection</strong>"
      ],
      "text/plain": [
       "<IPython.core.display.HTML object>"
      ]
     },
     "metadata": {},
     "output_type": "display_data"
    },
    {
     "data": {
      "text/html": [
       "<strong style='color:darkred;margin-left:0px'>fake discord interactions setting a slash command called: &#x27;do_action&#x27;.  With options: action</strong>"
      ],
      "text/plain": [
       "<IPython.core.display.HTML object>"
      ]
     },
     "metadata": {},
     "output_type": "display_data"
    },
    {
     "data": {
      "text/html": [
       "<strong style='color:darkred;margin-left:0px'>Fake discord bot is fake logging in and starting to run</strong>"
      ],
      "text/plain": [
       "<IPython.core.display.HTML object>"
      ]
     },
     "metadata": {},
     "output_type": "display_data"
    },
    {
     "name": "stdout",
     "output_type": "stream",
     "text": [
      "The bot has started running\n",
      "We recieved the following action: \"jump\"\n"
     ]
    },
    {
     "data": {
      "text/html": [
       "<strong style='color:darkred;margin-left:0px'>Bot is posting: </strong>"
      ],
      "text/plain": [
       "<IPython.core.display.HTML object>"
      ]
     },
     "metadata": {},
     "output_type": "display_data"
    },
    {
     "data": {
      "text/html": [
       "<strong style='color:darkred;margin-left:20px'>I will now jump</strong>"
      ],
      "text/plain": [
       "<IPython.core.display.HTML object>"
      ]
     },
     "metadata": {},
     "output_type": "display_data"
    },
    {
     "data": {
      "text/html": [
       "<strong style='color:darkred;margin-left:0px'></strong>"
      ],
      "text/plain": [
       "<IPython.core.display.HTML object>"
      ]
     },
     "metadata": {},
     "output_type": "display_data"
    },
    {
     "name": "stdout",
     "output_type": "stream",
     "text": [
      "Bot is now stopping\n"
     ]
    },
    {
     "data": {
      "text/html": [
       "<strong style='color:darkred;margin-left:0px'>Fake discord bot is stopping</strong>"
      ],
      "text/plain": [
       "<IPython.core.display.HTML object>"
      ]
     },
     "metadata": {},
     "output_type": "display_data"
    }
   ],
   "source": [
    "# Log into discord\n",
    "bot = interactions.Client(token=discord_token)\n",
    "\n",
    "# Listen for when the bot is logged in and ready, then print that the bot has started\n",
    "@interactions.listen()\n",
    "async def on_ready():\n",
    "    print(\"The bot has started running\")    \n",
    "\n",
    "# Define a slash command called \"do_action\" for the given server_id\n",
    "@interactions.slash_command(name=\"do_action\", description=\"A bot that does what it's told.\", scopes=[server_id])\n",
    "# make the slash command require an option called \"action\"\n",
    "@interactions.slash_option(\n",
    "    name=\"action\",\n",
    "    description=\"Action for bot to do\",\n",
    "    required=True,\n",
    "    opt_type=interactions.OptionType.STRING\n",
    ")\n",
    "# Define a function to call when the \"/do_action\" command is used\n",
    "async def do_action_function(ctx: interactions.SlashContext, action: str):\n",
    "    print('We recieved the following action: \"' + action + '\"')\n",
    "    \n",
    "    # Make a post using the \"action\" provided by the user\n",
    "    await ctx.send(\"I will now \" + action)\n",
    "    \n",
    "    # For testing purposes, we close the bot after one response\n",
    "    # normally we wouldn't stop and leave the bot running so it\n",
    "    # can continue responding\n",
    "    print(\"Bot is now stopping\")\n",
    "    bot.stop()\n",
    "    \n",
    "\n",
    "# start running your bot\n",
    "bot.start()"
   ]
  },
  {
   "cell_type": "markdown",
   "id": "9780cad7-78d5-4fbd-8332-f1841165484b",
   "metadata": {},
   "source": [
    "Yay! It worked! Our bot  posted `I will now jump.` But there is a problem!"
   ]
  },
  {
   "cell_type": "markdown",
   "id": "c290af8d-bcbc-4d0b-a29b-f2c01ad91961",
   "metadata": {},
   "source": [
    "## Trolling bot 1\n",
    "This bot is really easy to troll, so if I repeat my steps and get a new action (this code is just a duplication of the code above):"
   ]
  },
  {
   "cell_type": "code",
   "execution_count": 5,
   "id": "87bdc703-5377-4188-b2b8-aae5bb0c170b",
   "metadata": {},
   "outputs": [
    {
     "data": {
      "text/html": [
       "<strong style='color:darkred;margin-left:0px'>Fake interactions.py is pretending to set up a Discord client connection</strong>"
      ],
      "text/plain": [
       "<IPython.core.display.HTML object>"
      ]
     },
     "metadata": {},
     "output_type": "display_data"
    },
    {
     "data": {
      "text/html": [
       "<strong style='color:darkred;margin-left:0px'>fake discord interactions setting a slash command called: &#x27;do_action&#x27;.  With options: action</strong>"
      ],
      "text/plain": [
       "<IPython.core.display.HTML object>"
      ]
     },
     "metadata": {},
     "output_type": "display_data"
    },
    {
     "data": {
      "text/html": [
       "<strong style='color:darkred;margin-left:0px'>Fake discord bot is fake logging in and starting to run</strong>"
      ],
      "text/plain": [
       "<IPython.core.display.HTML object>"
      ]
     },
     "metadata": {},
     "output_type": "display_data"
    },
    {
     "name": "stdout",
     "output_type": "stream",
     "text": [
      "The bot has started running\n",
      "We recieved the following action: \"do something horrible!\"\n"
     ]
    },
    {
     "data": {
      "text/html": [
       "<strong style='color:darkred;margin-left:0px'>Bot is posting: </strong>"
      ],
      "text/plain": [
       "<IPython.core.display.HTML object>"
      ]
     },
     "metadata": {},
     "output_type": "display_data"
    },
    {
     "data": {
      "text/html": [
       "<strong style='color:darkred;margin-left:20px'>I will now do something horrible!</strong>"
      ],
      "text/plain": [
       "<IPython.core.display.HTML object>"
      ]
     },
     "metadata": {},
     "output_type": "display_data"
    },
    {
     "data": {
      "text/html": [
       "<strong style='color:darkred;margin-left:0px'></strong>"
      ],
      "text/plain": [
       "<IPython.core.display.HTML object>"
      ]
     },
     "metadata": {},
     "output_type": "display_data"
    },
    {
     "name": "stdout",
     "output_type": "stream",
     "text": [
      "Bot is now stopping\n"
     ]
    },
    {
     "data": {
      "text/html": [
       "<strong style='color:darkred;margin-left:0px'>Fake discord bot is stopping</strong>"
      ],
      "text/plain": [
       "<IPython.core.display.HTML object>"
      ]
     },
     "metadata": {},
     "output_type": "display_data"
    }
   ],
   "source": [
    "# Log into discord\n",
    "bot = interactions.Client(token=discord_token)\n",
    "\n",
    "# Listen for when the bot is logged in and ready, then print that the bot has started\n",
    "@interactions.listen()\n",
    "async def on_ready():\n",
    "    print(\"The bot has started running\")    \n",
    "\n",
    "# Define a slash command called \"do_action\" for the given server_id\n",
    "@interactions.slash_command(name=\"do_action\", description=\"A bot that does what it's told.\", scopes=[server_id])\n",
    "# make the slash command require an option called \"action\"\n",
    "@interactions.slash_option(\n",
    "    name=\"action\",\n",
    "    description=\"Action for bot to do\",\n",
    "    required=True,\n",
    "    opt_type=interactions.OptionType.STRING\n",
    ")\n",
    "# Define a function to call when the \"/do_action\" command is used\n",
    "async def do_action_function(ctx: interactions.SlashContext, action: str):\n",
    "    print('We recieved the following action: \"' + action + '\"')\n",
    "    \n",
    "    # Make a post using the \"action\" provided by the user\n",
    "    await ctx.send(\"I will now \" + action)\n",
    "    \n",
    "    # For testing purposes, we close the bot after one response\n",
    "    # normally we wouldn't stop and leave the bot running so it\n",
    "    # can continue responding\n",
    "    print(\"Bot is now stopping\")\n",
    "    bot.stop()\n",
    "    \n",
    "\n",
    "# start running your bot\n",
    "bot.start()"
   ]
  },
  {
   "cell_type": "markdown",
   "id": "0c9d4a4b-146e-49bf-bf52-0f9824d2623f",
   "metadata": {},
   "source": [
    "Asked our bot to do the action: `do something horrible!`, and we replied `I will now do something horrible!`. \n",
    "\n",
    "They could have made us post something much worse!"
   ]
  },
  {
   "cell_type": "markdown",
   "id": "c015a29f-d259-41c1-a83b-b82574f1a5fb",
   "metadata": {},
   "source": [
    "## Bot 2: Trying to limit actions\n",
    "Let's try this again, but limit the actions we will do.\n",
    "- If someone asks us to \"run\", \"jump\", or \"fly\", we will do it\n",
    "- If someone asks us to do something else we will say:\n",
    "  - \"I do not recognize the command ___\" (with __ being whatever they said)\n",
    "  \n"
   ]
  },
  {
   "cell_type": "markdown",
   "id": "99499d3f-f70d-46b6-9ec6-14665ab699a6",
   "metadata": {},
   "source": [
    "### If tweet matches our pattern, reply\n",
    "We do the same code for this as before, but after we get the action we are told to do, we put another `if`/`else` to either do the action if we recognize it, or say we didn't recognize the action.\n",
    "\n",
    "We will use `in` to see if the action is in our list of allowed actions (called an allow_list)"
   ]
  },
  {
   "cell_type": "code",
   "execution_count": 6,
   "id": "2115a5e1-01d4-4f9f-8670-aa623c26df20",
   "metadata": {},
   "outputs": [
    {
     "data": {
      "text/html": [
       "<strong style='color:darkred;margin-left:0px'>Fake interactions.py is pretending to set up a Discord client connection</strong>"
      ],
      "text/plain": [
       "<IPython.core.display.HTML object>"
      ]
     },
     "metadata": {},
     "output_type": "display_data"
    },
    {
     "data": {
      "text/html": [
       "<strong style='color:darkred;margin-left:0px'>fake discord interactions setting a slash command called: &#x27;do_action&#x27;.  With options: action</strong>"
      ],
      "text/plain": [
       "<IPython.core.display.HTML object>"
      ]
     },
     "metadata": {},
     "output_type": "display_data"
    },
    {
     "data": {
      "text/html": [
       "<strong style='color:darkred;margin-left:0px'>Fake discord bot is fake logging in and starting to run</strong>"
      ],
      "text/plain": [
       "<IPython.core.display.HTML object>"
      ]
     },
     "metadata": {},
     "output_type": "display_data"
    },
    {
     "name": "stdout",
     "output_type": "stream",
     "text": [
      "The bot has started running\n",
      "We recieved the following action: \"fly\"\n"
     ]
    },
    {
     "data": {
      "text/html": [
       "<strong style='color:darkred;margin-left:0px'>Bot is posting: </strong>"
      ],
      "text/plain": [
       "<IPython.core.display.HTML object>"
      ]
     },
     "metadata": {},
     "output_type": "display_data"
    },
    {
     "data": {
      "text/html": [
       "<strong style='color:darkred;margin-left:20px'>I will now fly</strong>"
      ],
      "text/plain": [
       "<IPython.core.display.HTML object>"
      ]
     },
     "metadata": {},
     "output_type": "display_data"
    },
    {
     "data": {
      "text/html": [
       "<strong style='color:darkred;margin-left:0px'></strong>"
      ],
      "text/plain": [
       "<IPython.core.display.HTML object>"
      ]
     },
     "metadata": {},
     "output_type": "display_data"
    },
    {
     "name": "stdout",
     "output_type": "stream",
     "text": [
      "Bot is now stopping\n"
     ]
    },
    {
     "data": {
      "text/html": [
       "<strong style='color:darkred;margin-left:0px'>Fake discord bot is stopping</strong>"
      ],
      "text/plain": [
       "<IPython.core.display.HTML object>"
      ]
     },
     "metadata": {},
     "output_type": "display_data"
    }
   ],
   "source": [
    "# list the actions that we'll allow\n",
    "actions_allow_list = [\"run\", \"jump\", \"fly\"]\n",
    "    \n",
    "# Log into discord\n",
    "bot = interactions.Client(token=discord_token)\n",
    "\n",
    "# Listen for when the bot is logged in and ready, then print that the bot has started\n",
    "@interactions.listen()\n",
    "async def on_ready():\n",
    "    print(\"The bot has started running\")    \n",
    "\n",
    "# Define a slash command called \"do_action\" for the given server_id\n",
    "@interactions.slash_command(name=\"do_action\", description=\"A bot that does what it's told.\", scopes=[server_id])\n",
    "# make the slash command require an option called \"action\"\n",
    "@interactions.slash_option(\n",
    "    name=\"action\",\n",
    "    description=\"Action for bot to do\",\n",
    "    required=True,\n",
    "    opt_type=interactions.OptionType.STRING\n",
    ")\n",
    "# Define a function to call when the \"/do_action\" command is used\n",
    "async def do_action_function(ctx: interactions.SlashContext, action: str):\n",
    "    print('We recieved the following action: \"' + action + '\"')\n",
    "    \n",
    "     # See if it is one of our recognized actions\n",
    "    if(action in actions_allow_list):\n",
    "        # send our message in reply\n",
    "        await ctx.send(\"I will now \" + action)\n",
    "\n",
    "    else: # we didn't recognize the action\n",
    "        # make a new message which says we will NOT do the action\n",
    "        await ctx.send( \"I do not recognize the command \" + action)\n",
    "    \n",
    "    # For testing purposes, we close the bot after one response\n",
    "    # normally we wouldn't stop and leave the bot running so it\n",
    "    # can continue responding\n",
    "    print(\"Bot is now stopping\")\n",
    "    bot.stop()\n",
    "    \n",
    "# start running your bot\n",
    "bot.start()"
   ]
  },
  {
   "cell_type": "markdown",
   "id": "ed81d85f-8ae2-474d-b48e-5c187b1be78b",
   "metadata": {},
   "source": [
    "That one was in our allow list so it worked. Let's do it all again, with the tweet that caused us problems last time\n",
    "\n",
    "_Note: the code below is just copied from the code sections above_"
   ]
  },
  {
   "cell_type": "code",
   "execution_count": 7,
   "id": "324b0d40-7407-49bd-a951-12c0101742c0",
   "metadata": {},
   "outputs": [
    {
     "data": {
      "text/html": [
       "<strong style='color:darkred;margin-left:0px'>Fake interactions.py is pretending to set up a Discord client connection</strong>"
      ],
      "text/plain": [
       "<IPython.core.display.HTML object>"
      ]
     },
     "metadata": {},
     "output_type": "display_data"
    },
    {
     "data": {
      "text/html": [
       "<strong style='color:darkred;margin-left:0px'>fake discord interactions setting a slash command called: &#x27;do_action&#x27;.  With options: action</strong>"
      ],
      "text/plain": [
       "<IPython.core.display.HTML object>"
      ]
     },
     "metadata": {},
     "output_type": "display_data"
    },
    {
     "data": {
      "text/html": [
       "<strong style='color:darkred;margin-left:0px'>Fake discord bot is fake logging in and starting to run</strong>"
      ],
      "text/plain": [
       "<IPython.core.display.HTML object>"
      ]
     },
     "metadata": {},
     "output_type": "display_data"
    },
    {
     "name": "stdout",
     "output_type": "stream",
     "text": [
      "The bot has started running\n",
      "We recieved the following action: \"do something horrible!\"\n"
     ]
    },
    {
     "data": {
      "text/html": [
       "<strong style='color:darkred;margin-left:0px'>Bot is posting: </strong>"
      ],
      "text/plain": [
       "<IPython.core.display.HTML object>"
      ]
     },
     "metadata": {},
     "output_type": "display_data"
    },
    {
     "data": {
      "text/html": [
       "<strong style='color:darkred;margin-left:20px'>I do not recognize the command do something horrible!</strong>"
      ],
      "text/plain": [
       "<IPython.core.display.HTML object>"
      ]
     },
     "metadata": {},
     "output_type": "display_data"
    },
    {
     "data": {
      "text/html": [
       "<strong style='color:darkred;margin-left:0px'></strong>"
      ],
      "text/plain": [
       "<IPython.core.display.HTML object>"
      ]
     },
     "metadata": {},
     "output_type": "display_data"
    },
    {
     "name": "stdout",
     "output_type": "stream",
     "text": [
      "Bot is now stopping\n"
     ]
    },
    {
     "data": {
      "text/html": [
       "<strong style='color:darkred;margin-left:0px'>Fake discord bot is stopping</strong>"
      ],
      "text/plain": [
       "<IPython.core.display.HTML object>"
      ]
     },
     "metadata": {},
     "output_type": "display_data"
    }
   ],
   "source": [
    "# list the actions that we'll allow\n",
    "actions_allow_list = [\"run\", \"jump\", \"fly\"]\n",
    "    \n",
    "# Log into discord\n",
    "bot = interactions.Client(token=discord_token)\n",
    "\n",
    "# Listen for when the bot is logged in and ready, then print that the bot has started\n",
    "@interactions.listen()\n",
    "async def on_ready():\n",
    "    print(\"The bot has started running\")    \n",
    "\n",
    "# Define a slash command called \"do_action\" for the given server_id\n",
    "@interactions.slash_command(name=\"do_action\", description=\"A bot that does what it's told.\", scopes=[server_id])\n",
    "# make the slash command require an option called \"action\"\n",
    "@interactions.slash_option(\n",
    "    name=\"action\",\n",
    "    description=\"Action for bot to do\",\n",
    "    required=True,\n",
    "    opt_type=interactions.OptionType.STRING\n",
    ")\n",
    "# Define a function to call when the \"/do_action\" command is used\n",
    "async def do_action_function(ctx: interactions.SlashContext, action: str):\n",
    "    print('We recieved the following action: \"' + action + '\"')\n",
    "    \n",
    "     # See if it is one of our recognized actions\n",
    "    if(action in actions_allow_list):\n",
    "        # send our message in reply\n",
    "        await ctx.send(\"I will now \" + action)\n",
    "\n",
    "    else: # we didn't recognize the action\n",
    "        # make a new message which says we will NOT do the action\n",
    "        await ctx.send( \"I do not recognize the command \" + action)\n",
    "    \n",
    "    # For testing purposes, we close the bot after one response\n",
    "    # normally we wouldn't stop and leave the bot running so it\n",
    "    # can continue responding\n",
    "    print(\"Bot is now stopping\")\n",
    "    bot.stop()\n",
    "    \n",
    "# start running your bot\n",
    "bot.start()"
   ]
  },
  {
   "cell_type": "markdown",
   "id": "afc64a17-31df-4d18-b56c-407fb2a5bfef",
   "metadata": {},
   "source": [
    "Ok, this time we said `I do not recognize the command do something horrible!`. \n",
    "\n",
    "That looks a little better! Are we safe now?"
   ]
  },
  {
   "cell_type": "markdown",
   "id": "3d46cfe7-52c7-4394-87d3-90aa97af1a17",
   "metadata": {},
   "source": [
    "## Trolling bot 2\n",
    "No, it turns out we are not safe.\n",
    "\n",
    "Let's find the latest mention again and see what happens"
   ]
  },
  {
   "cell_type": "code",
   "execution_count": 8,
   "id": "86eb891b-dd4f-40e0-985d-bf9cd6594c42",
   "metadata": {},
   "outputs": [
    {
     "data": {
      "text/html": [
       "<strong style='color:darkred;margin-left:0px'>Fake interactions.py is pretending to set up a Discord client connection</strong>"
      ],
      "text/plain": [
       "<IPython.core.display.HTML object>"
      ]
     },
     "metadata": {},
     "output_type": "display_data"
    },
    {
     "data": {
      "text/html": [
       "<strong style='color:darkred;margin-left:0px'>fake discord interactions setting a slash command called: &#x27;do_action&#x27;.  With options: action</strong>"
      ],
      "text/plain": [
       "<IPython.core.display.HTML object>"
      ]
     },
     "metadata": {},
     "output_type": "display_data"
    },
    {
     "data": {
      "text/html": [
       "<strong style='color:darkred;margin-left:0px'>Fake discord bot is fake logging in and starting to run</strong>"
      ],
      "text/plain": [
       "<IPython.core.display.HTML object>"
      ]
     },
     "metadata": {},
     "output_type": "display_data"
    },
    {
     "name": "stdout",
     "output_type": "stream",
     "text": [
      "The bot has started running\n",
      "We recieved the following action: \"stop talking. But that doesn't mean I won't say horrible things like: I hate everybody!\"\n"
     ]
    },
    {
     "data": {
      "text/html": [
       "<strong style='color:darkred;margin-left:0px'>Bot is posting: </strong>"
      ],
      "text/plain": [
       "<IPython.core.display.HTML object>"
      ]
     },
     "metadata": {},
     "output_type": "display_data"
    },
    {
     "data": {
      "text/html": [
       "<strong style='color:darkred;margin-left:20px'>I do not recognize the command stop talking. But that doesn&#x27;t mean I won&#x27;t say horrible things like: I hate everybody!</strong>"
      ],
      "text/plain": [
       "<IPython.core.display.HTML object>"
      ]
     },
     "metadata": {},
     "output_type": "display_data"
    },
    {
     "data": {
      "text/html": [
       "<strong style='color:darkred;margin-left:0px'></strong>"
      ],
      "text/plain": [
       "<IPython.core.display.HTML object>"
      ]
     },
     "metadata": {},
     "output_type": "display_data"
    },
    {
     "name": "stdout",
     "output_type": "stream",
     "text": [
      "Bot is now stopping\n"
     ]
    },
    {
     "data": {
      "text/html": [
       "<strong style='color:darkred;margin-left:0px'>Fake discord bot is stopping</strong>"
      ],
      "text/plain": [
       "<IPython.core.display.HTML object>"
      ]
     },
     "metadata": {},
     "output_type": "display_data"
    }
   ],
   "source": [
    "# list the actions that we'll allow\n",
    "actions_allow_list = [\"run\", \"jump\", \"fly\"]\n",
    "    \n",
    "# Log into discord\n",
    "bot = interactions.Client(token=discord_token)\n",
    "\n",
    "# Listen for when the bot is logged in and ready, then print that the bot has started\n",
    "@interactions.listen()\n",
    "async def on_ready():\n",
    "    print(\"The bot has started running\")    \n",
    "\n",
    "# Define a slash command called \"do_action\" for the given server_id\n",
    "@interactions.slash_command(name=\"do_action\", description=\"A bot that does what it's told.\", scopes=[server_id])\n",
    "# make the slash command require an option called \"action\"\n",
    "@interactions.slash_option(\n",
    "    name=\"action\",\n",
    "    description=\"Action for bot to do\",\n",
    "    required=True,\n",
    "    opt_type=interactions.OptionType.STRING\n",
    ")\n",
    "# Define a function to call when the \"/do_action\" command is used\n",
    "async def do_action_function(ctx: interactions.SlashContext, action: str):\n",
    "    print('We recieved the following action: \"' + action + '\"')\n",
    "    \n",
    "     # See if it is one of our recognized actions\n",
    "    if(action in actions_allow_list):\n",
    "        # send our message in reply\n",
    "        await ctx.send(\"I will now \" + action)\n",
    "\n",
    "    else: # we didn't recognize the action\n",
    "        # make a new message which says we will NOT do the action\n",
    "        await ctx.send( \"I do not recognize the command \" + action)\n",
    "    \n",
    "    # For testing purposes, we close the bot after one response\n",
    "    # normally we wouldn't stop and leave the bot running so it\n",
    "    # can continue responding\n",
    "    print(\"Bot is now stopping\")\n",
    "    bot.stop()\n",
    "    \n",
    "# start running your bot\n",
    "bot.start()"
   ]
  },
  {
   "cell_type": "markdown",
   "id": "67cefd22-c2fa-456e-b4ac-7be335ce9920",
   "metadata": {},
   "source": [
    "Oh no! Someone told us the action was:\n",
    "- `stop talking. But that doesn't mean I won't say horrible things like: I hate everybody!`\n",
    "\n",
    "And we replied:\n",
    "- `I do not recognize the command stop talking. But that doesn't mean I won't say horrible things like: I hate everybody!`\n",
    "\n",
    "Making a bot that is troll proof is very difficult! You either need to severely limit how your bot engages with people, or do a ton of work trying to prevent trolling and fix problems when people find a new way of trolling you.\n",
    "\n",
    "If you want to learn more, you can revisit the story of what went wrong with the Microsoft Tay bot: [How to Make a Bot That Isn't Racist](https://www.vice.com/en_us/article/mg7g3y/how-to-make-a-not-racist-bot)"
   ]
  }
 ],
 "metadata": {
  "kernelspec": {
   "display_name": "Python 3 (ipykernel)",
   "language": "python",
   "name": "python3"
  },
  "language_info": {
   "codemirror_mode": {
    "name": "ipython",
    "version": 3
   },
   "file_extension": ".py",
   "mimetype": "text/x-python",
   "name": "python",
   "nbconvert_exporter": "python",
   "pygments_lexer": "ipython3",
   "version": "3.10.4"
  }
 },
 "nbformat": 4,
 "nbformat_minor": 5
}
